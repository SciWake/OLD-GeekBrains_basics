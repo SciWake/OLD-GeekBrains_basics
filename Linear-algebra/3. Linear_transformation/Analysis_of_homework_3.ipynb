{
  "nbformat": 4,
  "nbformat_minor": 0,
  "metadata": {
    "colab": {
      "name": "Лин. алгебра. ДЗ №3.ipynb",
      "provenance": [],
      "collapsed_sections": []
    },
    "kernelspec": {
      "name": "python3",
      "display_name": "Python 3"
    }
  },
  "cells": [
    {
      "cell_type": "markdown",
      "metadata": {
        "id": "iF0X8EDGtTD5"
      },
      "source": [
        "__1.__ Найти собственные векторы и собственные значения для линейного оператора, заданного матрицей\n",
        "\n",
        "$$A=\\begin{pmatrix}\n",
        "-1 & -6\\\\ \n",
        "2 & 6\n",
        "\\end{pmatrix}.$$"
      ]
    },
    {
      "cell_type": "markdown",
      "metadata": {
        "id": "KSaH_Rg_tjQh"
      },
      "source": [
        "Посчитаем характеристический многочлен:\n",
        "\n",
        "$\\begin{vmatrix}\n",
        "-1-\\lambda & -6\\\\ \n",
        "2 & 6- \\lambda\n",
        "\\end{vmatrix} = (-1-\\lambda)(6-\\lambda) + 12 = \\lambda^2-5\\lambda+6.$\n",
        "\n",
        "\n",
        "$\\lambda_1 = 2, \\space \\lambda_2 = 3$\n",
        "\n",
        "Находим собственные вектора:\n",
        "\n",
        "\n",
        "$\\lambda = 2$\n",
        "$$\\begin{pmatrix}\n",
        "-1-2 & -6\\\\ \n",
        "2 & 6-2\n",
        "\\end{pmatrix}\n",
        "\\begin{pmatrix}\n",
        "x_{1}\\\\ \n",
        "x_{2}\n",
        "\\end{pmatrix}=\n",
        "\\begin{pmatrix}\n",
        "0\\\\ \n",
        "0\n",
        "\\end{pmatrix}.\n",
        "$$\n",
        "\n",
        "\n",
        "$$\\begin{cases}\n",
        "-3x_{1}-6x_{2}= 0 \\\\\n",
        "2x_{1}+4x_{2}= 0\n",
        "\\end{cases} \\sim  \\begin{cases}\n",
        "x_{1} = 2 , \\\\\n",
        "x_{2}= -1.\n",
        "\\end{cases}$$ \n",
        "\n",
        "\n",
        "$\\lambda = 3$\n",
        "$$\\begin{pmatrix}\n",
        "-1-3 & -6\\\\ \n",
        "2 & 6-3\n",
        "\\end{pmatrix}\n",
        "\\begin{pmatrix}\n",
        "x_{1}\\\\ \n",
        "x_{2}\n",
        "\\end{pmatrix}=\n",
        "\\begin{pmatrix}\n",
        "0\\\\ \n",
        "0\n",
        "\\end{pmatrix}.\n",
        "$$\n",
        "\n",
        "\n",
        "$$\\begin{cases}\n",
        "-4x_{1}-6x_{2}= 0 \\\\\n",
        "2x_{1}+3x_{2}= 0\n",
        "\\end{cases} \\sim  \\begin{cases}\n",
        "x_{1} = 3 , \\\\\n",
        "x_{2}= -2.\n",
        "\\end{cases}$$ \n"
      ]
    },
    {
      "cell_type": "code",
      "metadata": {
        "id": "9TQH_LA0v6DS",
        "outputId": "b649400a-0135-4e50-b9c4-d38783054e73",
        "colab": {
          "base_uri": "https://localhost:8080/",
          "height": 155
        }
      },
      "source": [
        "import numpy as np\n",
        "np.set_printoptions(precision=2, suppress=True)\n",
        "\n",
        "a = np.array([[-1, -6], [2, 6]])\n",
        "w, v = np.linalg.eig(a)\n",
        "\n",
        "print(f'Матрица A:\\n{a}')\n",
        "print(f'Собственные значения:\\n{w}')\n",
        "print(f'Собственные векторы:\\n{v}')"
      ],
      "execution_count": null,
      "outputs": [
        {
          "output_type": "stream",
          "text": [
            "Матрица A:\n",
            "[[-1 -6]\n",
            " [ 2  6]]\n",
            "Собственные значения:\n",
            "[2. 3.]\n",
            "Собственные векторы:\n",
            "[[-0.89  0.83]\n",
            " [ 0.45 -0.55]]\n"
          ],
          "name": "stdout"
        }
      ]
    },
    {
      "cell_type": "markdown",
      "metadata": {
        "id": "ulJfWMLVxW4d"
      },
      "source": [
        "__2.__ Дан оператор поворота на 180 градусов, задаваемый матрицей \n",
        "\n",
        "$$A=\\begin{pmatrix}\n",
        "-1 & 0\\\\ \n",
        "0 & -1\n",
        "\\end{pmatrix}.$$\n",
        "\n",
        "Показать, что __любой__ вектор является для него собственным.\n"
      ]
    },
    {
      "cell_type": "markdown",
      "metadata": {
        "id": "ZJ9-jS_-xgu6"
      },
      "source": [
        "Рассмотрим вектор: $(a,b)$, где a и b - любые.\n",
        "Нетрудно заметить, что его собственное значение равно -1.\n",
        "\n",
        "$$\\begin{pmatrix}\n",
        "-1 & 0\\\\ \n",
        "0 & -1\n",
        "\\end{pmatrix}\n",
        "\\begin{pmatrix}\n",
        "a\\\\ \n",
        "b\n",
        "\\end{pmatrix}=\n",
        "-1\n",
        "\\begin{pmatrix}\n",
        "a\\\\ \n",
        "b\n",
        "\\end{pmatrix}.\n",
        "$$\n",
        "\n",
        "Равенство верно при любых a и b.\n",
        "\n"
      ]
    },
    {
      "cell_type": "code",
      "metadata": {
        "id": "cJMAdNylyTMW",
        "outputId": "342e8467-3fb6-4f78-da09-02575877c56f",
        "colab": {
          "base_uri": "https://localhost:8080/",
          "height": 155
        }
      },
      "source": [
        "a = np.array([[-1, 0], [0, -1]])\n",
        "w, v = np.linalg.eig(a)\n",
        "\n",
        "print(f'Матрица A:\\n{a}')\n",
        "print(f'Собственные значения:\\n{w}')\n",
        "print(f'Собственные векторы:\\n{v}')"
      ],
      "execution_count": null,
      "outputs": [
        {
          "output_type": "stream",
          "text": [
            "Матрица A:\n",
            "[[-1  0]\n",
            " [ 0 -1]]\n",
            "Собственные значения:\n",
            "[-1. -1.]\n",
            "Собственные векторы:\n",
            "[[1. 0.]\n",
            " [0. 1.]]\n"
          ],
          "name": "stdout"
        }
      ]
    },
    {
      "cell_type": "markdown",
      "metadata": {
        "id": "kq3MI85Uyb2c"
      },
      "source": [
        "__3.__ Пусть линейный оператор задан матрицей\n",
        "\n",
        "$$A=\\begin{pmatrix}\n",
        "1 & 1\\\\ \n",
        "-1 & 3\n",
        "\\end{pmatrix}.$$\n",
        "\n",
        "Установить, является ли вектор $x=(1,1)$ собственным вектором этого линейного оператора."
      ]
    },
    {
      "cell_type": "markdown",
      "metadata": {
        "id": "Wdux6y3RyccG"
      },
      "source": [
        "$$\\begin{pmatrix}\n",
        "1 & 1\\\\ \n",
        "-1 & 3\n",
        "\\end{pmatrix}\n",
        "\\begin{pmatrix}\n",
        "1\\\\ \n",
        "1\n",
        "\\end{pmatrix}=\n",
        "\\lambda\n",
        "\\begin{pmatrix}\n",
        "1\\\\ \n",
        "1\n",
        "\\end{pmatrix}.\n",
        "$$\n",
        "\n",
        "$$\\Rightarrow\n",
        "\\begin{cases}\n",
        "\\lambda=2\\\\\n",
        "\\lambda=2\n",
        "\\end{cases}\n",
        "\\Rightarrow\n",
        "\\lambda=2.$$\n",
        "\n",
        "Вектор является собственным"
      ]
    },
    {
      "cell_type": "code",
      "metadata": {
        "id": "7EAbax_Vy-Al",
        "outputId": "4212c534-6110-4adf-92ac-43e4fc59f2cc",
        "colab": {
          "base_uri": "https://localhost:8080/",
          "height": 155
        }
      },
      "source": [
        "a = np.array([[1, 1], [-1, 3]])\n",
        "w, v = np.linalg.eig(a)\n",
        "\n",
        "print(f'Матрица A:\\n{a}')\n",
        "print(f'Собственные значения:\\n{w}')\n",
        "print(f'Собственные векторы:\\n{v}')"
      ],
      "execution_count": null,
      "outputs": [
        {
          "output_type": "stream",
          "text": [
            "Матрица A:\n",
            "[[ 1  1]\n",
            " [-1  3]]\n",
            "Собственные значения:\n",
            "[2. 2.]\n",
            "Собственные векторы:\n",
            "[[ 0.71 -0.71]\n",
            " [ 0.71 -0.71]]\n"
          ],
          "name": "stdout"
        }
      ]
    },
    {
      "cell_type": "markdown",
      "metadata": {
        "id": "y2omdJNhzEJs"
      },
      "source": [
        "__4.__ Пусть линейный оператор задан матрицей\n",
        "\n",
        "$$A=\\begin{pmatrix}\n",
        "0 & 3 & 0\\\\ \n",
        "3 & 0 & 0\\\\\n",
        "0 & 0 & 3\n",
        "\\end{pmatrix}.$$\n",
        "\n",
        "Установить, является ли вектор $x=(3, -3, -4)$ собственным вектором этого линейного оператора."
      ]
    },
    {
      "cell_type": "markdown",
      "metadata": {
        "id": "TGIYqqmXzJiC"
      },
      "source": [
        "$$\\begin{pmatrix}\n",
        "0 & 3 & 0\\\\ \n",
        "3 & 0 & 0 \\\\\n",
        "0 & 0 & 3\n",
        "\\end{pmatrix}\n",
        "\\begin{pmatrix}\n",
        "3\\\\ \n",
        "-3 \\\\\n",
        "-4\n",
        "\\end{pmatrix}=\n",
        "\\lambda\n",
        "\\begin{pmatrix}\n",
        "3\\\\ \n",
        "-3 \\\\\n",
        "-4\n",
        "\\end{pmatrix}.\n",
        "$$\n",
        "\n",
        "$$\\Rightarrow\n",
        "\\begin{cases}\n",
        "3\\lambda=-9\\\\\n",
        "-3\\lambda=9 \\\\\n",
        "-4\\lambda = -12\n",
        "\\end{cases}\n",
        "\\Rightarrow\n",
        "\\begin{cases}\n",
        "\\lambda=-3 \\\\\n",
        "\\lambda = 3\n",
        "\\end{cases}$$\n",
        "\n",
        "Вектор не является собственным"
      ]
    },
    {
      "cell_type": "code",
      "metadata": {
        "id": "elMuPQN0z5im",
        "outputId": "7cd878f6-51af-4b45-ee32-df10e3cff337",
        "colab": {
          "base_uri": "https://localhost:8080/",
          "height": 190
        }
      },
      "source": [
        "a = np.array([[0, 3, 0], [3, 0, 0], [0, 0, 3]])\n",
        "w, v = np.linalg.eig(a)\n",
        "\n",
        "print(f'Матрица A:\\n{a}')\n",
        "print(f'Собственные значения:\\n{w}')\n",
        "print(f'Собственные векторы:\\n{v}')"
      ],
      "execution_count": null,
      "outputs": [
        {
          "output_type": "stream",
          "text": [
            "Матрица A:\n",
            "[[0 3 0]\n",
            " [3 0 0]\n",
            " [0 0 3]]\n",
            "Собственные значения:\n",
            "[ 3. -3.  3.]\n",
            "Собственные векторы:\n",
            "[[ 0.71 -0.71  0.  ]\n",
            " [ 0.71  0.71  0.  ]\n",
            " [ 0.    0.    1.  ]]\n"
          ],
          "name": "stdout"
        }
      ]
    },
    {
      "cell_type": "markdown",
      "metadata": {
        "id": "Q8Q8FO9IpGkx"
      },
      "source": [
        "$$ \\begin{pmatrix}\n",
        "6\\\\ \n",
        "2 \\\\\n",
        "0 \\\\\n",
        "0 \n",
        "\\end  {pmatrix} + a_1 \\cdot\n",
        "\\begin{pmatrix}\n",
        "-3/2\\\\ \n",
        "-1/2\\\\\n",
        "1 \\\\\n",
        "0 \n",
        "\\end  {pmatrix} + a_2 \\cdot\n",
        "\\begin{pmatrix}\n",
        "-1\\\\ \n",
        "-2\\\\\n",
        "0 \\\\\n",
        "1 \n",
        "\\end  {pmatrix}$$"
      ]
    }
  ]
}