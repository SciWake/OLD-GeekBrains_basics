{
 "cells": [
  {
   "cell_type": "markdown",
   "metadata": {},
   "source": [
    "# Урок 2. Матрицы и матричные операции\n",
    "### Методический материал 1"
   ]
  },
  {
   "cell_type": "code",
   "execution_count": 4,
   "metadata": {},
   "outputs": [],
   "source": [
    "import numpy as np"
   ]
  },
  {
   "cell_type": "markdown",
   "metadata": {},
   "source": [
    "---\n",
    "#### Задание 1\n",
    "Установить, какие произведения матриц  AB  и  BA  определены, и найти размерности полученных матриц:\n",
    "\n",
    "1.  A  — матрица  4×2 ,  B  — матрица  4×2;\n",
    "    \n",
    "    Число столбцов матрицы А не равняется числу строк матрицы В. Данные матрицы нельзя умножать между собой.\n",
    "    \n",
    "    \n",
    "\n",
    "2.  A  — матрица  2×5 ,  B  — матрица  5×3 ;\n",
    "\n",
    "    $A=\\begin{pmatrix}\n",
    "    1 & -2 & 6 & 7 & 1\\\\ \n",
    "    6 & 5 & 1 & 5 & -4\n",
    "    \\end{pmatrix}$ и \n",
    "    $B=\\begin{pmatrix}\n",
    "    9 & 1 & 6\\\\ \n",
    "    5 & 1 & 1\\\\\n",
    "    4 & 7 & 3\\\\\n",
    "    9 & 0 & 8\\\\\n",
    "    1 & 2 & 5\n",
    "    \\end{pmatrix}$\n",
    "    \n",
    "    $AB=\\begin{pmatrix}\n",
    "    9 - 10 + 24 + 63 + 1 & 1 - 2 + 42 + 0 + 2 & 6 - 2 + 18 + 56 + 5\\\\ \n",
    "    54 + 25 + 4 + 45 - 4 & 6 + 5 + 7 + 0 - 8 & 36 + 5 + 3 + 40 - 20\n",
    "    \\end{pmatrix}$ = \n",
    "    $\\begin{pmatrix}\n",
    "    87 & 43 & 83\\\\\n",
    "    124 & 10 & 64\n",
    "    \\end{pmatrix}$\n",
    "    \n",
    "**Выполняем проверку с использованием Numpy**"
   ]
  },
  {
   "cell_type": "code",
   "execution_count": 6,
   "metadata": {},
   "outputs": [
    {
     "data": {
      "text/plain": [
       "array([[ 87,  43,  83],\n",
       "       [124,  10,  64]])"
      ]
     },
     "execution_count": 6,
     "metadata": {},
     "output_type": "execute_result"
    }
   ],
   "source": [
    "a = np.array([[1, -2, 6, 7, 1], [6, 5, 1, 5, -4]])\n",
    "b = np.array([[9, 1, 6], [5, 1, 1], [4, 7, 3], [9, 0, 8], [1, 2, 5]])\n",
    "\n",
    "np.dot(a, b)"
   ]
  },
  {
   "cell_type": "markdown",
   "metadata": {},
   "source": [
    "3.  A  — матрица  8×3 ,  B  — матрица  3×8 ;\n",
    "\n",
    "4.  A  — квадратная матрица  4×4 ,  B  — квадратная матрица  4×4 ."
   ]
  },
  {
   "cell_type": "code",
   "execution_count": null,
   "metadata": {},
   "outputs": [],
   "source": []
  }
 ],
 "metadata": {
  "kernelspec": {
   "display_name": "Python 3",
   "language": "python",
   "name": "python3"
  },
  "language_info": {
   "codemirror_mode": {
    "name": "ipython",
    "version": 3
   },
   "file_extension": ".py",
   "mimetype": "text/x-python",
   "name": "python",
   "nbconvert_exporter": "python",
   "pygments_lexer": "ipython3",
   "version": "3.7.6"
  }
 },
 "nbformat": 4,
 "nbformat_minor": 4
}
