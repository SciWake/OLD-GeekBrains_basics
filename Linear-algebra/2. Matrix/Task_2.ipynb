{
 "cells": [
  {
   "cell_type": "markdown",
   "metadata": {},
   "source": [
    "# Урок 2. Матрицы и матричные операции\n",
    "### Методический материал 1"
   ]
  },
  {
   "cell_type": "code",
   "execution_count": 77,
   "metadata": {},
   "outputs": [],
   "source": [
    "import numpy as np\n",
    "import random as rd"
   ]
  },
  {
   "cell_type": "markdown",
   "metadata": {},
   "source": [
    "#### Задание 1\n",
    "Установить, какие произведения матриц  AB  и  BA  определены, и найти размерности полученных матриц:\n",
    "\n",
    "1.  __A  — матрица  4×2 ,  B  — матрица  4×2;__\n",
    "    \n",
    "__Ответ:__ Произвести умножение матрицы **А** на **В**  и **B** на **А** невозможно, так как количество столбцов матрицы **А** не равно количеству строк матрицы **В**.\n",
    "\n",
    "    \n",
    "    \n",
    "\n",
    "2.  __A  — матрица  2×5 ,  B  — матрица  5×3;__\n",
    "\n",
    "$A=\\begin{pmatrix}\n",
    "1 & -2 & 6 & 7 & 1\\\\ \n",
    "6 & 5 & 1 & 5 & -4\n",
    "\\end{pmatrix}$ и \n",
    "$B=\\begin{pmatrix}\n",
    "9 & 1 & 6\\\\ \n",
    "5 & 1 & 1\\\\\n",
    "4 & 7 & 3\\\\\n",
    "9 & 0 & 8\\\\\n",
    "1 & 2 & 5\n",
    "\\end{pmatrix}$\n",
    "\n",
    "$AB=\\begin{pmatrix}\n",
    "9 - 10 + 24 + 63 + 1 & 1 - 2 + 42 + 0 + 2 & 6 - 2 + 18 + 56 + 5\\\\ \n",
    "54 + 25 + 4 + 45 - 4 & 6 + 5 + 7 + 0 - 8 & 36 + 5 + 3 + 40 - 20\n",
    "\\end{pmatrix}$ = \n",
    "$\\begin{pmatrix}\n",
    "87 & 43 & 83\\\\\n",
    "124 & 10 & 64\n",
    "\\end{pmatrix}$\n",
    "\n",
    "__Ответ:__ Если умножить матрицу **A** на матрицу **B**, будет матрица размерностью `3х3`. Матрицу **B** умножить на матриу **А** нельзя, так как количество столбцов матрицы **А** не равно количеству строк матрицы **В**.\n",
    "\n",
    "**Выполняем проверку через Numpy:**"
   ]
  },
  {
   "cell_type": "code",
   "execution_count": 33,
   "metadata": {},
   "outputs": [
    {
     "data": {
      "text/plain": [
       "array([[ 87,  43,  83],\n",
       "       [124,  10,  64]])"
      ]
     },
     "execution_count": 33,
     "metadata": {},
     "output_type": "execute_result"
    }
   ],
   "source": [
    "A = np.array([[1, -2, 6, 7, 1], [6, 5, 1, 5, -4]])\n",
    "B = np.array([[9, 1, 6], [5, 1, 1], [4, 7, 3], [9, 0, 8], [1, 2, 5]])\n",
    "\n",
    "np.dot(A, B)"
   ]
  },
  {
   "cell_type": "markdown",
   "metadata": {},
   "source": [
    "3.  __A  — матрица  8×3 ,  B  — матрица  3×8;__\n",
    "\n",
    "В задании 2, рассчёты производились для наглядности.\n",
    "\n",
    "__Ответ:__ Умножение матрицы **A** на матрицу **B**, даёт матрицу размерностью `8х8`. При умножени матрицы **B** на матрицу **А**, размерность итоговой матрицы составит `3х3`\n",
    "\n",
    "**Выполним проверку через Numpy:**"
   ]
  },
  {
   "cell_type": "code",
   "execution_count": 38,
   "metadata": {},
   "outputs": [
    {
     "name": "stdout",
     "output_type": "stream",
     "text": [
      "(8, 8)\n",
      "(3, 3)\n"
     ]
    }
   ],
   "source": [
    "A = np.ones((1, 8, 3))[0]\n",
    "B = np.ones((1, 3, 8))[0]\n",
    "\n",
    "print(np.dot(A, B).shape)\n",
    "print(np.dot(B, A).shape)"
   ]
  },
  {
   "cell_type": "markdown",
   "metadata": {},
   "source": [
    "4.  __A  — квадратная матрица  4×4 ,  B  — квадратная матрица  4×4.__\n",
    "\n",
    "__Ответ:__ Умножение матрицы **A** на матрицу **B**, даёт матрицу размерностью `4х4`. При умножени матрицы **B** на матрицу **А**, размерность итоговой матрицы составит `4х4`"
   ]
  },
  {
   "cell_type": "code",
   "execution_count": 39,
   "metadata": {},
   "outputs": [
    {
     "name": "stdout",
     "output_type": "stream",
     "text": [
      "(4, 4)\n",
      "(4, 4)\n"
     ]
    }
   ],
   "source": [
    "A = np.ones((1, 4, 4))[0]\n",
    "B = np.ones((1, 4, 4))[0]\n",
    "\n",
    "print(np.dot(A, B).shape)\n",
    "print(np.dot(B, A).shape)"
   ]
  },
  {
   "cell_type": "markdown",
   "metadata": {},
   "source": [
    "---\n",
    "#### Задание 2\n",
    "Найти сумму и произведение матриц $A=\\begin{pmatrix}\n",
    "1 & -2\\\\ \n",
    "3 & 0\n",
    "\\end{pmatrix}$ и $B=\\begin{pmatrix}\n",
    "4 & -1\\\\ \n",
    "0 & 5\n",
    "\\end{pmatrix}.$\n",
    "\n",
    "$A + B =\\begin{pmatrix}\n",
    "5 & -3\\\\ \n",
    "3 & 5\n",
    "\\end{pmatrix}$\n",
    "\n",
    "${A}\\cdot{B} =\\begin{pmatrix}\n",
    "4 & -11\\\\ \n",
    "12 & -3\n",
    "\\end{pmatrix}$\n",
    "\n",
    "**Выполняем проверку через Numpy:**"
   ]
  },
  {
   "cell_type": "code",
   "execution_count": 48,
   "metadata": {},
   "outputs": [
    {
     "name": "stdout",
     "output_type": "stream",
     "text": [
      "[[ 5 -3]\n",
      " [ 3  5]]\n",
      "[[  4 -11]\n",
      " [ 12  -3]]\n"
     ]
    }
   ],
   "source": [
    "A = np.array([[1, -2], [3, 0]])\n",
    "B = np.array([[4, -1], [0, 5]])\n",
    "\n",
    "print(np.add(A, B))\n",
    "print(np.dot(A, B))"
   ]
  },
  {
   "cell_type": "markdown",
   "metadata": {},
   "source": [
    "---\n",
    "#### Задание 3\n",
    "Из закономерностей сложения и умножения матриц на число можно сделать вывод, что матрицы одного размера образуют линейное пространство. Вычислить линейную комбинацию $3A-2B+4C$ для матриц $A=\\begin{pmatrix}\n",
    "1 & 7\\\\ \n",
    "3 & -6\n",
    "\\end{pmatrix}$, $B=\\begin{pmatrix}\n",
    "0 & 5\\\\ \n",
    "2 & -1\n",
    "\\end{pmatrix}$, $C=\\begin{pmatrix}\n",
    "2 & -4\\\\ \n",
    "1 & 1\n",
    "\\end{pmatrix}.$\n",
    "\n",
    "$3A=\\begin{pmatrix}\n",
    "3 & 21\\\\ \n",
    "9 & -18\n",
    "\\end{pmatrix}$, $2B=\\begin{pmatrix}\n",
    "0 & 10\\\\ \n",
    "4 & -2\n",
    "\\end{pmatrix}$, $4C=\\begin{pmatrix}\n",
    "8 & -16\\\\ \n",
    "4 & 4\n",
    "\\end{pmatrix}$\n",
    "\n",
    "$3A-2B+4C=\\begin{pmatrix}\n",
    "-5 & 27\\\\ \n",
    "1 & -20\n",
    "\\end{pmatrix}$\n",
    "\n",
    "**Выполним проверку через Numpy:**"
   ]
  },
  {
   "cell_type": "code",
   "execution_count": 65,
   "metadata": {},
   "outputs": [
    {
     "data": {
      "text/plain": [
       "array([[ -5,  27],\n",
       "       [  1, -20]])"
      ]
     },
     "execution_count": 65,
     "metadata": {},
     "output_type": "execute_result"
    }
   ],
   "source": [
    "A = np.array([[1, 7], [3, -6]])\n",
    "B = np.array([[0, 5], [2, -1]])\n",
    "C = np.array([[2, -4], [1, 1]])\n",
    "\n",
    "np.subtract(3 * A, 2 * B + 4 * C)"
   ]
  },
  {
   "attachments": {},
   "cell_type": "markdown",
   "metadata": {},
   "source": [
    "---\n",
    "#### Задание 4\n",
    "Дана матрица $A=\\begin{pmatrix}\n",
    "4 & 1\\\\ \n",
    "5 & -2\\\\ \n",
    "2 & 3\n",
    "\\end{pmatrix}$\n",
    "Вычислить $AA^{T}$ и $A^{T}A$.\n",
    "\n",
    "$A^{T}=\\begin{pmatrix}\n",
    "4 & 5 & 2\\\\ \n",
    "1 & -2 & 3\n",
    "\\end{pmatrix}$\n",
    "\n",
    "**Выполним проверку через Numpy:**"
   ]
  },
  {
   "cell_type": "code",
   "execution_count": 70,
   "metadata": {},
   "outputs": [
    {
     "data": {
      "text/plain": [
       "array([[ 4,  5,  2],\n",
       "       [ 1, -2,  3]])"
      ]
     },
     "execution_count": 70,
     "metadata": {},
     "output_type": "execute_result"
    }
   ],
   "source": [
    "A = np.array([[4, 1], [5, -2], [2, 3]])\n",
    "A_T = A.T\n",
    "A_T"
   ]
  },
  {
   "cell_type": "markdown",
   "metadata": {},
   "source": [
    "$AA^{T}=\\begin{pmatrix}\n",
    "4 & 1\\\\ \n",
    "5 & -2\\\\ \n",
    "2 & 3\n",
    "\\end{pmatrix} \\cdot \\begin{pmatrix}\n",
    "4 & 5 & 2\\\\ \n",
    "1 & -2 & 3\n",
    "\\end{pmatrix} = \\begin{pmatrix}\n",
    "16 + 1 & 20 - 2 & 8 + 3\\\\ \n",
    "20 - 2 & 25 + 4 & 10 - 6\\\\ \n",
    "8 + 3 & 10 - 6 & 4 + 9\n",
    "\\end{pmatrix} = \\begin{pmatrix}\n",
    "17 & 18 & 11\\\\ \n",
    "18 & 29 & 4\\\\\n",
    "11 & 4 & 13\n",
    "\\end{pmatrix}$\n",
    "\n",
    "**Выполним проверку через Numpy:**"
   ]
  },
  {
   "cell_type": "code",
   "execution_count": 72,
   "metadata": {},
   "outputs": [
    {
     "data": {
      "text/plain": [
       "array([[17, 18, 11],\n",
       "       [18, 29,  4],\n",
       "       [11,  4, 13]])"
      ]
     },
     "execution_count": 72,
     "metadata": {},
     "output_type": "execute_result"
    }
   ],
   "source": [
    "np.dot(A, A_T)"
   ]
  },
  {
   "cell_type": "markdown",
   "metadata": {},
   "source": [
    "$A^{T}A = \\begin{pmatrix}\n",
    "4 & 5 & 2\\\\ \n",
    "1 & -2 & 3\n",
    "\\end{pmatrix} \\cdot \\begin{pmatrix}\n",
    "4 & 1\\\\ \n",
    "5 & -2\\\\ \n",
    "2 & 3\n",
    "\\end{pmatrix} = \\begin{pmatrix}\n",
    "16 + 25 + 4 & 4 - 10 + 6\\\\ \n",
    "4 - 10 + 6 & 1 + 4 + 9\n",
    "\\end{pmatrix} = \\begin{pmatrix}\n",
    "45 & 0\\\\ \n",
    "0 & 14\n",
    "\\end{pmatrix}$\n",
    "\n",
    "**Выполним проверку через Numpy:**"
   ]
  },
  {
   "cell_type": "code",
   "execution_count": 73,
   "metadata": {},
   "outputs": [
    {
     "data": {
      "text/plain": [
       "array([[45,  0],\n",
       "       [ 0, 14]])"
      ]
     },
     "execution_count": 73,
     "metadata": {},
     "output_type": "execute_result"
    }
   ],
   "source": [
    "np.dot(A_T, A)"
   ]
  },
  {
   "cell_type": "markdown",
   "metadata": {},
   "source": [
    "----\n",
    "#### Задание 5\n",
    "Написать на Python функцию для перемножения двух произвольных матриц, не используя NumPy."
   ]
  },
  {
   "cell_type": "markdown",
   "metadata": {},
   "source": [
    "**Основная функция**"
   ]
  },
  {
   "cell_type": "code",
   "execution_count": 191,
   "metadata": {},
   "outputs": [],
   "source": [
    "def dot(A, B):\n",
    "    if len(A[0]) == len(B):\n",
    "        return return_matrix(A, B)\n",
    "    else:\n",
    "        print('Количество столбцов матрицы А не равно количеству строк матрицы В.')\n",
    "\n",
    "\n",
    "def return_matrix(A, B):\n",
    "    matrix = [[] for i in range(len(A))]\n",
    "    for x in range(len(A)):\n",
    "        for a in range(len(B[0])):\n",
    "            s = 0\n",
    "            for b in range(len(A[0])):\n",
    "                s += A[x][b] * B[b][a]\n",
    "            matrix[x].append(s)\n",
    "    return matrix"
   ]
  },
  {
   "cell_type": "markdown",
   "metadata": {},
   "source": [
    "**Создание матрицы**"
   ]
  },
  {
   "cell_type": "code",
   "execution_count": 200,
   "metadata": {},
   "outputs": [
    {
     "data": {
      "text/plain": [
       "[[6, 8, 1], [2, 7, 1], [5, 4, 10]]"
      ]
     },
     "execution_count": 200,
     "metadata": {},
     "output_type": "execute_result"
    }
   ],
   "source": [
    "A = [[rd.randint(1, 10) for _ in range(3)] for _ in range(3)]\n",
    "A"
   ]
  },
  {
   "cell_type": "code",
   "execution_count": 201,
   "metadata": {},
   "outputs": [
    {
     "data": {
      "text/plain": [
       "[[10, 10, 8], [7, 5, 4], [2, 3, 1]]"
      ]
     },
     "execution_count": 201,
     "metadata": {},
     "output_type": "execute_result"
    }
   ],
   "source": [
    "B = [[rd.randint(1, 10) for _ in range(3)] for _ in range(3)]\n",
    "B"
   ]
  },
  {
   "cell_type": "markdown",
   "metadata": {},
   "source": [
    "**Проверка работоспособности**"
   ]
  },
  {
   "cell_type": "code",
   "execution_count": 202,
   "metadata": {},
   "outputs": [
    {
     "name": "stdout",
     "output_type": "stream",
     "text": [
      "[[118, 103, 81], [71, 58, 45], [98, 100, 66]]\n",
      "[[120, 182, 100], [72, 107, 52], [23, 41, 15]]\n"
     ]
    }
   ],
   "source": [
    "print(dot(A, B))\n",
    "print(dot(B, A))"
   ]
  },
  {
   "cell_type": "code",
   "execution_count": 203,
   "metadata": {},
   "outputs": [
    {
     "name": "stdout",
     "output_type": "stream",
     "text": [
      "[[118 103  81]\n",
      " [ 71  58  45]\n",
      " [ 98 100  66]]\n",
      "[[120 182 100]\n",
      " [ 72 107  52]\n",
      " [ 23  41  15]]\n"
     ]
    }
   ],
   "source": [
    "print(np.dot(A, B))\n",
    "print(np.dot(B, A))"
   ]
  },
  {
   "cell_type": "markdown",
   "metadata": {},
   "source": [
    "### Методический материал 1\n"
   ]
  },
  {
   "cell_type": "markdown",
   "metadata": {},
   "source": [
    "#### Задание 1\n",
    "Вычислить определитель:\n",
    "\n",
    "1. $\\begin{vmatrix}\n",
    "sinx & -cosx\\\\ \n",
    "cosx & sinx\n",
    "\\end{vmatrix} = {sinx}\\cdot{sinx} + {cosx}\\cdot{cosx} = 1$\n",
    "\n",
    "\n",
    "2. $\\begin{vmatrix}\n",
    "4 & 2 & 3\\\\ \n",
    "0 & 5 & 1\\\\ \n",
    "0 & 0 & 9\n",
    "\\end{vmatrix} = ({4}\\cdot{5}\\cdot{9} + {0}\\cdot{0}\\cdot{3} + {2}\\cdot{1}\\cdot{0}) - ({3}\\cdot{5}\\cdot{0} + {0}\\cdot{2}\\cdot{9} + {0}\\cdot{1}\\cdot{4}) = 180$\n",
    "\n",
    "Можно было воспользоваться свойством матрицы и умножить диагональные элементы. Пример выше используется для наглядности.\n",
    "\n",
    "**Выполним проверку с использованием Numpy:**"
   ]
  },
  {
   "cell_type": "code",
   "execution_count": 222,
   "metadata": {},
   "outputs": [
    {
     "data": {
      "text/plain": [
       "180.0"
      ]
     },
     "execution_count": 222,
     "metadata": {},
     "output_type": "execute_result"
    }
   ],
   "source": [
    "A = np.array([[4, 2, 3], [0, 5, 1], [0, 0, 9]])\n",
    "np.linalg.det(A)"
   ]
  },
  {
   "cell_type": "markdown",
   "metadata": {},
   "source": [
    "3. $\\begin{vmatrix}\n",
    "1 & 2 & 3\\\\ \n",
    "4 & 5 & 6\\\\ \n",
    "7 & 8 & 9\n",
    "\\end{vmatrix} = ({1}\\cdot{5}\\cdot{9} + {2}\\cdot{6}\\cdot{7} + {4}\\cdot{8}\\cdot{3}) - ({7}\\cdot{5}\\cdot{3} + {4}\\cdot{2}\\cdot{9} + {8}\\cdot{6}\\cdot{1}) = 225 - 225 = 0$\n",
    "\n",
    "**Выполним проверку с использованием Numpy:**"
   ]
  },
  {
   "cell_type": "code",
   "execution_count": 223,
   "metadata": {},
   "outputs": [
    {
     "data": {
      "text/plain": [
       "-9.51619735392994e-16"
      ]
     },
     "execution_count": 223,
     "metadata": {},
     "output_type": "execute_result"
    }
   ],
   "source": [
    "A = np.array([[1, 2, 3], [4, 5, 6], [7, 8, 9]])\n",
    "np.linalg.det(A)"
   ]
  },
  {
   "cell_type": "markdown",
   "metadata": {},
   "source": [
    "---\n",
    "#### Задание 2\n",
    "Определитель матрицы $A$ равен $4$. Найти:\n",
    "\n",
    "   а) $det(A^{2})$;\n",
    "   \n",
    "   Если возвести матрицу в квадрат, то и определитель приёдтся возвести в квадрат.\n",
    "   \n",
    "   __Ответ:__ `16`\n",
    "   \n",
    "   б) $det(A^{T})$;\n",
    "   \n",
    "   Определитель транспонированной матрицы равне определителю исходной.\n",
    "   \n",
    "   __Ответ:__ `4`\n",
    "    \n",
    "   в) $det(2A)$.\n",
    "   \n",
    "   Умножение строки или столбца матрицы на число $\\lambda$ приведёт к умножению определителя матрицы на то же число.\n",
    "   Так как мы умножили кажду строку на число $\\lambda$, то и определитель требуется умножить на $\\lambda$ столько раз, сколько у нас строк.\n",
    "   \n",
    "   __Ответ:__ `32`"
   ]
  },
  {
   "cell_type": "markdown",
   "metadata": {},
   "source": [
    "---\n",
    "#### Задание 3\n",
    "Доказать, что матрица\n",
    "\n",
    "$\\begin{pmatrix}\n",
    "-2 & 7 & -3\\\\ \n",
    "4 & -14 & 6\\\\ \n",
    "-3 & 7 & 13\n",
    "\\end{pmatrix} $\n",
    "вырожденная.\n",
    "\n",
    "Найдём определитель матрицы:\n",
    "\n",
    "$\\begin{vmatrix}\n",
    "-2 & 7 & -3\\\\ \n",
    "4 & -14 & 6\\\\ \n",
    "-3 & 7 & 13\n",
    "\\end{vmatrix} = (364 - 126 - 84) - (-126 + 364 - 84)= 364 - 126 - 84 + 126 - 364 + 84 = 0 $\n",
    "\n",
    "\n",
    "__Ответ:__ Данная матрица является вырожденной.\n",
    "\n",
    "**Выполним проверку с использованием Numpy:**"
   ]
  },
  {
   "cell_type": "code",
   "execution_count": 245,
   "metadata": {},
   "outputs": [
    {
     "data": {
      "text/plain": [
       "0.0"
      ]
     },
     "execution_count": 245,
     "metadata": {},
     "output_type": "execute_result"
    }
   ],
   "source": [
    "A = np.array([[-2, 7, -3], [4, -14, 6], [-3, 7, 13]])\n",
    "np.linalg.det(A)"
   ]
  },
  {
   "cell_type": "markdown",
   "metadata": {},
   "source": [
    "#### Задание 4\n",
    "Найти ранг матрицы:\n",
    "\n",
    "   а) $\\begin{pmatrix}\n",
    "1 & 2 & 3\\\\ \n",
    "1 & 1 & 1\\\\ \n",
    "2 & 3 & 4\n",
    "\\end{pmatrix};$\n",
    "\n",
    "   б) $\\begin{pmatrix}\n",
    "0 & 0 & 2 & 1\\\\ \n",
    "0 & 0 & 2 & 2\\\\ \n",
    "0 & 0 & 4 & 3\\\\ \n",
    "2 & 3 & 5 & 6\n",
    "\\end{pmatrix}.$"
   ]
  },
  {
   "cell_type": "code",
   "execution_count": null,
   "metadata": {},
   "outputs": [],
   "source": []
  }
 ],
 "metadata": {
  "kernelspec": {
   "display_name": "Python 3",
   "language": "python",
   "name": "python3"
  },
  "language_info": {
   "codemirror_mode": {
    "name": "ipython",
    "version": 3
   },
   "file_extension": ".py",
   "mimetype": "text/x-python",
   "name": "python",
   "nbconvert_exporter": "python",
   "pygments_lexer": "ipython3",
   "version": "3.7.6"
  }
 },
 "nbformat": 4,
 "nbformat_minor": 4
}
