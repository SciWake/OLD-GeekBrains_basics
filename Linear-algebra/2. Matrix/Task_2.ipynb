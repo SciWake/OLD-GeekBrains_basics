{
 "cells": [
  {
   "cell_type": "markdown",
   "metadata": {},
   "source": [
    "# Урок 2. Матрицы и матричные операции\n",
    "### Методический материал 1"
   ]
  },
  {
   "cell_type": "code",
   "execution_count": 4,
   "metadata": {},
   "outputs": [],
   "source": [
    "import numpy as np"
   ]
  },
  {
   "cell_type": "markdown",
   "metadata": {},
   "source": [
    "---\n",
    "#### Задание 1\n",
    "Установить, какие произведения матриц  AB  и  BA  определены, и найти размерности полученных матриц:\n",
    "\n",
    "1.  __A  — матрица  4×2 ,  B  — матрица  4×2;__\n",
    "    \n",
    "__Ответ:__ Произвести умножение матрицы **А** на **В**  и **B** на **А** невозможно, так как количество столбцов матрицы **А** не равно количеству строк матрицы **В**.\n",
    "\n",
    "    \n",
    "    \n",
    "\n",
    "2.  __A  — матрица  2×5 ,  B  — матрица  5×3;__\n",
    "\n",
    "$A=\\begin{pmatrix}\n",
    "1 & -2 & 6 & 7 & 1\\\\ \n",
    "6 & 5 & 1 & 5 & -4\n",
    "\\end{pmatrix}$ и \n",
    "$B=\\begin{pmatrix}\n",
    "9 & 1 & 6\\\\ \n",
    "5 & 1 & 1\\\\\n",
    "4 & 7 & 3\\\\\n",
    "9 & 0 & 8\\\\\n",
    "1 & 2 & 5\n",
    "\\end{pmatrix}$\n",
    "\n",
    "$AB=\\begin{pmatrix}\n",
    "9 - 10 + 24 + 63 + 1 & 1 - 2 + 42 + 0 + 2 & 6 - 2 + 18 + 56 + 5\\\\ \n",
    "54 + 25 + 4 + 45 - 4 & 6 + 5 + 7 + 0 - 8 & 36 + 5 + 3 + 40 - 20\n",
    "\\end{pmatrix}$ = \n",
    "$\\begin{pmatrix}\n",
    "87 & 43 & 83\\\\\n",
    "124 & 10 & 64\n",
    "\\end{pmatrix}$\n",
    "\n",
    "__Ответ:__ Если умножить матрицу **A** на матрицу **B**, будет матрица размерностью `3х3`. Матрицу **B** умножить на матриу **А** нельзя, так как количество столбцов матрицы **А** не равно количеству строк матрицы **В**.\n",
    "\n",
    "**Выполняем проверку через Numpy:**"
   ]
  },
  {
   "cell_type": "code",
   "execution_count": 33,
   "metadata": {},
   "outputs": [
    {
     "data": {
      "text/plain": [
       "array([[ 87,  43,  83],\n",
       "       [124,  10,  64]])"
      ]
     },
     "execution_count": 33,
     "metadata": {},
     "output_type": "execute_result"
    }
   ],
   "source": [
    "A = np.array([[1, -2, 6, 7, 1], [6, 5, 1, 5, -4]])\n",
    "B = np.array([[9, 1, 6], [5, 1, 1], [4, 7, 3], [9, 0, 8], [1, 2, 5]])\n",
    "\n",
    "np.dot(A, B)"
   ]
  },
  {
   "cell_type": "markdown",
   "metadata": {},
   "source": [
    "3.  __A  — матрица  8×3 ,  B  — матрица  3×8;__\n",
    "\n",
    "В задании 2, рассчёты производились для наглядности.\n",
    "\n",
    "__Ответ:__ Умножение матрицы **A** на матрицу **B**, даёт матрицу размерностью `8х8`. При умножени матрицы **B** на матрицу **А**, размерность итоговой матрицы составит `3х3`\n",
    "\n",
    "**Выполним проверку через Numpy:**"
   ]
  },
  {
   "cell_type": "code",
   "execution_count": 38,
   "metadata": {},
   "outputs": [
    {
     "name": "stdout",
     "output_type": "stream",
     "text": [
      "(8, 8)\n",
      "(3, 3)\n"
     ]
    }
   ],
   "source": [
    "A = np.ones((1, 8, 3))[0]\n",
    "B = np.ones((1, 3, 8))[0]\n",
    "\n",
    "print(np.dot(A, B).shape)\n",
    "print(np.dot(B, A).shape)"
   ]
  },
  {
   "cell_type": "markdown",
   "metadata": {},
   "source": [
    "4.  __A  — квадратная матрица  4×4 ,  B  — квадратная матрица  4×4.__\n",
    "\n",
    "__Ответ:__ Умножение матрицы **A** на матрицу **B**, даёт матрицу размерностью `4х4`. При умножени матрицы **B** на матрицу **А**, размерность итоговой матрицы составит `4х4`"
   ]
  },
  {
   "cell_type": "code",
   "execution_count": 39,
   "metadata": {},
   "outputs": [
    {
     "name": "stdout",
     "output_type": "stream",
     "text": [
      "(4, 4)\n",
      "(4, 4)\n"
     ]
    }
   ],
   "source": [
    "A = np.ones((1, 4, 4))[0]\n",
    "B = np.ones((1, 4, 4))[0]\n",
    "\n",
    "print(np.dot(A, B).shape)\n",
    "print(np.dot(B, A).shape)"
   ]
  },
  {
   "cell_type": "code",
   "execution_count": null,
   "metadata": {},
   "outputs": [],
   "source": []
  }
 ],
 "metadata": {
  "kernelspec": {
   "display_name": "Python 3",
   "language": "python",
   "name": "python3"
  },
  "language_info": {
   "codemirror_mode": {
    "name": "ipython",
    "version": 3
   },
   "file_extension": ".py",
   "mimetype": "text/x-python",
   "name": "python",
   "nbconvert_exporter": "python",
   "pygments_lexer": "ipython3",
   "version": "3.7.6"
  }
 },
 "nbformat": 4,
 "nbformat_minor": 4
}
