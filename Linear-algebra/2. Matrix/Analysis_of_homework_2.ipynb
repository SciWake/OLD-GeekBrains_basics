{
  "nbformat": 4,
  "nbformat_minor": 0,
  "metadata": {
    "colab": {
      "name": "Лин. алгебра. ДЗ № 2.ipynb",
      "provenance": [],
      "collapsed_sections": []
    },
    "kernelspec": {
      "name": "python3",
      "display_name": "Python 3"
    }
  },
  "cells": [
    {
      "cell_type": "markdown",
      "metadata": {
        "id": "MLsDwlSqQMTK"
      },
      "source": [
        "# **Первая часть**"
      ]
    },
    {
      "cell_type": "markdown",
      "metadata": {
        "id": "-yfXae-wQQI0"
      },
      "source": [
        "__1.__ Установить, какие произведения матриц $AB$ и $BA$ определены, и найти размерности полученных матриц:\n",
        "\n",
        "   а) $A$ — матрица $4\\times 2$, $B$ — матрица $4\\times 2$;\n",
        "    \n",
        "   б) $A$ — матрица $2\\times 5$, $B$ — матрица $5\\times 3$;\n",
        "    \n",
        "   в) $A$ — матрица $8\\times 3$, $B$ — матрица $3\\times 8$;\n",
        "    \n",
        "   г) $A$ — квадратная матрица $4\\times 4$, $B$ — квадратная матрица $4\\times 4$."
      ]
    },
    {
      "cell_type": "markdown",
      "metadata": {
        "id": "ozzqL4c3QSQS"
      },
      "source": [
        "Решение:\n",
        "\n",
        "а) $AB, BA$ - не определены\n",
        "\n",
        "б) $AB$ - определена, $AB$ - матрица $2 \\times 3$\n",
        "\n",
        "в) $AB$ - матрица $8 \\times 8$,  $BA$ - матрица $3 \\times 3$\n",
        "\n",
        "г)$AB, BA$ - матрицы $4 \\times 4$"
      ]
    },
    {
      "cell_type": "markdown",
      "metadata": {
        "id": "dXqlMT3fRA9h"
      },
      "source": [
        "__2.__ Найти сумму и произведение матриц $A=\\begin{pmatrix}\n",
        "1 & -2\\\\ \n",
        "3 & 0\n",
        "\\end{pmatrix}$ и $B=\\begin{pmatrix}\n",
        "4 & -1\\\\ \n",
        "0 & 5\n",
        "\\end{pmatrix}.$"
      ]
    },
    {
      "cell_type": "markdown",
      "metadata": {
        "id": "NWbaUn1bRERX"
      },
      "source": [
        "Решение:\n",
        "\n",
        "$$A+B = \\begin{pmatrix}\n",
        "1 & -2\\\\ \n",
        "3 & 0\n",
        "\\end{pmatrix} + \\begin{pmatrix}\n",
        "4 & -1\\\\ \n",
        "0 & 5\n",
        "\\end{pmatrix} = \\begin{pmatrix}\n",
        "1+4 & -2-1\\\\ \n",
        "3+0 & 0+5\n",
        "\\end{pmatrix} = \\begin{pmatrix}\n",
        "5 & -3\\\\ \n",
        "3 & 5\n",
        "\\end{pmatrix}$$\n",
        "<br><br>\n",
        "$$A \\times B = \\begin{pmatrix}\n",
        "1 & -2\\\\ \n",
        "3 & 0\n",
        "\\end{pmatrix} \\times \\begin{pmatrix}\n",
        "4 & -1\\\\ \n",
        "0 & 5\n",
        "\\end{pmatrix} = \\begin{pmatrix}\n",
        "1*4+ (-2)*0 & 1*(-1)+(-2)*5\\\\ \n",
        "3*4+0*0 & 3*(-1)+0*5\n",
        "\\end{pmatrix} = \\begin{pmatrix}\n",
        "4 & -11\\\\ \n",
        "12 & -3\n",
        "\\end{pmatrix}$$"
      ]
    },
    {
      "cell_type": "code",
      "metadata": {
        "id": "fVvYPmZjP19V",
        "outputId": "8bc51866-5950-40a5-b279-ac641cfc01c7",
        "colab": {
          "base_uri": "https://localhost:8080/",
          "height": 276
        }
      },
      "source": [
        "import numpy as np\n",
        "\n",
        "\n",
        "a = np.array([[1, -2], [3, 0]])\n",
        "b = np.array([[4, -1], [0, 5]])\n",
        "\n",
        "print(f'Матрица A\\n{a}\\n')\n",
        "print(f'Матрица B\\n{b}\\n')\n",
        "print(f'Матрица A+B\\n{a+b}\\n')\n",
        "print(f'Матрица AB\\n{np.dot(a, b)}')\n"
      ],
      "execution_count": null,
      "outputs": [
        {
          "output_type": "stream",
          "text": [
            "Матрица A\n",
            "[[ 1 -2]\n",
            " [ 3  0]]\n",
            "\n",
            "Матрица B\n",
            "[[ 4 -1]\n",
            " [ 0  5]]\n",
            "\n",
            "Матрица A+B\n",
            "[[ 5 -3]\n",
            " [ 3  5]]\n",
            "\n",
            "Матрица AB\n",
            "[[  4 -11]\n",
            " [ 12  -3]]\n"
          ],
          "name": "stdout"
        }
      ]
    },
    {
      "cell_type": "markdown",
      "metadata": {
        "id": "7x7vqjsjStR2"
      },
      "source": [
        "__3.__ Из закономерностей сложения и умножения матриц на число можно сделать вывод, что матрицы одного размера образуют линейное пространство. Вычислить линейную комбинацию $3A-2B+4C$ для матриц $A=\\begin{pmatrix}\n",
        "1 & 7\\\\ \n",
        "3 & -6\n",
        "\\end{pmatrix}$, $B=\\begin{pmatrix}\n",
        "0 & 5\\\\ \n",
        "2 & -1\n",
        "\\end{pmatrix}$, $C=\\begin{pmatrix}\n",
        "2 & -4\\\\ \n",
        "1 & 1\n",
        "\\end{pmatrix}.$"
      ]
    },
    {
      "cell_type": "markdown",
      "metadata": {
        "id": "WGIAViyHSym-"
      },
      "source": [
        "Решение:\n",
        "\n",
        "$$3A-2B+4C = 3\\begin{pmatrix}\n",
        "1 & 7\\\\ \n",
        "3 & -6\n",
        "\\end{pmatrix} - 2\\begin{pmatrix}\n",
        "0 & 5\\\\ \n",
        "2 & -1\n",
        "\\end{pmatrix} + 4\\begin{pmatrix}\n",
        "2 & -4\\\\ \n",
        "1 & 1\n",
        "\\end{pmatrix} = \\begin{pmatrix}\n",
        "3*1 - 2*0 +4*2 & 3*7-2*5+4*(-4)\\\\ \n",
        "3*3-2*2+4*1 & 3*(-6)-2*(-1) +4*1\n",
        "\\end{pmatrix} = \\begin{pmatrix}\n",
        "11 & -5\\\\ \n",
        "9 & -12\n",
        "\\end{pmatrix}$$"
      ]
    },
    {
      "cell_type": "code",
      "metadata": {
        "id": "BURbVC9NT02U",
        "outputId": "45c42595-ccd2-483f-eba2-541ba335c4ce",
        "colab": {
          "base_uri": "https://localhost:8080/",
          "height": 294
        }
      },
      "source": [
        "a = np.array([[1, 7], [3, -6]])\n",
        "b = np.array([[0, 5], [2, -1]])\n",
        "c = np.array([[2, -4], [1, 1]])\n",
        "\n",
        "print(f'Матрица A\\n{a}\\n')\n",
        "print(f'Матрица B\\n{b}\\n')\n",
        "print(f'Матрица C\\n{c}\\n')\n",
        "print(f'Матрица 3A-2B+4C\\n{3*a-2*b+4*c}\\n')"
      ],
      "execution_count": null,
      "outputs": [
        {
          "output_type": "stream",
          "text": [
            "Матрица A\n",
            "[[ 1  7]\n",
            " [ 3 -6]]\n",
            "\n",
            "Матрица B\n",
            "[[ 0  5]\n",
            " [ 2 -1]]\n",
            "\n",
            "Матрица C\n",
            "[[ 2 -4]\n",
            " [ 1  1]]\n",
            "\n",
            "Матрица 3A-2B+4C\n",
            "[[ 11  -5]\n",
            " [  9 -12]]\n",
            "\n"
          ],
          "name": "stdout"
        }
      ]
    },
    {
      "cell_type": "markdown",
      "metadata": {
        "id": "oaaGDozjUUKV"
      },
      "source": [
        "__4.__ Дана матрица $A=\\begin{pmatrix}\n",
        "4 & 1\\\\ \n",
        "5 & -2\\\\ \n",
        "2 & 3\n",
        "\\end{pmatrix}$.\n",
        "Вычислить $AA^{T}$ и $A^{T}A$."
      ]
    },
    {
      "cell_type": "markdown",
      "metadata": {
        "id": "l5HEF0ZPUV_V"
      },
      "source": [
        "Решение:\n",
        "\n",
        "$A^T = \\begin{pmatrix}\n",
        "4 & 5 & 2\\\\ \n",
        "1 & -2 & 3\n",
        "\\end{pmatrix}$\n",
        "\n",
        "$AA^T = \\begin{pmatrix}\n",
        "4 & 1\\\\ \n",
        "5 & -2\\\\ \n",
        "2 & 3\n",
        "\\end{pmatrix} \\times \\begin{pmatrix}\n",
        "4 & 5 & 2\\\\ \n",
        "1 & -2 & 3\n",
        "\\end{pmatrix} = \\begin{pmatrix}\n",
        "4*4 +1*1 & 4*5+1*(-2) & 4*2+ 1*3\\\\ \n",
        "5*4+(-2)*1 & 5*5+(-2)*(-2) & 5*2+(-2)*3\\\\ \n",
        "2*4 + 3*1 & 2*5+3*(-2) & 2*2+ 3*3\n",
        "\\end{pmatrix} = \\begin{pmatrix}\n",
        "17 & 18 & 11\\\\ \n",
        "18 & 29 & 4\\\\ \n",
        "11 & 4 & 13\n",
        "\\end{pmatrix}$\n",
        "\n",
        "$A^TA = \\begin{pmatrix}\n",
        "4 & 5 & 2\\\\ \n",
        "1 & -2 & 3\n",
        "\\end{pmatrix} \\times \\begin{pmatrix}\n",
        "4 & 1\\\\ \n",
        "5 & -2\\\\ \n",
        "2 & 3\n",
        "\\end{pmatrix}= \\begin{pmatrix}\n",
        "4*4 + 5*5 +2*2 & 4*1 +5*(-2)+2*3\\\\ \n",
        "1*4+(-2)*5+3*2 & 1*1+(-2)*(-2)+3*3 \n",
        "\\end{pmatrix} = \\begin{pmatrix}\n",
        "45 & 0\\\\ \n",
        "0 & 14\n",
        "\\end{pmatrix}$"
      ]
    },
    {
      "cell_type": "code",
      "metadata": {
        "id": "ShDZ8Tj9WkBU",
        "outputId": "eb43edae-7591-4d10-c92c-fab70c4dd134",
        "colab": {
          "base_uri": "https://localhost:8080/",
          "height": 328
        }
      },
      "source": [
        "a = np.array([[4,1], [5, -2], [2,3]])\n",
        "\n",
        "print(f'Матрица A\\n{a}\\n')\n",
        "print(f'Матрица A^T\\n{a.T}\\n')\n",
        "print(f'Матрица A*A^T\\n{np.dot(a, a.T)}\\n')\n",
        "print(f'Матрица A^T*A\\n{np.dot(a.T, a)}\\n')"
      ],
      "execution_count": null,
      "outputs": [
        {
          "output_type": "stream",
          "text": [
            "Матрица A\n",
            "[[ 4  1]\n",
            " [ 5 -2]\n",
            " [ 2  3]]\n",
            "\n",
            "Матрица A^T\n",
            "[[ 4  5  2]\n",
            " [ 1 -2  3]]\n",
            "\n",
            "Матрица A*A^T\n",
            "[[17 18 11]\n",
            " [18 29  4]\n",
            " [11  4 13]]\n",
            "\n",
            "Матрица A^T*A\n",
            "[[45  0]\n",
            " [ 0 14]]\n",
            "\n"
          ],
          "name": "stdout"
        }
      ]
    },
    {
      "cell_type": "markdown",
      "metadata": {
        "id": "qaPDvqihXOfH"
      },
      "source": [
        "__5*.__ Написать на Python функцию для перемножения двух произвольных матриц, не используя NumPy."
      ]
    },
    {
      "cell_type": "code",
      "metadata": {
        "id": "Dngtvc1qXW9l",
        "outputId": "b8d5e3b1-1010-4d34-d80c-711a50ba085f",
        "colab": {
          "base_uri": "https://localhost:8080/",
          "height": 34
        }
      },
      "source": [
        "def matrix_multiply(a, b):\n",
        "  a_column = len(a[0])\n",
        "  b_string = len(b)\n",
        "\n",
        "  if a_column != b_string:\n",
        "    return False\n",
        "  \n",
        "  c = []\n",
        "\n",
        "  for i in range(len(a)):\n",
        "    c.append([])\n",
        "    for j in range(len(b[0])):\n",
        "      c_ij = 0\n",
        "      for k in range(len(b)):\n",
        "        c_ij += a[i][k]*b[k][j]\n",
        "      c[i].append(c_ij)\n",
        "\n",
        "  return c\n",
        "\n",
        "\n",
        "a = [[ 4, 1],\n",
        " [ 5, -2],\n",
        " [ 2, 3]]\n",
        "b = [[ 4, 5, 2],\n",
        " [ 1, -2, 3]]\n",
        "\n",
        "\n",
        "matrix_multiply(a, b)     "
      ],
      "execution_count": null,
      "outputs": [
        {
          "output_type": "execute_result",
          "data": {
            "text/plain": [
              "[[17, 18, 11], [18, 29, 4], [11, 4, 13]]"
            ]
          },
          "metadata": {
            "tags": []
          },
          "execution_count": 13
        }
      ]
    },
    {
      "cell_type": "markdown",
      "metadata": {
        "id": "8Nz_eSLjZYaj"
      },
      "source": [
        "# **Вторая часть**"
      ]
    },
    {
      "cell_type": "markdown",
      "metadata": {
        "id": "00Jejfc5ZbOJ"
      },
      "source": [
        "__1.__ Вычислить определитель:\n",
        "\n",
        "   a)\n",
        "\n",
        "$$\\begin{vmatrix}\n",
        "sinx & -cosx\\\\ \n",
        "cosx & sinx\n",
        "\\end{vmatrix};$$\n",
        "\n",
        "   б)\n",
        "    \n",
        "$$\\begin{vmatrix}\n",
        "4 & 2 & 3\\\\ \n",
        "0 & 5 & 1\\\\ \n",
        "0 & 0 & 9\n",
        "\\end{vmatrix};$$\n",
        "    \n",
        "   в)\n",
        "\n",
        "$$\\begin{vmatrix}\n",
        "1 & 2 & 3\\\\ \n",
        "4 & 5 & 6\\\\ \n",
        "7 & 8 & 9\n",
        "\\end{vmatrix}.$$"
      ]
    },
    {
      "cell_type": "markdown",
      "metadata": {
        "id": "VZCrGU24Zikd"
      },
      "source": [
        "Решение:\n",
        "\n",
        "а) $$\\begin{vmatrix}\n",
        "sinx & -cosx\\\\ \n",
        "cosx & sinx\n",
        "\\end{vmatrix} =sinx*sinx - (-cosx)*cosx = 1 $$\n",
        "\n",
        "б) $$\\begin{vmatrix}\n",
        "4 & 2 & 3\\\\ \n",
        "0 & 5 & 1\\\\ \n",
        "0 & 0 & 9\n",
        "\\end{vmatrix} = 4 * \\begin{vmatrix}\n",
        "5 & 1\\\\ \n",
        "0 & 9\n",
        "\\end{vmatrix} - 0 * \\begin{vmatrix}\n",
        "2 & 3\\\\  \n",
        "0 & 9\n",
        "\\end{vmatrix} + 0 * \\begin {vmatrix}\n",
        "2 & 3\\\\ \n",
        "5 & 1\n",
        "\\end{vmatrix} = 4 * (5*9 - 1*0)  = 180$$\n",
        "\n",
        "в) $$\\begin{vmatrix}\n",
        "1 & 2 & 3\\\\ \n",
        "4 & 5 & 6\\\\ \n",
        "7 & 8 & 9\n",
        "\\end{vmatrix} = 1*5*9 +7*2*6+4*8*3 - 3*5*7 - 2*4*9 - 1*6*8 = 45+ 84+96 - 105 - 72 - 48 = 0$$"
      ]
    },
    {
      "cell_type": "code",
      "metadata": {
        "id": "_jsGBjOgbINR",
        "outputId": "5342710f-3db9-44fe-d8fd-df26fbbd24af",
        "colab": {
          "base_uri": "https://localhost:8080/",
          "height": 86
        }
      },
      "source": [
        "b = np.array([[4,2,3], [0,5,1], [0,0,9]])\n",
        "c = np.array([[1,2,3], [4,5,6], [7,8,9]])\n",
        "\n",
        "print(f'Определитель B:\\n{np.linalg.det(b):.0f}')\n",
        "print(f'Определитель C:\\n{np.linalg.det(c):.0f}')"
      ],
      "execution_count": null,
      "outputs": [
        {
          "output_type": "stream",
          "text": [
            "Определитель B:\n",
            "180\n",
            "Определитель C:\n",
            "0\n"
          ],
          "name": "stdout"
        }
      ]
    },
    {
      "cell_type": "markdown",
      "metadata": {
        "id": "Vdljr881co5K"
      },
      "source": [
        "__2.__ Определитель матрицы $A$ равен $4$. Найти:\n",
        "\n",
        "   а) $det(A^{2})$;\n",
        "    \n",
        "   б) $det(A^{T})$;\n",
        "    \n",
        "   в) $det(2A)$.\n",
        "\n",
        "   "
      ]
    },
    {
      "cell_type": "markdown",
      "metadata": {
        "id": "eC_rHtyNcvmK"
      },
      "source": [
        "Решение:\n",
        "\n",
        "а) $det(A^{2}) = det(A)\\times det(A) = 16$\n",
        "\n",
        "б) $det(A^T) = det(A) = 4$\n",
        "\n",
        "с) Если размер матрицы $n \\times n$, то\n",
        "\n",
        "$det(2A) = 2^n \\times det(A)$\n",
        "\n"
      ]
    },
    {
      "cell_type": "markdown",
      "metadata": {
        "id": "AzI_8Dt2de1c"
      },
      "source": [
        "__3.__  Доказать, что матрица\n",
        "\n",
        "$$\\begin{pmatrix}\n",
        "-2 & 7 & -3\\\\ \n",
        "4 & -14 & 6\\\\ \n",
        "-3 & 7 & 13\n",
        "\\end{pmatrix}$$\n",
        "   \n",
        "вырожденная."
      ]
    },
    {
      "cell_type": "markdown",
      "metadata": {
        "id": "Zhe-AXuvdioC"
      },
      "source": [
        "Решение:\n",
        "\n",
        "Посчитаем определитель.\n",
        "$$\\begin{vmatrix}\n",
        "-2 & 7 & -3\\\\ \n",
        "4 & -14 & 6\\\\ \n",
        "-3 & 7 & 13\n",
        "\\end{vmatrix} = (-2)*(-14)*13 +4*7*(-3) + 7*6*(-3) - (-3)*(-14)*(-3) - (-2)*6*7 - 4*7*13 = 364 - 84 - 126 + 126 + 84 - 364 = 0$$"
      ]
    },
    {
      "cell_type": "code",
      "metadata": {
        "id": "sx4Qz5XVeqTZ",
        "outputId": "b77893ce-56a9-4d7f-e568-c61a9c2e9212",
        "colab": {
          "base_uri": "https://localhost:8080/",
          "height": 52
        }
      },
      "source": [
        "a = np.array([[-2, 7, -3], [4, -14, 6], [-3, 7, 13]])\n",
        "\n",
        "print(f'Определитель A:\\n{np.linalg.det(a):.0f}')"
      ],
      "execution_count": null,
      "outputs": [
        {
          "output_type": "stream",
          "text": [
            "Определитель A:\n",
            "0\n"
          ],
          "name": "stdout"
        }
      ]
    },
    {
      "cell_type": "markdown",
      "metadata": {
        "id": "iJ4Yqx0Fe95D"
      },
      "source": [
        "__4.__ Найти ранг матрицы:\n",
        "\n",
        "   а) $\\begin{pmatrix}\n",
        "1 & 2 & 3\\\\ \n",
        "1 & 1 & 1\\\\ \n",
        "2 & 3 & 4\n",
        "\\end{pmatrix};$\n",
        "\n",
        "   б) $\\begin{pmatrix}\n",
        "0 & 0 & 2 & 1\\\\ \n",
        "0 & 0 & 2 & 2\\\\ \n",
        "0 & 0 & 4 & 3\\\\ \n",
        "2 & 3 & 5 & 6\n",
        "\\end{pmatrix}.$"
      ]
    },
    {
      "cell_type": "markdown",
      "metadata": {
        "id": "q7WFhcdJe_dI"
      },
      "source": [
        "Решение:\n",
        "\n",
        "а) $rank\\begin{pmatrix}\n",
        "1 & 2 & 3\\\\ \n",
        "1 & 1 & 1\\\\ \n",
        "2 & 3 & 4\n",
        "\\end{pmatrix} = rank \\begin{pmatrix}\n",
        "1 & 1 & 1\\\\ \n",
        "0 & 1 & 2\\\\ \n",
        "0 & 1 & 2\n",
        "\\end{pmatrix} = rank\\begin{pmatrix}\n",
        "1 & 1 & 1\\\\ \n",
        "0 & 1 & 2\\\\ \n",
        "0 & 0 & 0\n",
        "\\end{pmatrix} = 2$\n",
        "\n",
        "б)$ rank\\begin{pmatrix}\n",
        "0 & 0 & 2 & 1\\\\ \n",
        "0 & 0 & 2 & 2\\\\ \n",
        "0 & 0 & 4 & 3\\\\ \n",
        "2 & 3 & 5 & 6\n",
        "\\end{pmatrix}  = rank\\begin{pmatrix}\n",
        "2 & 3 & 5 & 6 \\\\\n",
        "0 & 0 & 2 & 1\\\\ \n",
        "0 & 0 & 0 & 1\\\\ \n",
        "0 & 0 & 0 & 0\n",
        "\\end{pmatrix} = 3$"
      ]
    },
    {
      "cell_type": "code",
      "metadata": {
        "id": "yRhBRWcDgbHI"
      },
      "source": [
        "a = np.array([[1,2,3], [1,1,1], [2,3,4]])\n",
        "b = np.array([[0,0,2,1], [0,0,2,2], [0,0,4,3], [2,3,5,6]])\n",
        "r = np.linalg.matrix_rank(a)\n",
        "\n",
        "print(f'Ранг матрицы: {r}')"
      ],
      "execution_count": null,
      "outputs": []
    }
  ]
}