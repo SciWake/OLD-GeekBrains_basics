{
  "nbformat": 4,
  "nbformat_minor": 0,
  "metadata": {
    "colab": {
      "name": "Лин. алгебра. ДЗ №4.ipynb",
      "provenance": [],
      "collapsed_sections": []
    },
    "kernelspec": {
      "name": "python3",
      "display_name": "Python 3"
    }
  },
  "cells": [
    {
      "cell_type": "markdown",
      "metadata": {
        "id": "59epDdnUwoeM"
      },
      "source": [
        "# **Первая часть**"
      ]
    },
    {
      "cell_type": "markdown",
      "metadata": {
        "id": "N398aI3goGdQ"
      },
      "source": [
        "__1.__ Решить систему уравнений методом Гаусса:\n",
        "\n",
        "$$\\begin{cases}\n",
        "x_{1}+x_{2}-x_{3}-2x_{4}=0, \\\\\n",
        "2x_{1}+x_{2}-x_{3}+x_{4}=-2, \\\\\n",
        "x_{1}+x_{2}-3x_{3}+x_{4}=4.\n",
        "\\end{cases}$$"
      ]
    },
    {
      "cell_type": "markdown",
      "metadata": {
        "id": "R_Eplv-OoOxb"
      },
      "source": [
        "Решение: \n",
        "\n",
        "$$\\begin{pmatrix}\n",
        "\\left.\\begin{matrix}\n",
        "1 & 1 & -1 & -2 \\\\ \n",
        "2 & 1 & -1 & 1\\\\ \n",
        "1 & 1 & -3 & 1\n",
        "\\end{matrix}\\right|\n",
        "\\begin{matrix}\n",
        "0\\\\ \n",
        "-2\\\\\n",
        "4\n",
        "\\end{matrix}\n",
        "\\end{pmatrix}.$$\n",
        "\n",
        "Вычтем из третьей строки первую, и из второй строки первую, умноженную на 2:\n",
        "\n",
        "$$\\begin{pmatrix}\n",
        "\\left.\\begin{matrix}\n",
        "1 & 1 & -1 & -2 \\\\ \n",
        "0 & -1 & 1 & 5\\\\ \n",
        "0 & 0 & -2 & 3\n",
        "\\end{matrix}\\right|\n",
        "\\begin{matrix}\n",
        "0\\\\ \n",
        "-2\\\\\n",
        "4\n",
        "\\end{matrix}\n",
        "\\end{pmatrix}.$$\n",
        "\n",
        "можно рассматривать в качестве _свободного_ параметра $x_{4}=c$. Тогда, выражая остальные переменные через $c$, получим:\n",
        "\n",
        "$$x_{4}=c,$$\n",
        "$$-2x_{3}+3c=4 \\; \\Leftrightarrow \\; x_{3}=(3c-4)/2,$$\n",
        "$$-x_{2} + (3c-4)/2 + 5c= -2 \\; \\Leftrightarrow \\; x_{2}=13c/2.$$\n",
        "$$x_{1} + 13c/2 - (3c-4)/2 -2c= 0 \\; \\Leftrightarrow \\; x_{1}=-3c-2.$$\n"
      ]
    },
    {
      "cell_type": "markdown",
      "metadata": {
        "id": "KO2TfouDrVzP"
      },
      "source": [
        "__2.__ Проверить на совместность и выяснить, сколько решений будет иметь система линейных уравнений:\n",
        "\n",
        "   а) $\\begin{cases}\n",
        "3x_{1}-x_{2}+x_{3}=4, \\\\\n",
        "2x_{1}-5x_{2}-3x_{3}=-17, \\\\\n",
        "x_{1}+x_{2}-x_{3}=0;\n",
        "\\end{cases}$\n",
        "    \n",
        "   б) $\\begin{cases}\n",
        "2x_{1}-4x_{2}+6x_{3}=1, \\\\\n",
        "x_{1}-2x_{2}+3x_{3}=-2, \\\\\n",
        "3x_{1}-6x_{2}+9x_{3}=5;\n",
        "\\end{cases}$\n",
        "    \n",
        "   в) $\\begin{cases}\n",
        "x_{1}+2x_{2}+5x_{3}=4, \\\\\n",
        "3x_{1}+x_{2}-8x_{3}=-2. \n",
        "\\end{cases}$"
      ]
    },
    {
      "cell_type": "markdown",
      "metadata": {
        "id": "RKtMtFMQrbdp"
      },
      "source": [
        "a)\n",
        "$$\\begin{pmatrix}\n",
        "\\left.\\begin{matrix}\n",
        "3 & -1 & 1 \\\\ \n",
        "2 & -5 & -3 \\\\ \n",
        "1 & 1 & -1\n",
        "\\end{matrix}\\right|\n",
        "\\begin{matrix}\n",
        "4\\\\ \n",
        "-17\\\\\n",
        "0\n",
        "\\end{matrix}\n",
        "\\end{pmatrix} \\Leftrightarrow \n",
        "\\begin{pmatrix}\n",
        "\\left.\\begin{matrix}\n",
        "1 & 1 & -1 \\\\ \n",
        "0 & -7 & -1 \\\\ \n",
        "0 & -4 & 4\n",
        "\\end{matrix}\\right|\n",
        "\\begin{matrix}\n",
        "0\\\\ \n",
        "-17\\\\\n",
        "4\n",
        "\\end{matrix}\n",
        "\\end{pmatrix}\\Leftrightarrow \n",
        "\\begin{pmatrix}\n",
        "\\left.\\begin{matrix}\n",
        "1 & 1 & -1 \\\\ \n",
        "0 & 4 & -4 \\\\ \n",
        "0 & -7 & -1\n",
        "\\end{matrix}\\right|\n",
        "\\begin{matrix}\n",
        "0\\\\ \n",
        "-4\\\\\n",
        "-17\n",
        "\\end{matrix}\n",
        "\\end{pmatrix}\\Leftrightarrow \n",
        "\\begin{pmatrix}\n",
        "\\left.\\begin{matrix}\n",
        "1 & 1 & -1 \\\\ \n",
        "0 & 1 & -1 \\\\ \n",
        "0 & 0 & -8\n",
        "\\end{matrix}\\right|\n",
        "\\begin{matrix}\n",
        "0\\\\ \n",
        "-1\\\\\n",
        "-24\n",
        "\\end{matrix}\n",
        "\\end{pmatrix}$$\n",
        "\n",
        "Система совместа, имеет единственное решение"
      ]
    },
    {
      "cell_type": "markdown",
      "metadata": {
        "id": "UviwBG0RsuGV"
      },
      "source": [
        "б)\n",
        "$$\\begin{pmatrix}\n",
        "\\left.\\begin{matrix}\n",
        "2 & -4 & 6 \\\\ \n",
        "1 & -2 & 3 \\\\ \n",
        "3 & -6 & 9\n",
        "\\end{matrix}\\right|\n",
        "\\begin{matrix}\n",
        "1\\\\ \n",
        "-2\\\\\n",
        "5\n",
        "\\end{matrix}\n",
        "\\end{pmatrix}$$ \n",
        "\n",
        "Сложим первые две строки и отнимем от третьей:\n",
        "\n",
        "$$\n",
        "\\begin{pmatrix}\n",
        "\\left.\\begin{matrix}\n",
        "2 & -4 & 6 \\\\ \n",
        "1 & -2 & 3 \\\\ \n",
        "0 & 0 & 0\n",
        "\\end{matrix}\\right|\n",
        "\\begin{matrix}\n",
        "1\\\\ \n",
        "-2\\\\\n",
        "6\n",
        "\\end{matrix}\n",
        "\\end{pmatrix}$$\n",
        "\n",
        "Система несовместна"
      ]
    },
    {
      "cell_type": "markdown",
      "metadata": {
        "id": "t5d_IIBYtdZU"
      },
      "source": [
        "в)\n",
        "$$\\begin{pmatrix}\n",
        "\\left.\\begin{matrix}\n",
        "1 & 2 & 5 \\\\ \n",
        "3 & 1 & -8\n",
        "\\end{matrix}\\right|\n",
        "\\begin{matrix}\n",
        "4\\\\ \n",
        "-2\n",
        "\\end{matrix}\n",
        "\\end{pmatrix}$$ \n",
        "\n",
        "Отнимем от третьей строки первую, умноженную на 3:\n",
        "\n",
        "$$\n",
        "\\begin{pmatrix}\n",
        "\\left.\\begin{matrix}\n",
        "1 & 2 & 5 \\\\ \n",
        "0 & -5 & -23\n",
        "\\end{matrix}\\right|\n",
        "\\begin{matrix}\n",
        "4\\\\ \n",
        "-14\n",
        "\\end{matrix}\n",
        "\\end{pmatrix}\n",
        "$$\n",
        "\n",
        "Система совместа, имеет бесконечное количество решений"
      ]
    },
    {
      "cell_type": "markdown",
      "metadata": {
        "id": "nIB2sP6WuIXQ"
      },
      "source": [
        "__3.__ Проверить на совместность и выяснить, сколько решений будет иметь система линейных уравнений, заданная расширенной матрицей\n",
        "\n",
        "$$\\tilde{A}=\\begin{pmatrix}\n",
        "\\left.\\begin{matrix}\n",
        "1 & 3 & -2 & 4\\\\ \n",
        "0 & 5 & 0 & 1\\\\ \n",
        "0 & 0 & 3 & 0\\\\ \n",
        "0 & 0 & 0 & 2\n",
        "\\end{matrix}\\right|\n",
        "\\begin{matrix}\n",
        "3\\\\ \n",
        "2\\\\\n",
        "4\\\\\n",
        "1\n",
        "\\end{matrix}\n",
        "\\end{pmatrix}.$$"
      ]
    },
    {
      "cell_type": "markdown",
      "metadata": {
        "id": "C6jjGqi6uO84"
      },
      "source": [
        "Решение:\n",
        "\n",
        "Ранг матрицы равен 4. Последняя строка имее решение. Система совместна и имеет единственное решение"
      ]
    },
    {
      "cell_type": "markdown",
      "metadata": {
        "id": "cBA6K7kaud2K"
      },
      "source": [
        "__4.__ Дана система линейных уравнений, заданная расширенной матрицей\n",
        "\n",
        "$$\\tilde{A}=\\begin{pmatrix}\n",
        "\\left.\\begin{matrix}\n",
        "1 & 2 & 3\\\\ \n",
        "4 & 5 & 6\\\\ \n",
        "7 & 8 & 9\n",
        "\\end{matrix}\\right|\n",
        "\\begin{matrix}\n",
        "a\\\\ \n",
        "b\\\\\n",
        "c\n",
        "\\end{matrix}\n",
        "\\end{pmatrix}.$$\n",
        "\n",
        "Найти соотношение между параметрами $a$, $b$ и $c$, при которых система является несовместной."
      ]
    },
    {
      "cell_type": "markdown",
      "metadata": {
        "id": "l8m6UJM4vKpo"
      },
      "source": [
        "$$\\begin{pmatrix}\n",
        "\\left.\\begin{matrix}\n",
        "1 & 2 & 3\\\\ \n",
        "4 & 5 & 6\\\\ \n",
        "7 & 8 & 9\n",
        "\\end{matrix}\\right|\n",
        "\\begin{matrix}\n",
        "a\\\\ \n",
        "b\\\\\n",
        "c\n",
        "\\end{matrix}\n",
        "\\end{pmatrix} \\Leftrightarrow\n",
        "\\begin{pmatrix}\n",
        "\\left.\\begin{matrix}\n",
        "1 & 2 & 3\\\\ \n",
        "0 & -3 & -6\\\\ \n",
        "0 & -6 & -12\n",
        "\\end{matrix}\\right|\n",
        "\\begin{matrix}\n",
        "a\\\\ \n",
        "b-4a\\\\\n",
        "c-7a\n",
        "\\end{matrix}\n",
        "\\end{pmatrix}$$\n",
        "\n",
        "Чтобы система было несовместа, небходимо, чтобы свободные члены нижних двух строк не были подобны с коэффицтентом 2 (так как 2 нижние строки подобны с коэфициентом 2):\n",
        "$$2(b-4a)  \\neq c-7a \\Leftrightarrow 2b-c \\neq a$$"
      ]
    },
    {
      "cell_type": "markdown",
      "metadata": {
        "id": "VWSO3dNDwwJo"
      },
      "source": [
        "# **Вторая часть**"
      ]
    },
    {
      "cell_type": "markdown",
      "metadata": {
        "id": "bHT_NkbpwzKp"
      },
      "source": [
        "__1.__ Решить систему уравнений методом Крамера:\n",
        "\n",
        "   а) $\\begin{cases}\n",
        "x_{1}-2x_{2}=1 \\\\\n",
        "3x_{1}-4x_{2}=7\n",
        "\\end{cases}$\n",
        "    \n",
        "   б) $\\begin{cases}\n",
        "2x_{1}-x_{2}+5x_{3}=10 \\\\\n",
        "x_{1}+x_{2}-3x_{3}=-2 \\\\\n",
        "2x_{1}+4x_{2}+x_{3}=1\n",
        "\\end{cases}$"
      ]
    },
    {
      "cell_type": "markdown",
      "metadata": {
        "id": "I1YBqjFDw7ud"
      },
      "source": [
        "Решение:\n",
        "\n",
        "а) $$detA=\\begin{vmatrix}\n",
        "1 & -2 \\\\ \n",
        "3 & -4 \n",
        "\\end{vmatrix}=\n",
        "1*(-4) - (-2)*3 = 2\\neq 0,$$\n",
        "\n",
        "$$detA_1=\\begin{vmatrix}\n",
        "1 & -2 \\\\ \n",
        "7 & -4 \n",
        "\\end{vmatrix}=\n",
        "1*(-4) - (-2)*7 = 10,$$\n",
        "\n",
        "$$detA_2=\\begin{vmatrix}\n",
        "1 & 1 \\\\ \n",
        "3 & 7 \n",
        "\\end{vmatrix}=\n",
        "1*7 - 1*3 = 4.$$\n",
        "\n",
        "Найдем решение\n",
        "\n",
        "$$x_{1} = \\frac{detA_{1}}{detA} = \\frac{10}{2}=5,$$\n",
        "\n",
        "$$x_{2} = \\frac{detA_{2}}{detA} = \\frac{4}{2}=2$$"
      ]
    },
    {
      "cell_type": "markdown",
      "metadata": {
        "id": "KNZEPNLox7A0"
      },
      "source": [
        "б)\n",
        "$$detA=\\begin{vmatrix}\n",
        "2 & -1 & 5\\\\ \n",
        "1 & 1 & -3\\\\ \n",
        "2 & 4 & 1\n",
        "\\end{vmatrix}=\n",
        "2\\begin{vmatrix}\n",
        "1 & -3\\\\ \n",
        "4 & 1 \n",
        "\\end{vmatrix}-\n",
        "\\begin{vmatrix}\n",
        "-1 & 5\\\\ \n",
        "4 & 1 \n",
        "\\end{vmatrix}+\n",
        "2\\begin{vmatrix}\n",
        "-1 & 5 \\\\ \n",
        "1 & -3\n",
        "\\end{vmatrix}=2(1 \\cdot 1-3\\cdot (-4))-(-1\\cdot 1-5\\cdot 4)+2(-1\\cdot (-3)-5\\cdot 1)= 26 + 21 - 4 = 43\\neq 0,$$\n",
        "\n",
        "$$detA_1=\\begin{vmatrix}\n",
        "10 & -1 & 5\\\\ \n",
        "-2 & 1 & -3\\\\ \n",
        "1 & 4 & 1\n",
        "\\end{vmatrix}=\n",
        "10\\begin{vmatrix}\n",
        "1 & -3\\\\ \n",
        "4 & 1 \n",
        "\\end{vmatrix}\n",
        "-2\\begin{vmatrix}\n",
        "-1 & 5\\\\ \n",
        "4 & 1 \n",
        "\\end{vmatrix}+\n",
        "\\begin{vmatrix}\n",
        "-1 & 5 \\\\ \n",
        "1 & -3\n",
        "\\end{vmatrix}=10(1 \\cdot 1-3\\cdot (-4))-2(-1\\cdot 1-5\\cdot 4)+(-1\\cdot (-3)-5\\cdot 1)= 130 -42 - 2 = 86\\neq 0,$$"
      ]
    },
    {
      "cell_type": "markdown",
      "metadata": {
        "id": "ALxNZbjvoP3Z"
      },
      "source": [
        "$$detA_2=\\begin{vmatrix}\n",
        "2 & 10 & 5\\\\ \n",
        "1 & -2 & -3\\\\ \n",
        "2 & 1 & 1\n",
        "\\end{vmatrix}=2*(-2)*1 + 10*(-3)*2 + 1*1*5 - (-2)*2*5 - 2*1*(-3) - 1*1*10 = -4 -60 + 5 +20+6 - 10 = -43 $$\n",
        "\n",
        "$$detA_2=\\begin{vmatrix}\n",
        "2 & -1  & 10 \\\\ \n",
        "1 & 1 &-2 & \\\\ \n",
        "2 & 4 & 1\n",
        "\\end{vmatrix}=2*1*1 + (-1)*(-2)*2 +10*4*1 - 10*2*1 -(-2)*4*2 - 1*1*(-1)= 2 +4 +40 - 20 +16 +1 = 43 $$"
      ]
    },
    {
      "cell_type": "code",
      "metadata": {
        "id": "lw4oagHPpuB8",
        "outputId": "b8cbb87e-480b-4cdb-dc17-b417fa4faddd",
        "colab": {
          "base_uri": "https://localhost:8080/",
          "height": 158
        }
      },
      "source": [
        "import numpy as np\n",
        "\n",
        "a = np.array([[2,-1,5], [1,1,-3], [2,4,1]])\n",
        "a_1 = np.array([[10,-1,5], [-2,1,-3], [1,4,1]])\n",
        "a_2 = np.array([[2,10,5], [1,-2,-3], [2,1,1]])\n",
        "a_3 = np.array([[2,-1,10], [1,1,-2], [2,4,1]])\n",
        "\n",
        "print(f'Определитель A:\\n{np.linalg.det(a):.0f}')\n",
        "print(f'Определитель A1:\\n{np.linalg.det(a_1):.0f}')\n",
        "print(f'Определитель A2:\\n{np.linalg.det(a_2):.0f}')\n",
        "print(f'Определитель A3:\\n{np.linalg.det(a_3):.0f}')"
      ],
      "execution_count": null,
      "outputs": [
        {
          "output_type": "stream",
          "text": [
            "Определитель A:\n",
            "43\n",
            "Определитель A1:\n",
            "86\n",
            "Определитель A2:\n",
            "-43\n",
            "Определитель A3:\n",
            "43\n"
          ],
          "name": "stdout"
        }
      ]
    },
    {
      "cell_type": "markdown",
      "metadata": {
        "id": "wbiiQtoxrMuG"
      },
      "source": [
        "Найдем решение\n",
        "\n",
        "$$x_{1} = \\frac{detA_{1}}{detA} = \\frac{86}{43}=2,$$\n",
        "\n",
        "$$x_{2} = \\frac{detA_{2}}{detA} = \\frac{-43}{43}=-1$$\n",
        "\n",
        "$$x_{3} = \\frac{detA_{3}}{detA} = \\frac{43}{43}=1$$"
      ]
    },
    {
      "cell_type": "markdown",
      "metadata": {
        "id": "-PxX6P_7rXGs"
      },
      "source": [
        "__2*.__ Найти $L$-матрицу $LU$-разложения для матрицы коэффициентов:\n",
        "\n",
        "   а)$$\\begin{pmatrix}\n",
        "1 & 2 & 4 \\\\ \n",
        "2 & 9 & 12 \\\\ \n",
        "3 & 26 & 30\n",
        "\\end{pmatrix}$$\n",
        "    \n",
        "   б)$$\\begin{pmatrix}\n",
        "1 & 1 & 2 & 4\\\\ \n",
        "2 & 5 & 8 & 9\\\\ \n",
        "3 & 18 & 29 & 18\\\\\n",
        "4 & 22 & 53 & 33\n",
        "\\end{pmatrix}$$"
      ]
    },
    {
      "cell_type": "markdown",
      "metadata": {
        "id": "TnNV_vAirdcg"
      },
      "source": [
        "а)$$\\begin{pmatrix}\n",
        "1 & 2 & 4 \\\\ \n",
        "2 & 9 & 12 \\\\ \n",
        "3 & 26 & 30\n",
        "\\end{pmatrix}$$ \n",
        "\n",
        "Отнимем первую строку, умноженную на 2 от второй, и умноженную на 3 от третьей\n",
        "\n",
        "$$\\begin{pmatrix}\n",
        "1 & 2 & 4 \\\\ \n",
        "0 & 5 & 4 \\\\ \n",
        "0 & 20 & 18\n",
        "\\end{pmatrix}\n",
        "$$\n",
        "\n",
        "$$М_1 = \\begin{pmatrix}\n",
        "1 & 0 & 0 \\\\ \n",
        "-2 & 1 & 0 \\\\ \n",
        "-3 & 0 & 0\n",
        "\\end{pmatrix}\n",
        "$$\n",
        "\n",
        "Отнимем от третьей строки вторую, умноженную на 4:\n",
        "\n",
        "$$\\begin{pmatrix}\n",
        "1 & 2 & 4 \\\\ \n",
        "0 & 5 & 4 \\\\ \n",
        "0 & 0 & 2\n",
        "\\end{pmatrix}\n",
        "$$\n",
        "\n",
        "$$М_2 = \\begin{pmatrix}\n",
        "1 & 0 & 0 \\\\ \n",
        "0 & 1 & 0 \\\\ \n",
        "0 & -4 & 1\n",
        "\\end{pmatrix}\n",
        "$$\n",
        "\n",
        "Следовательно\n",
        "\n",
        "$$L = \\begin{pmatrix}\n",
        "1 & 0 & 0 \\\\ \n",
        "2 & 1 & 0 \\\\ \n",
        "3 & 4 & 1\n",
        "\\end{pmatrix}\n",
        "$$\n",
        "\n",
        "$$U = \\begin{pmatrix}\n",
        "1 & 2 & 4 \\\\ \n",
        "0 & 5 & 4 \\\\ \n",
        "0 & 0 & 2\n",
        "\\end{pmatrix}\n",
        "$$"
      ]
    },
    {
      "cell_type": "markdown",
      "metadata": {
        "id": "uzX27MzWsf0a"
      },
      "source": [
        "б)$$\\begin{pmatrix}\n",
        "1 & 1 & 2 & 4\\\\ \n",
        "2 & 5 & 8 & 9\\\\ \n",
        "3 & 18 & 29 & 18\\\\\n",
        "4 & 22 & 53 & 33\n",
        "\\end{pmatrix} \\sim \n",
        "\\begin{pmatrix}\n",
        "1 & 1 & 2 & 4\\\\ \n",
        "0 & 3 & 4 & 1\\\\ \n",
        "0 & 15 & 23 & 6\\\\\n",
        "0 & 18 & 45 & 17\n",
        "\\end{pmatrix} \\sim \n",
        "\\begin{pmatrix}\n",
        "1 & 1 & 2 & 4\\\\ \n",
        "0 & 3 & 4 & 1\\\\ \n",
        "0 & 0 & 3 & 1\\\\\n",
        "0 & 0 & 21 & 11\n",
        "\\end{pmatrix} \\sim\n",
        "\\begin{pmatrix}\n",
        "1 & 1 & 2 & 4\\\\ \n",
        "0 & 3 & 4 & 1\\\\ \n",
        "0 & 0 & 3 & 1\\\\\n",
        "0 & 0 & 0 & 4\n",
        "\\end{pmatrix}$$\n",
        "\n",
        "\n",
        "\n",
        "$$L = \\begin{pmatrix}\n",
        "1 & 0 & 0 & 0\\\\ \n",
        "2 & 1 & 0 & 0\\\\ \n",
        "3 & 5 & 1 & 0\\\\\n",
        "4 & 6 & 7 & 1\n",
        "\\end{pmatrix}\n",
        "$$\n",
        "\n",
        "$$U = \\begin{pmatrix}\n",
        "1 & 1 & 2 & 4\\\\ \n",
        "0 & 3 & 4 & 1\\\\ \n",
        "0 & 0 & 3 & 1\\\\\n",
        "0 & 0 & 0 & 4\n",
        "\\end{pmatrix}\n",
        "$$"
      ]
    },
    {
      "cell_type": "code",
      "metadata": {
        "id": "8Gjv9QRFte6q",
        "outputId": "09c5e2b8-662b-4e5f-ce3c-e09a97cd43c8",
        "colab": {
          "base_uri": "https://localhost:8080/",
          "height": 104
        }
      },
      "source": [
        "l = np.array([[1,0,0, 0], [2,1,0, 0], [3,5,1, 0], [4,6,7, 0]])\n",
        "u = np.array([[1,1,2, 4], [0,3,4, 1], [0,0,3, 1], [0,0,0, 4]])\n",
        "\n",
        "print(f'Матрица LU:\\n{np.dot(l, u)}')"
      ],
      "execution_count": null,
      "outputs": [
        {
          "output_type": "stream",
          "text": [
            "Матрица LU:\n",
            "[[ 1  1  2  4]\n",
            " [ 2  5  8  9]\n",
            " [ 3 18 29 18]\n",
            " [ 4 22 53 29]]\n"
          ],
          "name": "stdout"
        }
      ]
    },
    {
      "cell_type": "markdown",
      "metadata": {
        "id": "ZQ15EUHnubK3"
      },
      "source": [
        "__3*.__ Решить систему линейных уравнений методом $LU$-разложения\n",
        "\n",
        "$$\\begin{cases}\n",
        "2x_{1}+x_{2}+3x_{3}=1 \\\\\n",
        "11x_{1}+7x_{2}+5x_{3}=-6 \\\\\n",
        "9x_{1}+8x_{2}+4x_{3}=-5\n",
        "\\end{cases}$$"
      ]
    },
    {
      "cell_type": "markdown",
      "metadata": {
        "id": "qFGbckiYuecW"
      },
      "source": [
        "$$\\begin{pmatrix}\n",
        "2 & 1 & 3 \\\\ \n",
        "11 & 7 & 5\\\\ \n",
        "9 & 8 & 4\n",
        "\\end{pmatrix} \\sim \n",
        "\\begin{pmatrix}\n",
        "2 & 1 & 3 \\\\ \n",
        "0 & 1.5 & -11.5\\\\ \n",
        "0 & 3.5 & 9.5\n",
        "\\end{pmatrix} \n",
        "\\sim \n",
        "\\begin{pmatrix}\n",
        "2 & 1 & 3 \\\\ \n",
        "0 & 1.5 & -11.5\\\\ \n",
        "0 & 0 & 52/3\n",
        "\\end{pmatrix}$$\n",
        "\n",
        "$$\\begin{pmatrix}\n",
        "1 & 0 & 0 \\\\ \n",
        "11/2 & 1 & 0\\\\ \n",
        "9/2 & 7/3 & 1\n",
        "\\end{pmatrix}$$"
      ]
    },
    {
      "cell_type": "code",
      "metadata": {
        "id": "0-SQYsHVwIGE",
        "outputId": "0497e32e-3a4b-4a94-95d7-e73f55a10efd",
        "colab": {
          "base_uri": "https://localhost:8080/",
          "height": 86
        }
      },
      "source": [
        "u = np.array([[2,1,3], [0,1.5,-11.5], [0,0, 52/3]])\n",
        "l = np.array([[1,0,0], [11/2,1,0], [9/2, 7/3, 1]])\n",
        "\n",
        "print(f'Матрица LU:\\n{np.dot(l, u )}')"
      ],
      "execution_count": null,
      "outputs": [
        {
          "output_type": "stream",
          "text": [
            "Матрица LU:\n",
            "[[ 2.  1.  3.]\n",
            " [11.  7.  5.]\n",
            " [ 9.  8.  4.]]\n"
          ],
          "name": "stdout"
        }
      ]
    },
    {
      "cell_type": "markdown",
      "metadata": {
        "id": "bx5DoTIAwkfJ"
      },
      "source": [
        "Решаем уравнение $Ly = b$:\n",
        "\n",
        "$$y_1 = 1$$\n",
        "$$1*11/2 + y_2 = -6 \\Leftrightarrow y_2 = - 11.5$$\n",
        "$$1*9/2  -11.5*7/3 +y_3 = -5 \\Leftrightarrow y_3 = 52/3$$"
      ]
    },
    {
      "cell_type": "code",
      "metadata": {
        "id": "VVmVMUBP4cNq",
        "outputId": "4a247d5a-122b-49b6-cf16-519eb0d70e7a",
        "colab": {
          "base_uri": "https://localhost:8080/",
          "height": 34
        }
      },
      "source": [
        "l = np.array([[1,0,0], [11/2,1,0], [9/2, 7/3, 1]])\n",
        "b = np.array([1, -6, -5])\n",
        "\n",
        "print(f'Решение {np.linalg.solve(l, b)}')"
      ],
      "execution_count": null,
      "outputs": [
        {
          "output_type": "stream",
          "text": [
            "Решение [  1.         -11.5         17.33333333]\n"
          ],
          "name": "stdout"
        }
      ]
    },
    {
      "cell_type": "markdown",
      "metadata": {
        "id": "vP0t0Z7u5zTb"
      },
      "source": [
        "Решаем уравнение $Ux = y$:\n",
        "\n",
        "$$52/3x_3 = 52/3 \\Leftrightarrow x_3=1$$\n",
        "$$1.5x_2 - 11.5 = -11.5 \\Leftrightarrow x_2 = 0$$\n",
        "$$2x_1 + 0 + 3 = 1 \\Leftrightarrow x_1 = -1 $$"
      ]
    },
    {
      "cell_type": "code",
      "metadata": {
        "id": "2AgDZPo06fDV",
        "outputId": "c6ad46d7-a65b-47e4-9011-e6b29101e2cb",
        "colab": {
          "base_uri": "https://localhost:8080/",
          "height": 34
        }
      },
      "source": [
        "u = np.array([[2,1,3], [0,1.5,-11.5], [0,0, 52/3]])\n",
        "b = np.array([1, -11.5, 52/3])\n",
        "\n",
        "print(f'Решение {np.linalg.solve(u, b)}')"
      ],
      "execution_count": null,
      "outputs": [
        {
          "output_type": "stream",
          "text": [
            "Решение [-1.  0.  1.]\n"
          ],
          "name": "stdout"
        }
      ]
    },
    {
      "cell_type": "markdown",
      "metadata": {
        "id": "CPYQIF_766BN"
      },
      "source": [
        "__4*.__ Решить систему линейных уравнений методом Холецкого\n",
        "\n",
        "$$\\begin{cases}\n",
        "81x_{1}-45x_{2}+45x_{3}=531 \\\\\n",
        "-45x_{1}+50x_{2}-15x_{3}=-460 \\\\\n",
        "45x_{1}-15x_{2}+38x_{3}=193\n",
        "\\end{cases}$$"
      ]
    },
    {
      "cell_type": "markdown",
      "metadata": {
        "id": "1xHSt4qV67se"
      },
      "source": [
        "Произведем разложение на $LL^{T}$:\n",
        "\n",
        "$$l_{11}=\\sqrt{a_{11}}=\\sqrt{81} = 9,$$\n",
        "$$l_{21}=\\frac{a_{21}}{l_{11}}=\\frac{-45}{9} = -5,$$\n",
        "$$l_{31}=\\frac{a_{31}}{l_{11}}=\\frac{45}{9} = 5,$$\n",
        "\n",
        "$$l_{22}=\\sqrt{a_{22}-l_{21}^{2}}=\\sqrt{50 - 25}=5,$$\n",
        "$$l_{32}=\\frac{1}{l_{22}}\\left ( a_{32}-l_{21}l_{31} \\right)=\\frac{1}{5}\\left ( -15 - (-5)\\cdot 5 \\right )= 2,$$\n",
        "\n",
        "$$l_{33}=\\sqrt{a_{33}-l_{31}^{2}-l_{32}^{2}}=\\sqrt{38-25-4}=3.$$"
      ]
    },
    {
      "cell_type": "markdown",
      "metadata": {
        "id": "L5nTvhiR8ExC"
      },
      "source": [
        "Получили матрицу \n",
        "\n",
        "$$L = \\begin{pmatrix}\n",
        "9 & 0 & 0 \\\\ \n",
        "-5 & 5 & 0 \\\\ \n",
        "5 & 2 & 3\n",
        "\\end{pmatrix}, \n",
        "\\; \\; \n",
        "L^{T} = \\begin{pmatrix}\n",
        "9 & -5 & 5 \\\\ \n",
        "0 & 5 & 2\\\\ \n",
        "0 & 0 & 3\n",
        "\\end{pmatrix}.$$"
      ]
    },
    {
      "cell_type": "markdown",
      "metadata": {
        "id": "aI-zmV558eEi"
      },
      "source": [
        "Решим систему $Ly=b:$\n",
        "\n",
        "\n",
        "\n",
        "$$y_{1} = 531/9 = 59,$$\n",
        "\n",
        "$$-5*59 +5y_{2}= -460, y_2 = -33$$\n",
        "\n",
        "$$5*59 + 2*(-33) +3y_{3} = 193, y_3 = -12.$$"
      ]
    },
    {
      "cell_type": "code",
      "metadata": {
        "id": "XJh7-R7G9JZW",
        "outputId": "6a10038a-2c26-4212-a9e9-3b3df1fb3481",
        "colab": {
          "base_uri": "https://localhost:8080/",
          "height": 34
        }
      },
      "source": [
        "u = np.array([[9,0,0], [-5,5,0], [5,2,3]])\n",
        "b = np.array([531, -460, 193])\n",
        "\n",
        "print(f'Решение {np.linalg.solve(u, b)}')"
      ],
      "execution_count": null,
      "outputs": [
        {
          "output_type": "stream",
          "text": [
            "Решение [ 59. -33. -12.]\n"
          ],
          "name": "stdout"
        }
      ]
    },
    {
      "cell_type": "markdown",
      "metadata": {
        "id": "SCrRpiOu9mu3"
      },
      "source": [
        "И решим систему $L^{T}x=y:$\n",
        "\n",
        "\n",
        "$$x_{3}=-4,$$\n",
        "\n",
        "$$5x_{2}-2*(-4)=-33, x_2 = -5$$\n",
        "\n",
        "$$9x_{1} - 5*(-5) + 5*(-4)=59, x_1=6.$$"
      ]
    },
    {
      "cell_type": "code",
      "metadata": {
        "id": "oovBFAhH981h",
        "outputId": "4e1260c0-39a5-49ef-be67-a7f78b21c9ea",
        "colab": {
          "base_uri": "https://localhost:8080/",
          "height": 34
        }
      },
      "source": [
        "u = np.array([[9,0,0], [-5,5,0], [5,2,3]])\n",
        "b = np.array([59, -33, -12])\n",
        "\n",
        "print(f'Решение {np.linalg.solve(u.T, b)}')"
      ],
      "execution_count": null,
      "outputs": [
        {
          "output_type": "stream",
          "text": [
            "Решение [ 6. -5. -4.]\n"
          ],
          "name": "stdout"
        }
      ]
    }
  ]
}