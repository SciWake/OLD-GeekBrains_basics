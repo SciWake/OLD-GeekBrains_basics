{
 "cells": [
  {
   "cell_type": "markdown",
   "metadata": {},
   "source": [
    "# Урок 1. Видеоурок “Элементарная алгебра”"
   ]
  },
  {
   "cell_type": "code",
   "execution_count": 2,
   "metadata": {},
   "outputs": [],
   "source": [
    "import numpy as np"
   ]
  },
  {
   "cell_type": "markdown",
   "metadata": {},
   "source": [
    "### Задание 1\n",
    "Вычислите:\n",
    "\n",
    "$7\\cdot\\begin{pmatrix}\n",
    "5 & 10\\\\ \n",
    "7 & 12\\\\\n",
    "11.3 & 5\\\\\n",
    "25 & 30\n",
    "\\end{pmatrix}\n",
    "+\n",
    "2\\cdot\\begin{pmatrix}\n",
    "5 & 10\\\\ \n",
    "7 & 12\\\\\n",
    "11.3 & 5\\\\\n",
    "25 & 30\n",
    "\\end{pmatrix}$\n",
    "\n",
    "__Решение:__\n",
    "\n",
    "$7\\cdot\\begin{pmatrix}\n",
    "5 & 10\\\\ \n",
    "7 & 12\\\\\n",
    "11.3 & 5\\\\\n",
    "25 & 30\n",
    "\\end{pmatrix} \n",
    "=\n",
    "\\begin{pmatrix}\n",
    "35 & 70\\\\ \n",
    "49 & 84\\\\\n",
    "79.1 & 35\\\\\n",
    "175 & 210\n",
    "\\end{pmatrix}$\n",
    "\n",
    "$2\\cdot\\begin{pmatrix}\n",
    "5 & 10\\\\ \n",
    "7 & 12\\\\\n",
    "11.3 & 5\\\\\n",
    "25 & 30\n",
    "\\end{pmatrix}\n",
    "=\n",
    "\\begin{pmatrix}\n",
    "10 & 20\\\\ \n",
    "14 & 24\\\\\n",
    "22.6 & 10\\\\\n",
    "50 & 60\n",
    "\\end{pmatrix}$\n",
    "\n",
    "__Выполняем проверку:__"
   ]
  },
  {
   "cell_type": "code",
   "execution_count": 11,
   "metadata": {},
   "outputs": [
    {
     "name": "stdout",
     "output_type": "stream",
     "text": [
      "[[ 35.   70. ]\n",
      " [ 49.   84. ]\n",
      " [ 79.1  35. ]\n",
      " [175.  210. ]]\n",
      "[[10.  20. ]\n",
      " [14.  24. ]\n",
      " [22.6 10. ]\n",
      " [50.  60. ]]\n"
     ]
    }
   ],
   "source": [
    "A = np.array([[5, 10], [7, 12], [11.3, 5], [25, 30]])\n",
    "B = np.array([[5, 10], [7, 12], [11.3, 5], [25, 30]])\n",
    "\n",
    "print(7*A)\n",
    "print(2*B)"
   ]
  },
  {
   "cell_type": "markdown",
   "metadata": {},
   "source": [
    "__Складываем итоговые значения:__\n",
    "\n",
    "$\\begin{pmatrix}\n",
    "35 & 70\\\\ \n",
    "49 & 84\\\\\n",
    "79.1 & 35\\\\\n",
    "175 & 210\n",
    "\\end{pmatrix}\n",
    "+\n",
    "\\begin{pmatrix}\n",
    "10 & 20\\\\ \n",
    "14 & 24\\\\\n",
    "22.6 & 10\\\\\n",
    "50 & 60\n",
    "\\end{pmatrix}\n",
    "=\n",
    "\\begin{pmatrix}\n",
    "45 & 90\\\\ \n",
    "63 & 108\\\\\n",
    "101.7 & 45\\\\\n",
    "225 & 270\n",
    "\\end{pmatrix}$\n",
    "\n",
    "__Выполняем проверку:__"
   ]
  },
  {
   "cell_type": "code",
   "execution_count": 12,
   "metadata": {},
   "outputs": [
    {
     "name": "stdout",
     "output_type": "stream",
     "text": [
      "[[ 45.   90. ]\n",
      " [ 63.  108. ]\n",
      " [101.7  45. ]\n",
      " [225.  270. ]]\n"
     ]
    }
   ],
   "source": [
    "print(7*A + 2*B)"
   ]
  },
  {
   "cell_type": "code",
   "execution_count": null,
   "metadata": {},
   "outputs": [],
   "source": []
  }
 ],
 "metadata": {
  "kernelspec": {
   "display_name": "Python 3",
   "language": "python",
   "name": "python3"
  },
  "language_info": {
   "codemirror_mode": {
    "name": "ipython",
    "version": 3
   },
   "file_extension": ".py",
   "mimetype": "text/x-python",
   "name": "python",
   "nbconvert_exporter": "python",
   "pygments_lexer": "ipython3",
   "version": "3.7.6"
  }
 },
 "nbformat": 4,
 "nbformat_minor": 4
}
