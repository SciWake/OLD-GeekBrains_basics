{
 "cells": [
  {
   "cell_type": "markdown",
   "metadata": {},
   "source": [
    "# Урок 1. Видеоурок “Элементарная алгебра”"
   ]
  },
  {
   "cell_type": "code",
   "execution_count": 2,
   "metadata": {},
   "outputs": [],
   "source": [
    "import numpy as np"
   ]
  },
  {
   "cell_type": "markdown",
   "metadata": {},
   "source": [
    "### Задание 1\n",
    "Вычислите:\n",
    "\n",
    "$7\\cdot\\begin{pmatrix}\n",
    "5 & 10\\\\ \n",
    "7 & 12\\\\\n",
    "11.3 & 5\\\\\n",
    "25 & 30\n",
    "\\end{pmatrix}\n",
    "+\n",
    "2\\cdot\\begin{pmatrix}\n",
    "5 & 10\\\\ \n",
    "7 & 12\\\\\n",
    "11.3 & 5\\\\\n",
    "25 & 30\n",
    "\\end{pmatrix}$\n",
    "\n",
    "__Решение:__\n",
    "\n",
    "$7\\cdot\\begin{pmatrix}\n",
    "5 & 10\\\\ \n",
    "7 & 12\\\\\n",
    "11.3 & 5\\\\\n",
    "25 & 30\n",
    "\\end{pmatrix} \n",
    "=\n",
    "\\begin{pmatrix}\n",
    "35 & 70\\\\ \n",
    "49 & 84\\\\\n",
    "79.1 & 35\\\\\n",
    "175 & 210\n",
    "\\end{pmatrix}$\n",
    "\n",
    "$2\\cdot\\begin{pmatrix}\n",
    "5 & 10\\\\ \n",
    "7 & 12\\\\\n",
    "11.3 & 5\\\\\n",
    "25 & 30\n",
    "\\end{pmatrix}\n",
    "=\n",
    "\\begin{pmatrix}\n",
    "10 & 20\\\\ \n",
    "14 & 24\\\\\n",
    "22.6 & 10\\\\\n",
    "50 & 60\n",
    "\\end{pmatrix}$\n",
    "\n",
    "__Выполняем проверку:__"
   ]
  },
  {
   "cell_type": "code",
   "execution_count": 11,
   "metadata": {},
   "outputs": [
    {
     "name": "stdout",
     "output_type": "stream",
     "text": [
      "[[ 35.   70. ]\n",
      " [ 49.   84. ]\n",
      " [ 79.1  35. ]\n",
      " [175.  210. ]]\n",
      "[[10.  20. ]\n",
      " [14.  24. ]\n",
      " [22.6 10. ]\n",
      " [50.  60. ]]\n"
     ]
    }
   ],
   "source": [
    "A = np.array([[5, 10], [7, 12], [11.3, 5], [25, 30]])\n",
    "B = np.array([[5, 10], [7, 12], [11.3, 5], [25, 30]])\n",
    "\n",
    "print(7*A)\n",
    "print(2*B)"
   ]
  },
  {
   "cell_type": "markdown",
   "metadata": {},
   "source": [
    "__Складываем итоговые значения:__\n",
    "\n",
    "$\\begin{pmatrix}\n",
    "35 & 70\\\\ \n",
    "49 & 84\\\\\n",
    "79.1 & 35\\\\\n",
    "175 & 210\n",
    "\\end{pmatrix}\n",
    "+\n",
    "\\begin{pmatrix}\n",
    "10 & 20\\\\ \n",
    "14 & 24\\\\\n",
    "22.6 & 10\\\\\n",
    "50 & 60\n",
    "\\end{pmatrix}\n",
    "=\n",
    "\\begin{pmatrix}\n",
    "45 & 90\\\\ \n",
    "63 & 108\\\\\n",
    "101.7 & 45\\\\\n",
    "225 & 270\n",
    "\\end{pmatrix}$\n",
    "\n",
    "__Выполняем проверку:__"
   ]
  },
  {
   "cell_type": "code",
   "execution_count": 12,
   "metadata": {},
   "outputs": [
    {
     "name": "stdout",
     "output_type": "stream",
     "text": [
      "[[ 45.   90. ]\n",
      " [ 63.  108. ]\n",
      " [101.7  45. ]\n",
      " [225.  270. ]]\n"
     ]
    }
   ],
   "source": [
    "print(7*A + 2*B)"
   ]
  },
  {
   "cell_type": "markdown",
   "metadata": {},
   "source": [
    "### Задание 2.1\n",
    "Решите систему уравнений:\n",
    "\n",
    "$\\begin{cases}\n",
    "3х - 2y + 5z = 7, \\\\\n",
    "7x + 4y - 8z = 3, \\\\\n",
    "5x - 3y - 4z = -12\n",
    "\\end{cases}$\n",
    "\n",
    "__Решение:__\n",
    "\n",
    "Чтобы решить систему, представим её в виде двух систем:\n",
    "\n",
    "1. $\\begin{cases}\n",
    "3х - 2y + 5z = 7, \\\\\n",
    "7x + 4y - 8z = 3\n",
    "\\end{cases}$\n",
    "\n",
    "2. $\\begin{cases}\n",
    "3х - 2y + 5z = 7, \\\\\n",
    "5x - 3y - 4z = -12\n",
    "\\end{cases}$\n",
    "\n",
    "__Решаем каждую систему:__\n",
    "\n",
    "1. $\\begin{cases}\n",
    "3х - 2y + 5z = 7, \\\\\n",
    "7x + 4y - 8z = 3\n",
    "\\end{cases} \n",
    "= \n",
    "\\begin{cases}\n",
    "3х - 2y + 5z = 7, | \\cdot 2 \\\\\n",
    "7x + 4y - 8z = 3\n",
    "\\end{cases} \n",
    "=\n",
    "\\begin{cases}\n",
    "6х - 4y + 10z = 14, \\\\\n",
    "7x + 4y - 8z = 3\n",
    "\\end{cases}$\n",
    "\n",
    "Складываем два уравнения и получаем:\n",
    "\n",
    "$13x + 2z = 17$\n",
    "\n",
    "2. $\\begin{cases}\n",
    "3х - 2y + 5z = 7, \\\\\n",
    "5x - 3y - 4z = -12\n",
    "\\end{cases}\n",
    "=\n",
    "\\begin{cases}\n",
    "3х - 2y + 5z = 7, | \\cdot 3 \\\\\n",
    "5x - 3y - 4z = -12 | \\cdot -2\n",
    "\\end{cases}\n",
    "=\n",
    "\\begin{cases}\n",
    "9х - 6y + 15z = 21, \\\\\n",
    "-10x + 6y + 8z = 24\n",
    "\\end{cases}$\n",
    "\n",
    "Складываем два уравнения и получаем:\n",
    "\n",
    "$-x + 23z = 45$\n",
    "\n",
    "__Записываем два уравнения одной системой:__\n",
    "\n",
    "$\\begin{cases}\n",
    "13x + 2z = 17, \\\\\n",
    "-x + 23z = 45\n",
    "\\end{cases}$\n",
    "\n",
    "Решаем систему и получаем, $z = 2, x = 1$\n",
    "\n",
    "__Подставим полученные значения в уравнение:__\n",
    "\n",
    "В качестве уравнения выберем $3х - 2y + 5z = 7$\n",
    "\n",
    "$3х - 2y + 5z = 7$\n",
    "\n",
    "$3\\cdot{1} - 2y + 5\\cdot{2} = 7$\n",
    "\n",
    "$3 - 2y + 10 = 7$\n",
    "\n",
    "$-2y = - 6$\n",
    "\n",
    "$y = 3$\n",
    "\n",
    "__Ответ:__ $(x, y, z) = (1, 3, 2)$"
   ]
  },
  {
   "cell_type": "code",
   "execution_count": null,
   "metadata": {},
   "outputs": [],
   "source": []
  }
 ],
 "metadata": {
  "kernelspec": {
   "display_name": "Python 3",
   "language": "python",
   "name": "python3"
  },
  "language_info": {
   "codemirror_mode": {
    "name": "ipython",
    "version": 3
   },
   "file_extension": ".py",
   "mimetype": "text/x-python",
   "name": "python",
   "nbconvert_exporter": "python",
   "pygments_lexer": "ipython3",
   "version": "3.7.6"
  }
 },
 "nbformat": 4,
 "nbformat_minor": 4
}
