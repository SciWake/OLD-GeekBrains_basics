{
 "cells": [
  {
   "cell_type": "code",
   "execution_count": 119,
   "metadata": {},
   "outputs": [],
   "source": [
    "import matplotlib\n",
    "import numpy as np\n",
    "import matplotlib.pyplot as plt\n",
    "%matplotlib inline"
   ]
  },
  {
   "cell_type": "markdown",
   "metadata": {},
   "source": [
    "## Оптимизация. Имплементация градиентного спуска"
   ]
  },
  {
   "cell_type": "code",
   "execution_count": 2,
   "metadata": {},
   "outputs": [],
   "source": [
    "x = np.linspace(-50, 50, 5000)\n",
    "def func1(_x): return _x**2\n",
    "def grad1(_x): return 2*_x"
   ]
  },
  {
   "cell_type": "code",
   "execution_count": 3,
   "metadata": {},
   "outputs": [],
   "source": [
    "def calculate_grad(func, x0, delta=0.01): return (func(x0+delta)-func(x0))/delta\n",
    "def calculate_grad2(func, x0, delta=0.01): return (func(x0+delta)-func(x0-delta))/(2*delta)"
   ]
  },
  {
   "cell_type": "code",
   "execution_count": 4,
   "metadata": {},
   "outputs": [
    {
     "name": "stdout",
     "output_type": "stream",
     "text": [
      "true grad 38.78488581495631\n",
      "method1 38.794885814962754\n",
      "method2 38.78488581496242\n"
     ]
    }
   ],
   "source": [
    "x0=np.random.uniform(-50, 50)\n",
    "print('true grad', grad1(x0))\n",
    "print('method1', calculate_grad(func1, x0))\n",
    "print('method2', calculate_grad2(func1, x0))"
   ]
  },
  {
   "cell_type": "code",
   "execution_count": 5,
   "metadata": {},
   "outputs": [
    {
     "data": {
      "image/png": "[encoded data removed]",
      "text/plain": [
       "<Figure size 432x288 with 1 Axes>"
      ]
     },
     "metadata": {
      "needs_background": "light"
     },
     "output_type": "display_data"
    }
   ],
   "source": [
    "plt.plot(x, func1(x))\n",
    "plt.show()"
   ]
  },
  {
   "cell_type": "code",
   "execution_count": 13,
   "metadata": {},
   "outputs": [
    {
     "name": "stdout",
     "output_type": "stream",
     "text": [
      "-6.512358637227386 42.41081501987014\n",
      "-5.340134082526457 28.51703201936068\n",
      "-4.378909947671694 19.17485232981812\n",
      "-3.590706157090789 12.893170706569704\n",
      "-2.9443790488144472 8.66936798309747\n",
      "-2.4143908200278466 5.829283031834738\n",
      "-1.9798004724228342 3.9196099106056774\n",
      "-1.623436387386724 2.6355457038912573\n",
      "-1.3312178376571135 1.772140931296481\n",
      "-1.0915986268788331 1.191587562203754\n",
      "-0.8951108740406432 0.8012234768258042\n",
      "-0.7339909167133274 0.5387426658176707\n",
      "-0.6018725517049285 0.3622505684958018\n",
      "-0.49353549239804134 0.24357728225657713\n",
      "-0.4046991037663939 0.16378136458932246\n",
      "-0.331853265088443 0.1101265895498604\n",
      "-0.27211967737252324 0.07404911881332614\n",
      "-0.22313813544546907 0.0497906274900805\n",
      "-0.18297327106528463 0.033479217924330125\n",
      "-0.1500380822735334 0.02251142613231958\n",
      "-0.1230312274642974 0.015136682931371687\n",
      "-0.10088560652072387 0.010177905603054323\n",
      "-0.08272619734699357 0.006843623727493727\n",
      "-0.06783548182453474 0.004601652594366783\n",
      "-0.05562509509611849 0.003094151204452225\n",
      "-0.04561257797881716 0.002080507269873676\n",
      "-0.03740231394263007 0.0013989330882630598\n",
      "-0.030669897432956658 0.0009406426085480814\n",
      "-0.02514931589502446 0.0006324880899877299\n",
      "-0.020622439033920057 0.0004252849917077496\n",
      "-0.016910400007814446 0.0002859616284242908\n",
      "-0.013866528006407846 0.00019228059895249315\n",
      "-0.011370552965254434 0.0001292894747356564\n",
      "-0.009323853431508636 8.693424281225537e-05\n",
      "-0.007645559813837082 5.845458486696051e-05\n",
      "-0.006269359047346407 3.930486286454424e-05\n",
      "-0.005140874418824054 2.6428589790119553e-05\n",
      "-0.004215517023435724 1.7770583774876388e-05\n",
      "-0.003456723959217294 1.1948940530226883e-05\n",
      "-0.002834513646558181 8.034467612524556e-06\n",
      "-0.0023243011901777086 5.402376022661513e-06\n",
      "-0.001905926975945721 3.632557637637601e-06\n",
      "-0.0015628601202754913 2.442531755547523e-06\n",
      "-0.001281545298625903 1.6423583524301547e-06\n",
      "-0.0010508671448732404 1.104321756174036e-06\n",
      "-0.0008617110587960571 7.425459488514219e-07\n",
      "-0.0007066030682127669 4.992878960076961e-07\n",
      "-0.0005794145159344689 3.3572118127557485e-07\n",
      "-0.0004751199030662645 2.2573892228969656e-07\n",
      "-0.00038959832051433687 1.5178685134759196e-07\n",
      "-0.0003194706228217562 1.0206147884612083e-07\n",
      "-0.00026196591071384013 6.862613837613166e-08\n",
      "-0.0002148120467853489 4.6144215444110933e-08\n",
      "-0.0001761458783639861 3.1027370464620186e-08\n",
      "-0.00014443962025846861 2.0862803900410617e-08\n",
      "-0.00011844048861194426 1.40281493426361e-08\n",
      "-9.712120066179429e-05 9.432527617988512e-09\n",
      "-7.963938454267132e-05 6.342431570335475e-09\n",
      "-6.530429532499048e-05 4.264650987893573e-09\n",
      "-5.354952216649219e-05 2.8675513242596387e-09\n",
      "-4.39106081765236e-05 1.928141510432181e-09\n",
      "-3.600669870474935e-05 1.2964823516145986e-09\n",
      "-2.9525492937894468e-05 8.717547332256561e-10\n",
      "-2.4210904209073464e-05 5.861678826209312e-10\n",
      "-1.9852941451440243e-05 3.941392842743142e-10\n",
      "-1.6279411990181e-05 2.6501925474604885e-10\n",
      "-1.334911783194842e-05 1.7819894689124326e-10\n",
      "-1.0946276622197704e-05 1.1982097188967197e-10\n",
      "-8.975946830202117e-06 8.056762149861543e-11\n",
      "-7.360276400765736e-06 5.417366869566902e-11\n",
      "-6.035426648627904e-06 3.642637483096785e-11\n",
      "-4.949049851874881e-06 2.449309443634278e-11\n",
      "-4.058220878537403e-06 1.646915669899689e-11\n",
      "-3.3277411204006703e-06 1.1073860964405508e-11\n",
      "-2.7287477187285495e-06 7.446064112466263e-12\n",
      "-2.2375731293574104e-06 5.006733509222315e-12\n",
      "-1.8348099660730766e-06 3.3665276116010845e-12\n",
      "-1.5045441721799228e-06 2.263653166040569e-12\n",
      "-1.2337262211875368e-06 1.522080388845679e-12\n",
      "-1.0116555013737802e-06 1.0234468534598346e-12\n",
      "-8.295575111264998e-07 6.881656642663929e-13\n",
      "-6.802371591237299e-07 4.627225926527227e-13\n",
      "-5.577944704814585e-07 3.111346712996907e-13\n",
      "-4.57391465794796e-07 2.0920695298191205e-13\n",
      "-3.7506100195173273e-07 1.4067075518503765e-13\n",
      "-3.0755002160042083e-07 9.458701578641932e-14\n",
      "-2.521910177123451e-07 6.360030941478836e-14\n",
      "-2.0679663452412296e-07 4.2764848050503686e-14\n",
      "-1.6957324030978084e-07 2.875508382915868e-14\n",
      "-1.3905005705402028e-07 1.9334918366726294e-14\n",
      "-1.1402104678429663e-07 1.300079910978676e-14\n",
      "-9.349725836312323e-08 8.741737321420616e-15\n",
      "-7.666775185776105e-08 5.877944174923223e-15\n",
      "-6.286755652336406e-08 3.952329663218375e-15\n",
      "-5.155139634915853e-08 2.6575464655480357e-15\n",
      "-4.227214500631e-08 1.7869342434344993e-15\n",
      "-3.46631589051742e-08 1.2015345852853572e-15\n",
      "-2.8423790302242842e-08 8.079118551458742e-16\n",
      "-2.3307508047839132e-08 5.432399314000859e-16\n",
      "-1.9112156599228088e-08 3.6527452987341774e-16\n"
     ]
    }
   ],
   "source": [
    "x0=np.random.uniform(-50, 50)\n",
    "alpha=0.09\n",
    "n_iter=100\n",
    "for x in range(n_iter):\n",
    "    print(x0, func1(x0))\n",
    "    x0-=alpha*grad1(x0)"
   ]
  },
  {
   "cell_type": "code",
   "execution_count": 14,
   "metadata": {},
   "outputs": [
    {
     "name": "stdout",
     "output_type": "stream",
     "text": [
      "4.715091675025622e-10 2.2232089503895925e-19\n"
     ]
    }
   ],
   "source": [
    "class optimizer:\n",
    "    def __init__(self, alpha, n_iter):\n",
    "        self.alpha=alpha\n",
    "        self.n_iter=n_iter\n",
    "    def fit(self, func, grad, x0):\n",
    "        for i in range(self.n_iter):\n",
    "            x0-=self.alpha*grad(x0)\n",
    "        return x0\n",
    "opt1=optimizer(alpha, 100)\n",
    "x=opt1.fit(func1, grad1, np.random.uniform(-50, 50))\n",
    "print(x, func1(x))"
   ]
  },
  {
   "cell_type": "markdown",
   "metadata": {},
   "source": [
    "## Линейная регрессия"
   ]
  },
  {
   "cell_type": "code",
   "execution_count": 16,
   "metadata": {},
   "outputs": [],
   "source": [
    "# Возьмем 2 признака и 1000 объектов\n",
    "n_features = 2\n",
    "n_objects = 1000\n",
    "\n",
    "# сгенерируем вектор истинных весов\n",
    "w_true = np.random.normal(size=(1, n_features ))\n",
    "\n",
    "# сгенерируем матрицу X, вычислим Y с добавлением случайного шума\n",
    "X = np.random.uniform(-7, 7, (n_objects, n_features))\n",
    "Y = X.dot(w_true.T) + np.random.normal(0, 0.5, size=(n_objects, 1))\n",
    "\n",
    "# возьмем нулевые начальные веса\n",
    "w = np.zeros((1, n_features))"
   ]
  },
  {
   "cell_type": "code",
   "execution_count": 20,
   "metadata": {},
   "outputs": [],
   "source": [
    "# реализуем функцию, определяющую среднеквадратичную ошибку\n",
    "def mserror(X, w, y_real):\n",
    "    y = X.dot(w.T)\n",
    "    return np.sum((y - y_real)**2) / y_real.shape[0]"
   ]
  },
  {
   "cell_type": "code",
   "execution_count": 21,
   "metadata": {},
   "outputs": [
    {
     "data": {
      "text/plain": [
       "(0.24733176558315836, 37.95765551895755)"
      ]
     },
     "execution_count": 21,
     "metadata": {},
     "output_type": "execute_result"
    }
   ],
   "source": [
    "mserror(X, w_true, Y), mserror(X, w, Y)"
   ]
  },
  {
   "cell_type": "code",
   "execution_count": 22,
   "metadata": {},
   "outputs": [],
   "source": [
    "def mserror_grad(X, w, y_real):\n",
    "    return 2*(X.dot(w.T)-y_real).T.dot(X)/y_real.shape[0]"
   ]
  },
  {
   "cell_type": "code",
   "execution_count": 23,
   "metadata": {},
   "outputs": [
    {
     "data": {
      "text/plain": [
       "array([[-0.03262937,  0.34661904]])"
      ]
     },
     "execution_count": 23,
     "metadata": {},
     "output_type": "execute_result"
    }
   ],
   "source": [
    "mserror_grad(X, w_true, Y)"
   ]
  },
  {
   "cell_type": "code",
   "execution_count": 24,
   "metadata": {},
   "outputs": [
    {
     "data": {
      "text/plain": [
       "array([[  4.90410512, -49.52527188]])"
      ]
     },
     "execution_count": 24,
     "metadata": {},
     "output_type": "execute_result"
    }
   ],
   "source": [
    "mserror_grad(X, w, Y)"
   ]
  },
  {
   "cell_type": "code",
   "execution_count": 25,
   "metadata": {},
   "outputs": [
    {
     "name": "stdout",
     "output_type": "stream",
     "text": [
      "curent error: 4.695304517722681\n",
      "curent error: 0.7737607778915178\n",
      "curent error: 0.30856939016384616\n",
      "curent error: 0.25306105976017734\n",
      "curent error: 0.24640074406655607\n",
      "curent error: 0.24559743500829986\n",
      "curent error: 0.24550008150519465\n",
      "curent error: 0.2454882312974525\n",
      "curent error: 0.24548678309335048\n",
      "curent error: 0.24548660547379308\n",
      "curent error: 0.2454865836191415\n",
      "curent error: 0.24548658092243603\n",
      "curent error: 0.2454865805888443\n",
      "curent error: 0.24548658054748654\n",
      "curent error: 0.24548658054234926\n",
      "curent error: 0.24548658054171\n",
      "curent error: 0.2454865805416304\n",
      "curent error: 0.24548658054162042\n",
      "curent error: 0.24548658054161915\n",
      "(1000, 2) (1, 2)\n"
     ]
    }
   ],
   "source": [
    "# список векторов весов после каждой итерации\n",
    "w_list = [w.copy().flatten()]\n",
    "\n",
    "# список значений ошибок после каждой итерации\n",
    "errors = []\n",
    "\n",
    "# шаг градиентного спуска\n",
    "eta = 0.02\n",
    "\n",
    "# максимальное число итераций\n",
    "max_iter = 1e4\n",
    "\n",
    "# критерий сходимости (разница весов, при которой алгоритм останавливается)\n",
    "min_weight_dist = 1e-8\n",
    "\n",
    "# зададим начальную разницу весов большим числом\n",
    "weight_dist = np.inf\n",
    "\n",
    "# счетчик итераций\n",
    "iter_num = 0\n",
    "\n",
    "# ход градиентного спуска\n",
    "while weight_dist > min_weight_dist and iter_num < max_iter:\n",
    "    new_w = w -  eta * mserror_grad(X, w, Y)\n",
    "    weight_dist = np.linalg.norm(new_w - w)\n",
    "    \n",
    "    w_list.append(new_w.copy().flatten())\n",
    "    cur_error=mserror(X, new_w, Y)\n",
    "    print('curent error: {0}'.format(cur_error))\n",
    "    errors.append(mserror(X, new_w, Y))\n",
    "    \n",
    "    iter_num += 1\n",
    "    w = new_w\n",
    "    \n",
    "w_list = np.array(w_list)\n",
    "\n",
    "print(X.shape, w.shape)"
   ]
  },
  {
   "cell_type": "code",
   "execution_count": 26,
   "metadata": {},
   "outputs": [
    {
     "data": {
      "image/png": "[encoded data removed]",
      "text/plain": [
       "<Figure size 936x432 with 1 Axes>"
      ]
     },
     "metadata": {
      "needs_background": "light"
     },
     "output_type": "display_data"
    }
   ],
   "source": [
    "# Визуализируем изменение весов (красной точкой обозначены истинные веса, сгенерированные вначале)\n",
    "plt.figure(figsize=(13, 6))\n",
    "plt.title('Gradient descent')\n",
    "plt.xlabel(r'$w_1$')\n",
    "plt.ylabel(r'$w_2$')\n",
    "\n",
    "plt.scatter(w_list[:, 0], w_list[:, 1])\n",
    "plt.scatter(w_true[0, 0], w_true[0, 1], c='r')\n",
    "plt.plot(w_list[:, 0], w_list[:, 1])\n",
    "\n",
    "plt.show()"
   ]
  },
  {
   "cell_type": "code",
   "execution_count": 27,
   "metadata": {},
   "outputs": [
    {
     "data": {
      "text/plain": [
       "Text(0, 0.5, 'MSE')"
      ]
     },
     "execution_count": 27,
     "metadata": {},
     "output_type": "execute_result"
    },
    {
     "data": {
      "image/png": "[encoded data removed]",
      "text/plain": [
       "<Figure size 432x288 with 1 Axes>"
      ]
     },
     "metadata": {
      "needs_background": "light"
     },
     "output_type": "display_data"
    }
   ],
   "source": [
    "# Визуализируем изменение функционала ошибки\n",
    "plt.plot(np.arange(len(errors)), errors)\n",
    "plt.title('MSE')\n",
    "plt.xlabel('Iteration number')\n",
    "plt.ylabel('MSE')"
   ]
  },
  {
   "cell_type": "code",
   "execution_count": 28,
   "metadata": {},
   "outputs": [
    {
     "data": {
      "text/plain": [
       "Text(0, 0.5, 'log(MSE)')"
      ]
     },
     "execution_count": 28,
     "metadata": {},
     "output_type": "execute_result"
    },
    {
     "data": {
      "image/png": "[encoded data removed]",
      "text/plain": [
       "<Figure size 432x288 with 1 Axes>"
      ]
     },
     "metadata": {
      "needs_background": "light"
     },
     "output_type": "display_data"
    }
   ],
   "source": [
    "# Визуализируем изменение функционала ошибки\n",
    "plt.plot(np.arange(len(errors)), np.log(np.array(errors)))\n",
    "plt.title('Log(MSE)')\n",
    "plt.xlabel('Iteration number')\n",
    "plt.ylabel('log(MSE)')"
   ]
  },
  {
   "cell_type": "code",
   "execution_count": 29,
   "metadata": {},
   "outputs": [
    {
     "name": "stdout",
     "output_type": "stream",
     "text": [
      "В случае использования нормального уравнения функционал ошибки составляет0.2455\n"
     ]
    }
   ],
   "source": [
    "def normal_equation(X, y):\n",
    "    return np.linalg.solve((X.T).dot(X), (X.T).dot(y)).T\n",
    "\n",
    "normal_eq_w = normal_equation(X, Y)\n",
    "print('В случае использования нормального уравнения функционал ошибки составляет{0}'.format(\n",
    "    round(mserror(X, normal_eq_w, Y), 4)))"
   ]
  },
  {
   "cell_type": "code",
   "execution_count": 30,
   "metadata": {},
   "outputs": [],
   "source": [
    "class linear_regression:\n",
    "    def __init__(self, eta = 0.02, max_iter = 1e4, min_weight_dist = 1e-8):\n",
    "        self.eta = eta\n",
    "        self.max_iter = max_iter\n",
    "        self.min_weight_dist = min_weight_dist\n",
    "    @staticmethod\n",
    "    def mserror(X, w, c0, y_real):\n",
    "        y = X.dot(w.T)+c0\n",
    "        return np.sum((y - y_real)**2) / y_real.shape[0]\n",
    "    @staticmethod\n",
    "    def mserror_grad(X, w, c0, y_real):\n",
    "        delta=(X.dot(w.T)+c0-y_real)\n",
    "        return 2*delta.T.dot(X)/y_real.shape[0], np.sum(2*delta)/y_real.shape[0]\n",
    "    def fit(self, X, Y):\n",
    "        iter_num = 0\n",
    "        weight_dist = np.inf\n",
    "        w = np.zeros((1, X.shape[1]))\n",
    "        c=0\n",
    "        while weight_dist > self.min_weight_dist and iter_num < self.max_iter:\n",
    "            gr_w, gr_c=self.mserror_grad(X, w, c, Y)\n",
    "            new_w = w - 2 * self.eta * gr_w\n",
    "            new_c = c - 2 * self.eta * gr_c\n",
    "            weight_dist = np.sqrt(np.linalg.norm(new_w - w)**2+(new_c - c)**2)\n",
    "            iter_num += 1\n",
    "            w = new_w\n",
    "            c = new_c\n",
    "        self.w=w\n",
    "        self.c=c\n",
    "    def predict(self, X):\n",
    "        return X.dot(self.w.T)+self.c\n",
    "    def test(self, X, Y):\n",
    "        return self.mserror(X, self.w, self.c, Y)\n",
    "    "
   ]
  },
  {
   "cell_type": "code",
   "execution_count": 31,
   "metadata": {},
   "outputs": [
    {
     "data": {
      "text/plain": [
       "0.2454838318277021"
      ]
     },
     "execution_count": 31,
     "metadata": {},
     "output_type": "execute_result"
    }
   ],
   "source": [
    "shift=np.random.uniform()\n",
    "Y=Y+shift\n",
    "lr=linear_regression()\n",
    "lr.fit(X, Y)\n",
    "lr.test(X, Y)"
   ]
  },
  {
   "cell_type": "code",
   "execution_count": 32,
   "metadata": {},
   "outputs": [
    {
     "data": {
      "text/plain": [
       "(0.7957824886202423, 0.7941227430181856)"
      ]
     },
     "execution_count": 32,
     "metadata": {},
     "output_type": "execute_result"
    }
   ],
   "source": [
    "shift, lr.c"
   ]
  },
  {
   "cell_type": "markdown",
   "metadata": {},
   "source": [
    "### Домашнее задание: оптимизировать x^2*(np.sin(0,5*_x)^2+1)\n",
    "<ul>\n",
    "<li>При каких значениях alpha оптимизация проходит успешно, а при каких \"застревает\"?</li></ul>"
   ]
  },
  {
   "cell_type": "code",
   "execution_count": 13,
   "metadata": {},
   "outputs": [],
   "source": [
    "from math import sin, cos"
   ]
  },
  {
   "cell_type": "code",
   "execution_count": 31,
   "metadata": {},
   "outputs": [
    {
     "data": {
      "image/png": "[encoded data removed]",
      "text/plain": [
       "<Figure size 432x288 with 1 Axes>"
      ]
     },
     "metadata": {
      "needs_background": "light"
     },
     "output_type": "display_data"
    }
   ],
   "source": [
    "x = np.linspace(-50, 50, 5000)\n",
    "def func2(_x): return (_x**2)*(np.sin(0.5*_x)**2+1)\n",
    "plt.plot(x, func2(x))\n",
    "plt.show()"
   ]
  },
  {
   "cell_type": "markdown",
   "metadata": {},
   "source": [
    "**Находим градиент**"
   ]
  },
  {
   "cell_type": "code",
   "execution_count": 88,
   "metadata": {},
   "outputs": [],
   "source": [
    "def grad2(x):\n",
    "    return x**2 * np.sin(0.5*x) * np.cos(0.5*x) + 2*x * np.sin(0.5*x)**2"
   ]
  },
  {
   "cell_type": "markdown",
   "metadata": {},
   "source": [
    "**Подбор alpha**"
   ]
  },
  {
   "cell_type": "code",
   "execution_count": 455,
   "metadata": {
    "scrolled": true
   },
   "outputs": [],
   "source": [
    "x0=np.random.uniform(-50, 50)\n",
    "\n",
    "coeff = []\n",
    "\n",
    "for i in np.arange(0.001, 0.2, 0.001):\n",
    "\n",
    "    alpha=i\n",
    "    n_iter=150\n",
    "\n",
    "    data_x = np.array([])\n",
    "    data_y = np.array([])\n",
    "\n",
    "    for x in range(n_iter):\n",
    "        data_x = np.append(data_x, x0)\n",
    "        data_y = np.append(data_y, func2(x0))\n",
    "\n",
    "#         print(x0, func2(x0))\n",
    "        x0 -= alpha * grad2(x0)\n",
    "        \n",
    "    if data_y[-1] < 1:\n",
    "        coeff.append(i)"
   ]
  },
  {
   "cell_type": "markdown",
   "metadata": {},
   "source": [
    "**Используем лучший коэффициент**\n",
    "\n",
    "После нескольких проверок, оказалось, что 0.163 хорошо находит минимум функции."
   ]
  },
  {
   "cell_type": "code",
   "execution_count": 478,
   "metadata": {},
   "outputs": [
    {
     "name": "stdout",
     "output_type": "stream",
     "text": [
      "0.163 0.164 0.165 0.166 0.167 0.168 0.169 0.17 0.171 0.17200000000000001 0.17300000000000001 0.17400000000000002 0.17500000000000002 0.17600000000000002 0.177 0.178 0.179 0.18 0.181 0.182 0.183 0.184 0.185 0.186 0.187 0.188 0.189 0.19 0.191 0.192 0.193 0.194 0.195 0.196 0.197 0.198 0.199 "
     ]
    }
   ],
   "source": [
    "for i in coeff:\n",
    "    print(i, end=' ')"
   ]
  },
  {
   "cell_type": "code",
   "execution_count": 481,
   "metadata": {},
   "outputs": [
    {
     "name": "stdout",
     "output_type": "stream",
     "text": [
      "0.019419577644693594 0.00037715554965375264\n",
      "0.019418383968665392 0.0003771091809693091\n",
      "0.019417190512734165 0.00037706282368514294\n",
      "0.019415997276832284 0.0003770164777970506\n",
      "0.01941480426089215 0.0003769701433008303\n",
      "0.019413611464846183 0.0003769238201922822\n",
      "0.019412418888626846 0.0003768775084672086\n",
      "0.019411226532166623 0.00037683120812141387\n",
      "0.019410034395398026 0.0003767849191507045\n",
      "0.019408842478253602 0.00037673864155088907\n",
      "0.019407650780665923 0.0003766923753177779\n",
      "0.019406459302567586 0.0003766461204471838\n",
      "0.019405268043891224 0.0003765998769349213\n",
      "0.019404077004569496 0.0003765536447768072\n",
      "0.019402886184535093 0.00037650742396866036\n",
      "0.01940169558372073 0.00037646121450630164\n",
      "0.019400505202059153 0.00037641501638555357\n",
      "0.019399315039483136 0.00037636882960224153\n",
      "0.019398125095925485 0.0003763226541521923\n",
      "0.01939693537131903 0.000376276490031235\n",
      "0.01939574586559664 0.0003762303372352006\n",
      "0.019394556578691192 0.0003761841957599223\n",
      "0.019393367510535615 0.00037613806560123515\n",
      "0.019392178661062857 0.0003760919467549766\n",
      "0.01939099003020589 0.00037604583921698565\n",
      "0.01938980161789772 0.00037599974298310377\n",
      "0.019388613424071385 0.0003759536580491741\n",
      "0.019387425448659946 0.00037590758441104227\n",
      "0.019386237691596492 0.0003758615220645555\n",
      "0.019385050152814148 0.0003758154710055633\n",
      "0.01938386283224606 0.00037576943122991704\n",
      "0.019382675729825403 0.00037572340273347044\n",
      "0.01938148884548539 0.0003756773855120788\n",
      "0.019380302179159252 0.0003756313795616\n",
      "0.019379115730780255 0.0003755853848778934\n",
      "0.019377929500281686 0.0003755394014568206\n",
      "0.01937674348759687 0.0003754934292942454\n",
      "0.019375557692659157 0.00037544746838603346\n",
      "0.01937437211540192 0.0003754015187280523\n",
      "0.01937318675575857 0.0003753555803161719\n",
      "0.01937200161366254 0.0003753096531462638\n",
      "0.019370816689047294 0.000375263737214202\n",
      "0.01936963198184632 0.00037521783251586187\n",
      "0.019368447491993145 0.00037517193904712163\n",
      "0.019367263219421314 0.000375126056803861\n",
      "0.019366079164064406 0.00037508018578196183\n",
      "0.019364895325856023 0.00037503432597730786\n",
      "0.0193637117047298 0.0003749884773857849\n",
      "0.019362528300619405 0.000374942640003281\n",
      "0.019361345113458522 0.00037489681382568604\n",
      "0.019360162143180874 0.0003748509988488918\n",
      "0.01935897938972021 0.00037480519506879236\n",
      "0.0193577968530103 0.0003747594024812835\n",
      "0.019356614532984956 0.00037471362108226314\n",
      "0.019355432429578004 0.0003746678508676312\n",
      "0.019354250542723307 0.00037462209183328964\n",
      "0.019353068872354752 0.0003745763439751422\n",
      "0.01935188741840626 0.000374530607289095\n",
      "0.019350706180811774 0.0003744848817710561\n",
      "0.01934952515950527 0.00037443916741693514\n",
      "0.019348344354420746 0.00037439346422264415\n",
      "0.019347163765492236 0.000374347772184097\n",
      "0.019345983392653796 0.0003743020912972097\n",
      "0.019344803235839512 0.0003742564215579\n",
      "0.0193436232949835 0.00037421076296208786\n",
      "0.019342443570019904 0.0003741651155056953\n",
      "0.019341264060882893 0.00037411947918464613\n",
      "0.01934008476750667 0.0003740738539948662\n",
      "0.019338905689825457 0.00037402823993228334\n",
      "0.019337726827773512 0.0003739826369928274\n",
      "0.019336548181285117 0.0003739370451724302\n",
      "0.01933536975029458 0.00037389146446702555\n",
      "0.019334191534736245 0.00037384589487254915\n",
      "0.019333013534544478 0.00037380033638493887\n",
      "0.019331835749653675 0.0003737547890001345\n",
      "0.019330658179998256 0.0003737092527140777\n",
      "0.019329480825512675 0.0003736637275227121\n",
      "0.01932830368613141 0.0003736182134219836\n",
      "0.01932712676178897 0.00037357271040783967\n",
      "0.019325950052419886 0.00037352721847622996\n",
      "0.019324773557958724 0.00037348173762310626\n",
      "0.019323597278340075 0.0003734362678444219\n",
      "0.01932242121349856 0.00037339080913613264\n",
      "0.01932124536336882 0.00037334536149419593\n",
      "0.01932006972788553 0.0003732999249145711\n",
      "0.019318894306983393 0.0003732544993932198\n",
      "0.019317719100597142 0.0003732090849261054\n",
      "0.019316544108661533 0.0003731636815091933\n",
      "0.01931536933111135 0.00037311828913845073\n",
      "0.019314194767881404 0.000373072907809847\n",
      "0.01931302041890654 0.00037302753751935347\n",
      "0.019311846284121626 0.00037298217826294325\n",
      "0.019310672363461557 0.0003729368300365918\n",
      "0.019309498656861258 0.00037289149283627584\n",
      "0.019308325164255683 0.0003728461666579749\n",
      "0.01930715188557981 0.00037280085149766975\n",
      "0.019305978820768642 0.0003727555473513434\n",
      "0.01930480596975722 0.00037271025421498104\n",
      "0.019303633332480603 0.0003726649720845694\n",
      "0.019302460908873883 0.00037261970095609734\n"
     ]
    }
   ],
   "source": [
    "alpha=0.163\n",
    "n_iter=100\n",
    "\n",
    "data_x = np.array([])\n",
    "data_y = np.array([])\n",
    "\n",
    "for x in range(n_iter):\n",
    "    data_x = np.append(data_x, x0)\n",
    "    data_y = np.append(data_y, func2(x0))\n",
    "\n",
    "    print(x0, func2(x0))\n",
    "    x0 -= alpha * grad2(x0)"
   ]
  }
 ],
 "metadata": {
  "kernelspec": {
   "display_name": "Python 3",
   "language": "python",
   "name": "python3"
  },
  "language_info": {
   "codemirror_mode": {
    "name": "ipython",
    "version": 3
   },
   "file_extension": ".py",
   "mimetype": "text/x-python",
   "name": "python",
   "nbconvert_exporter": "python",
   "pygments_lexer": "ipython3",
   "version": "3.8.5"
  }
 },
 "nbformat": 4,
 "nbformat_minor": 4
}
