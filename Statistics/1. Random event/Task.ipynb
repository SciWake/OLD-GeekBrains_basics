{
 "cells": [
  {
   "cell_type": "markdown",
   "metadata": {},
   "source": [
    "# Урок 1. Случайные события. Условная вероятность. Формула Байеса. Независимые испытания"
   ]
  },
  {
   "cell_type": "code",
   "execution_count": 2,
   "metadata": {},
   "outputs": [],
   "source": [
    "# Подключение библиотек\n",
    "import numpy as np"
   ]
  },
  {
   "cell_type": "markdown",
   "metadata": {},
   "source": [
    "### Задача 1\n",
    "\n",
    "Подбрасываются три игральных кубика. Оцените вероятность того, что сумма значений этих кубиков не будет превышать 6.\n",
    "\n",
    "Подсказка: оценкой вероятности может служить, например, относительная частота при большом числе опытов. Попробуйте реализовать наибольшее число опытов, которое позволяют ваш компьютер и/или ваше терпение.\n",
    "\n",
    "__Решение:__"
   ]
  },
  {
   "cell_type": "markdown",
   "metadata": {},
   "source": [
    "Гененрируем набор элементов:"
   ]
  },
  {
   "cell_type": "code",
   "execution_count": 3,
   "metadata": {},
   "outputs": [],
   "source": [
    "count_number = 10 ** 8\n",
    "\n",
    "a = np.random.randint(1, 7, size=count_number)\n",
    "b = np.random.randint(1, 7, size=count_number)\n",
    "c = np.random.randint(1, 7, size=count_number)"
   ]
  },
  {
   "cell_type": "markdown",
   "metadata": {},
   "source": [
    "Рассчитываем количество благоприятных исходов:"
   ]
  },
  {
   "cell_type": "code",
   "execution_count": 4,
   "metadata": {},
   "outputs": [
    {
     "data": {
      "text/plain": [
       "9258533"
      ]
     },
     "execution_count": 4,
     "metadata": {},
     "output_type": "execute_result"
    }
   ],
   "source": [
    "count = 0\n",
    "for n in range(count_number):\n",
    "    if a[n] + b[n] + c[n] <= 6:\n",
    "        count += 1\n",
    "count"
   ]
  },
  {
   "cell_type": "markdown",
   "metadata": {},
   "source": [
    "Рассчитываем относительную частоту:"
   ]
  },
  {
   "cell_type": "code",
   "execution_count": 5,
   "metadata": {},
   "outputs": [
    {
     "name": "stdout",
     "output_type": "stream",
     "text": [
      "0.09258533\n"
     ]
    }
   ],
   "source": [
    "W = count / count_number\n",
    "\n",
    "print(W)"
   ]
  },
  {
   "cell_type": "markdown",
   "metadata": {},
   "source": [
    "### Задача 2\n",
    "\n",
    "Имеется колода в 52 карты. Найти число возможностей вытянуть из неё 4 карты так, чтобы среди них был хотя бы один туз.\n",
    "\n",
    "__Решение:__"
   ]
  },
  {
   "cell_type": "markdown",
   "metadata": {},
   "source": [
    "Количество способов вытянуть 4 карты из 52 карт:\n",
    "\n",
    "$$C_{52}^4 = \\frac{52!}{4!(52 - 4)!} = \\frac{52!}{4! \\cdot 48!} = \\frac{52 \\cdot 51 \\cdot 50 \\cdot 49}{4!} = \\frac{6497400}{24} = 270725$$\n",
    "\n",
    "Количество способов вытянуть 4 карты без единого туза:\n",
    "\n",
    "$$C_{48}^4 = \\frac{48!}{4!(48 - 4)!} = \\frac{48!}{4! \\cdot 44!} = \\frac{48 \\cdot 47 \\cdot 46 \\cdot 45}{4!} = \\frac{4669920}{24} = 194580$$\n",
    "\n",
    "Итого получаем 270725 возможных сочетаний, которыми можно вытащить 4 карты и 194580 где тузов нет. Вычитаем из всех сочетаний, те сочетания где тузов нет.\n",
    "\n",
    "$$270725 - 194580 = 76145$$\n",
    "\n",
    "__Ответ:__ $76145$"
   ]
  },
  {
   "cell_type": "markdown",
   "metadata": {},
   "source": [
    "### Задача 3\n",
    "\n",
    "Из 60 вопросов, входящих в экзаменационные билеты, студент знает 50. Какова вероятность того, что среди трёх наугад выбранных вопросов студент знает: а) все? б) два?\n",
    "\n",
    "__Решение:__"
   ]
  },
  {
   "cell_type": "markdown",
   "metadata": {},
   "source": [
    "**A)** Число способов, которыми можно достать 3 билета из 60 (сочетания без повторений):\n",
    "\n",
    "$$C_{60}^3 = \\frac{60!}{3! \\: (60 - 3)!} = \\frac{60 \\cdot 59 \\cdot 58}{3!} = 34220$$\n",
    "\n",
    "Число способов, достать удачные билеты:\n",
    "\n",
    "$$C_{50}^3 = \\frac{50!}{3! \\: (50 - 3)!} = \\frac{50 \\cdot 49 \\cdot 48}{3!} = 19600$$\n",
    "\n",
    "Теперь можно определить вероятность достать все удачные билеты:\n",
    "\n",
    "$$P(A) = \\dfrac{19600}{34220} = \\dfrac{980}{1711} = 0,572764$$\n",
    "\n",
    "**B)** Число способов 2 удачных билета и один, который не знаком:\n",
    "\n",
    "$$C_{50}^2 \\cdot C_{10}^1 = \\frac{50!}{2! \\cdot 48!} \\cdot 10 = \\frac{50 \\cdot 49}{2!} \\cdot 10 = 12250$$\n",
    "\n",
    "Теперь можно определить вероятность достать 2 удачных билета из 3:\n",
    "\n",
    "$$P(A) = \\dfrac{12250}{34220} = \\dfrac{12250}{3422} = 0,357978$$"
   ]
  },
  {
   "cell_type": "markdown",
   "metadata": {},
   "source": [
    "### Задача 4\n",
    "\n",
    "Бросается игральная кость. Пусть событие A - появление чётного числа, событие B - появление числа больше трёх. Являются ли эти события независимыми?\n",
    "\n",
    "__Решение:__"
   ]
  },
  {
   "cell_type": "markdown",
   "metadata": {},
   "source": [
    "Вероятность выпадения чётного числа:\n",
    "\n",
    "$$P(A) = \\frac{3}{6} = \\frac{1}{2}$$\n",
    "\n",
    "Вероятность выпадения числа, больше 3:\n",
    "\n",
    "$$P(B) = \\frac{3}{6} = \\frac{1}{2}$$\n",
    "\n",
    "$$P(A \\cup B) = P(A) P(B)$$\n",
    "\n",
    "$$P(A \\cup B) = \\frac{1}{3}$$ \n",
    "\n",
    "$$P(A) P(B)  = \\frac{1}{4}$$ \n",
    "\n",
    "__Ответ:__ События являются зависимыми, так как вероятности не равны."
   ]
  },
  {
   "cell_type": "code",
   "execution_count": null,
   "metadata": {},
   "outputs": [],
   "source": []
  }
 ],
 "metadata": {
  "kernelspec": {
   "display_name": "Python 3",
   "language": "python",
   "name": "python3"
  },
  "language_info": {
   "codemirror_mode": {
    "name": "ipython",
    "version": 3
   },
   "file_extension": ".py",
   "mimetype": "text/x-python",
   "name": "python",
   "nbconvert_exporter": "python",
   "pygments_lexer": "ipython3",
   "version": "3.7.6"
  }
 },
 "nbformat": 4,
 "nbformat_minor": 4
}
