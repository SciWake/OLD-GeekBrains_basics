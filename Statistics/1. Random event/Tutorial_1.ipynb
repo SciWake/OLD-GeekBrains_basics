{
 "cells": [
  {
   "cell_type": "markdown",
   "metadata": {},
   "source": [
    "# Теория вероятностей и математическая статистика\n",
    "\n",
    "* 8 вебинаров, 4 недели.\n",
    "* В конце курса — проектная работа (подробнее на занятии 6).\n",
    "* Срок сдачи домашек на портале — до начала следующего занятия.\n",
    "* Если не успеваете — по договорённости можно ставить заглушки.\n",
    "    - Через месяц все заглушки снимаются.\n",
    "    - По готовности домашки надо мне написать.\n",
    "* Домашки удобнее всего сдавать в jupyter-ноутбуках:\n",
    "    - через github\n",
    "    - через google colaboratory\n",
    "    - файлом\n",
    "* Домашки нужно оформлять подробно, чтобы можно было проследить ход рассуждения.\n",
    "* Что стоит знать к этому курсу:\n",
    "    - python (`numpy`, `pandas`)\n",
    "    - математика (на общем уровне; к концу курса пригодится понимание, как работать с векторами и матрицами: [мой вебинар про это](https://geekbrains.ru/events/1248))"
   ]
  },
  {
   "cell_type": "markdown",
   "metadata": {},
   "source": [
    "# Урок 1\n",
    "\n",
    "## Случайные события. Условная вероятность. Формула Байеса.  Независимые испытания"
   ]
  },
  {
   "cell_type": "markdown",
   "metadata": {},
   "source": [
    "### Случайные события\n",
    "\n",
    "__Случайное событие__ — любой исход опыта, который может произойти или не произойти.\n",
    "\n",
    "Например,\n",
    "1. При броске двух игральных костей на одной выпало число $1$, а на другой — $2$.\n",
    "2. Клиент банка не вернул кредит.\n",
    "3. Температура воздуха в Москве за последние десять дней не превышала $29$ градусов по Цельсию."
   ]
  },
  {
   "cell_type": "markdown",
   "metadata": {},
   "source": [
    "Пусть $A$ и $B$ — случайные события.\n",
    "* __Сумма__ событий $A + B$ соответствует наступлению хотя бы одного из событий $A$ и $B$. Такое событие иногда называют __объединением__.\n",
    "* __Произведение__ $A \\cdot B$ соответствует наступлению событий $A$ и $B$ одновременно. Такое событие ещё называется __совместным__.\n",
    "* __Отрицание__ $\\overline{A}$ соответствует тому, что событие $A$ не наступило. Такое событие также называется __дополнением__."
   ]
  },
  {
   "cell_type": "markdown",
   "metadata": {},
   "source": [
    "Событие называется __достоверным__, если в результате испытания оно обязательно произойдёт. \n",
    "\n",
    "Например,\n",
    "1. На игральной кости выпало число, не превышающее $6$.\n",
    "2. Подбросили монету, и выпал либо орёл, либо решка.\n",
    "3. Монету подбросили стократно, и решка выпала не более $100$ раз.\n",
    "\n",
    "Наоборот, __невозможным событием__ мы называем событие, которое никогда не произойдёт.\n",
    "\n",
    "Например,\n",
    "1. Две игральные кости бросили один раз, и сумма выпавших чисел составила $15$.\n",
    "2. Монету подбросили стократно, и решка выпала $55$ раз, а орёл — $56$."
   ]
  },
  {
   "cell_type": "markdown",
   "metadata": {},
   "source": [
    "__Совместными__ называются события, которые могут произойти вместе. Соответственно, __несовместными__ называются события, которые вместе случиться не могут.\n",
    "\n",
    "Например,\n",
    "* При броске монеты не могут одновременно выпасть орёл и решка.\n",
    "* При броске дротика в круглую мишень можно попасть одновременно в правую половину мишени и в нижнюю половину."
   ]
  },
  {
   "cell_type": "markdown",
   "metadata": {},
   "source": [
    "### Статистическая вероятность\n",
    "\n",
    "__Относительная частота__ случайного события — это отношение количества испытаний, в которых данное событие состоялось, к общему числу испытаний:\n",
    "$$W(A) = \\frac{m}{n},$$\n",
    "где\n",
    "* $m$ — число испытаний, в результате которых произошло событие $A$,\n",
    "* $n$ — общее число испытаний."
   ]
  },
  {
   "cell_type": "markdown",
   "metadata": {},
   "source": [
    "__Пример 1__\n",
    "\n",
    "Смоделируем $60$-кратное подбрасывание игральной кости с помощью функции `randint` из модуля `numpy.random`. В этом случае $n = 60$.\n",
    "\n",
    "Событием $A$ будем считать выпадение числа $3$. Сперва найдём его относительную частоту."
   ]
  },
  {
   "cell_type": "code",
   "execution_count": 1,
   "metadata": {},
   "outputs": [],
   "source": [
    "import numpy as np"
   ]
  },
  {
   "cell_type": "code",
   "execution_count": 16,
   "metadata": {},
   "outputs": [
    {
     "name": "stdout",
     "output_type": "stream",
     "text": [
      "[3 5 1 5 2 6 1 5 1 6 5 1 6 4 1 4 4 5 6 6 3 1 1 3 4 2 6 2 4 5 6 2 6 4 1 6 6\n",
      " 3 6 6 6 1 5 5 4 6 2 1 1 2 1 5 1 2 1 2 5 4 1 4]\n"
     ]
    }
   ],
   "source": [
    "n = 60\n",
    "\n",
    "b = np.random.randint(1, 7, size=n)\n",
    "\n",
    "print(b)"
   ]
  },
  {
   "cell_type": "markdown",
   "metadata": {
    "colab_type": "text",
    "id": "cKqcXnQksFJN"
   },
   "source": [
    "Вычислим мощность подмножества, где наблюдалось событие $A$, т.е. выпадало число $3$:"
   ]
  },
  {
   "cell_type": "code",
   "execution_count": 17,
   "metadata": {},
   "outputs": [
    {
     "data": {
      "text/plain": [
       "array([ True, False, False, False, False, False, False, False, False,\n",
       "       False, False, False, False, False, False, False, False, False,\n",
       "       False, False,  True, False, False,  True, False, False, False,\n",
       "       False, False, False, False, False, False, False, False, False,\n",
       "       False,  True, False, False, False, False, False, False, False,\n",
       "       False, False, False, False, False, False, False, False, False,\n",
       "       False, False, False, False, False, False])"
      ]
     },
     "execution_count": 17,
     "metadata": {},
     "output_type": "execute_result"
    }
   ],
   "source": [
    "b == 3"
   ]
  },
  {
   "cell_type": "code",
   "execution_count": 18,
   "metadata": {
    "colab": {},
    "colab_type": "code",
    "id": "R1XSM8SPsFJO"
   },
   "outputs": [
    {
     "data": {
      "text/plain": [
       "4"
      ]
     },
     "execution_count": 18,
     "metadata": {},
     "output_type": "execute_result"
    }
   ],
   "source": [
    "m = (b == 3).sum()\n",
    "\n",
    "m"
   ]
  },
  {
   "cell_type": "markdown",
   "metadata": {
    "colab_type": "text",
    "id": "YRkBCTgosFJV"
   },
   "source": [
    "Итак, относительная частота события $A$:"
   ]
  },
  {
   "cell_type": "code",
   "execution_count": 19,
   "metadata": {
    "colab": {
     "base_uri": "https://localhost:8080/",
     "height": 35
    },
    "colab_type": "code",
    "executionInfo": {
     "elapsed": 806,
     "status": "ok",
     "timestamp": 1541495284486,
     "user": {
      "displayName": "Виолетта Гайдак",
      "photoUrl": "",
      "userId": "16983940382840418244"
     },
     "user_tz": -420
    },
    "id": "Lxfgfn5CsFJV",
    "outputId": "ab2e7433-4e27-4fb6-b2ae-477ca212defd"
   },
   "outputs": [
    {
     "name": "stdout",
     "output_type": "stream",
     "text": [
      "0.06666666666666667\n"
     ]
    }
   ],
   "source": [
    "W = m / n\n",
    "\n",
    "print(W)"
   ]
  },
  {
   "cell_type": "markdown",
   "metadata": {},
   "source": [
    "_Замечание_: здравый смысл подсказывает, что вероятность такого события равна $1 / 6$:"
   ]
  },
  {
   "cell_type": "code",
   "execution_count": 11,
   "metadata": {},
   "outputs": [
    {
     "data": {
      "text/plain": [
       "0.16666666666666666"
      ]
     },
     "execution_count": 11,
     "metadata": {},
     "output_type": "execute_result"
    }
   ],
   "source": [
    "1 / 6"
   ]
  },
  {
   "cell_type": "markdown",
   "metadata": {
    "colab_type": "text",
    "id": "xcJc6quGsFJZ"
   },
   "source": [
    "__Пример 2__\n",
    "\n",
    "Разберём более сложный пример. Смоделируем ситуацию, когда бросают две игральные кости одновременно.\n",
    "\n",
    "При этом будем находить частоту случайного события $B$, при котором на первой кости выпало $1$, а на второй — $2$. \n",
    "\n",
    "Проведём для этого $360$ испытаний, т.е. $n = 360$."
   ]
  },
  {
   "cell_type": "code",
   "execution_count": 20,
   "metadata": {
    "colab": {},
    "colab_type": "code",
    "id": "ZgdkvS6JsFJd"
   },
   "outputs": [],
   "source": [
    "n = 360"
   ]
  },
  {
   "cell_type": "code",
   "execution_count": 21,
   "metadata": {
    "colab": {},
    "colab_type": "code",
    "id": "G-SUa6U4sFJf"
   },
   "outputs": [],
   "source": [
    "c = np.random.randint(1, 7, size=n)\n",
    "d = np.random.randint(1, 7, size=n)"
   ]
  },
  {
   "cell_type": "markdown",
   "metadata": {
    "colab_type": "text",
    "id": "ATgZiDOgsFJm"
   },
   "source": [
    "Числа, стоящие на одной позиции в массивах `c` и `d`, будем считать результатами одного эксперимента.\n",
    "\n",
    "Например, в первом испытании на первой игральной кости выпало число `c[0]`, а на второй — `d[0]`."
   ]
  },
  {
   "cell_type": "code",
   "execution_count": 22,
   "metadata": {
    "colab": {
     "base_uri": "https://localhost:8080/",
     "height": 35
    },
    "colab_type": "code",
    "executionInfo": {
     "elapsed": 849,
     "status": "ok",
     "timestamp": 1541495289089,
     "user": {
      "displayName": "Виолетта Гайдак",
      "photoUrl": "",
      "userId": "16983940382840418244"
     },
     "user_tz": -420
    },
    "id": "SkEtXZxHsFJn",
    "outputId": "ea948386-2a77-438b-f79b-d3f4b115bc08"
   },
   "outputs": [
    {
     "name": "stdout",
     "output_type": "stream",
     "text": [
      "3 2\n"
     ]
    }
   ],
   "source": [
    "i = 0\n",
    "\n",
    "print(c[i], d[i])"
   ]
  },
  {
   "cell_type": "markdown",
   "metadata": {
    "colab_type": "text",
    "id": "7iVpKBCasFJs"
   },
   "source": [
    "Посчитаем число случав, когда в одном испытании на первой игральной кости выпало число $1$, а на второй — $2$."
   ]
  },
  {
   "cell_type": "code",
   "execution_count": 23,
   "metadata": {
    "colab": {
     "base_uri": "https://localhost:8080/",
     "height": 35
    },
    "colab_type": "code",
    "executionInfo": {
     "elapsed": 774,
     "status": "ok",
     "timestamp": 1541495290921,
     "user": {
      "displayName": "Виолетта Гайдак",
      "photoUrl": "",
      "userId": "16983940382840418244"
     },
     "user_tz": -420
    },
    "id": "-7KFNSGLsFJu",
    "outputId": "c05d9171-f5d2-4f9c-8dde-c3ea65d76f53"
   },
   "outputs": [
    {
     "name": "stdout",
     "output_type": "stream",
     "text": [
      "9\n"
     ]
    }
   ],
   "source": [
    "m = ((c == 1) & (d == 2)).sum()\n",
    "\n",
    "print(m)"
   ]
  },
  {
   "cell_type": "markdown",
   "metadata": {
    "colab_type": "text",
    "id": "EIbB0Cy6sFJw"
   },
   "source": [
    "Вычислим относительную частоту события $B$:"
   ]
  },
  {
   "cell_type": "code",
   "execution_count": 24,
   "metadata": {
    "colab": {
     "base_uri": "https://localhost:8080/",
     "height": 35
    },
    "colab_type": "code",
    "executionInfo": {
     "elapsed": 854,
     "status": "ok",
     "timestamp": 1541495291841,
     "user": {
      "displayName": "Виолетта Гайдак",
      "photoUrl": "",
      "userId": "16983940382840418244"
     },
     "user_tz": -420
    },
    "id": "yt9Mv6kxsFJx",
    "outputId": "45d75122-df47-4f99-c099-f0b1da1f8ef8"
   },
   "outputs": [
    {
     "name": "stdout",
     "output_type": "stream",
     "text": [
      "0.025\n"
     ]
    }
   ],
   "source": [
    "W = m / n\n",
    "\n",
    "print(W)"
   ]
  },
  {
   "cell_type": "markdown",
   "metadata": {},
   "source": [
    "Аналогично, вероятность такого события:"
   ]
  },
  {
   "cell_type": "code",
   "execution_count": 25,
   "metadata": {},
   "outputs": [
    {
     "data": {
      "text/plain": [
       "0.027777777777777776"
      ]
     },
     "execution_count": 25,
     "metadata": {},
     "output_type": "execute_result"
    }
   ],
   "source": [
    "1 / 36"
   ]
  },
  {
   "cell_type": "markdown",
   "metadata": {},
   "source": [
    "Как правило, чем больше испытаний мы делаем, тем больше значение частоты «стабилизируется», т.е. приближается к какому-то конкретному значению."
   ]
  },
  {
   "cell_type": "markdown",
   "metadata": {
    "colab_type": "text",
    "id": "Jg88f4D6sFJ0"
   },
   "source": [
    "__Пример 3__\n",
    "\n",
    "Вернёмся к примеру 1 (бросок одного кубика) и посчитаем его относительную частоту при различных значениях $n$."
   ]
  },
  {
   "cell_type": "code",
   "execution_count": 26,
   "metadata": {},
   "outputs": [],
   "source": [
    "def dice_frequency(n: int) -> float:\n",
    "    \"\"\"Относительная частота выпадения значения 3 при броске одного кубика.\n",
    "    \n",
    "    :param n: число испытаний\n",
    "    \"\"\"\n",
    "\n",
    "    b = np.random.randint(1, 7, size=n)\n",
    "    \n",
    "    m = (b == 3).sum()\n",
    "    \n",
    "    return m / n"
   ]
  },
  {
   "cell_type": "code",
   "execution_count": 27,
   "metadata": {},
   "outputs": [],
   "source": [
    "from matplotlib import pyplot as plt\n",
    "from tqdm.notebook import trange\n",
    "\n",
    "plt.style.use('seaborn-whitegrid')"
   ]
  },
  {
   "cell_type": "code",
   "execution_count": 28,
   "metadata": {},
   "outputs": [
    {
     "data": {
      "application/vnd.jupyter.widget-view+json": {
       "model_id": "910b9aebb17545719ab217ac54db297f",
       "version_major": 2,
       "version_minor": 0
      },
      "text/plain": [
       "HBox(children=(FloatProgress(value=0.0, max=50.0), HTML(value='')))"
      ]
     },
     "metadata": {},
     "output_type": "display_data"
    },
    {
     "name": "stdout",
     "output_type": "stream",
     "text": [
      "\n"
     ]
    },
    {
     "data": {
      "image/png": "[encoded data removed]",
      "text/plain": [
       "<Figure size 600x400 with 1 Axes>"
      ]
     },
     "metadata": {},
     "output_type": "display_data"
    }
   ],
   "source": [
    "ns = [10, 20, 50, 100, 200, 500, 1000, 5000, 10 ** 4, 10 ** 5, 10 ** 6, 10 ** 7]\n",
    "\n",
    "x = []\n",
    "y = []\n",
    "\n",
    "for _ in trange(50):\n",
    "    for n in ns:\n",
    "        x.append(n)\n",
    "        y.append(dice_frequency(n))\n",
    "\n",
    "plt.figure(dpi=100)\n",
    "\n",
    "plt.scatter(x, y, s=10)\n",
    "    \n",
    "plt.axhline(y=1 / 6, c='black', ls='dashed', lw=1).set_zorder(0)\n",
    "    \n",
    "plt.xscale('log')\n",
    "\n",
    "plt.title('Частота выпадения значения 3 на кубике\\nпри разном числе испытаний')\n",
    "plt.xlabel('число испытаний')\n",
    "plt.ylabel('частота выпадения значения 3')\n",
    "\n",
    "plt.show()"
   ]
  },
  {
   "cell_type": "markdown",
   "metadata": {},
   "source": [
    "__Статистической вероятностью__ события $A$ называется его относительная частота при достаточно большом («бесконечном») количестве опытов. Вероятность события $A$ обозначается $P(A)$.\n",
    "\n",
    "Например, при многократном повторении бросков монеты относительная частота выпадения орла может различаться, однако, вероятность выпадения орла равна $0.5$."
   ]
  },
  {
   "cell_type": "markdown",
   "metadata": {},
   "source": [
    "Свойства вероятности:\n",
    "\n",
    "* $0 \\leq P(A) \\leq 1$ для любого события $A$.\n",
    "* $P(\\varnothing) = 0$, $P(\\Omega) = 1$, где $\\varnothing$ — невозможное событие, $\\Omega$ — достоверное событие.\n",
    "* $P(A + B) = P(A) + P(B) - P(AB)$, где $A + B$ — объединение событий (происходит хотя бы одно), а $AB$ — совместное событие (происходят оба).\n",
    "* В частности, __для несовместных событий__ $P(A + B) = P(A) + P(B)$.\n",
    "* $P(A) + P \\left( \\overline{A} \\right) = 1$ для любого события $A$.\n",
    "\n",
    "_Замечание_. Ещё раз подчеркнём, что __вероятности произвольных событий суммировать нельзя__, сперва необходимо установить несовместность событий."
   ]
  },
  {
   "cell_type": "markdown",
   "metadata": {},
   "source": [
    "### Комбинаторика\n",
    "\n",
    "__Комбинаторика__ — раздел математики, в котором изучаются задачи выбора элементов из заданного множества и расположения их в группы по заданным правилам.\n",
    "\n",
    "Мы изучим:\n",
    "1. размещения,\n",
    "2. перестановки,\n",
    "3. сочетания."
   ]
  },
  {
   "cell_type": "markdown",
   "metadata": {
    "colab_type": "text",
    "id": "dWGTf84XsFKA"
   },
   "source": [
    "__Размещение из $n$ элементов по $k$ элементов__ — это упорядоченный набор из $k$ элементов, выбранных из множества, содержащего $n$ элементов.\n",
    "\n",
    "_Замечание_: здесь $k$ и $n$ — натуральные числа и $0 \\leq k \\leq n$.\n",
    "\n",
    "Например, набор $(1, 3, 5)$ является размещением из множества $\\{ 1, 2, 3, 4, 5 \\}$.\n",
    "\n",
    "В размещениях важен порядок. Так, $(1, 3, 5)$ и $(5, 1, 3)$ — разные размещения.\n",
    "\n",
    "_Договорённость_: будем обозначать _круглыми_ скобками _упорядоченные_ наборы, а _фигурными_ — _неупорядоченные_.\n",
    "\n",
    "Посчитаем количество размещений из $n$ по $k$. Представим себе $k$ пустых ячеек. В первой ячейке может быть любой из $n$ элементов. Во второй ячейке может быть что угодно кроме элемента из первой ячейки, т.е. всего $n - 1$ элементов. В третьей ячейке, аналогично, может быть любой из $n - 2$ элементов, и т.д.\n",
    "\n",
    "Теперь чтобы получить число всевозможных размещений, нужно перемножить все эти числа. Итак, __количество размещений из $n$ по $k$__:\n",
    "$$A_n^k = n \\cdot (n - 1) \\cdot (n - 2) \\cdots (n - k + 1) = \\dfrac{n!}{(n - k)!},$$\n",
    "где $n! = n \\cdot (n - 1) \\cdot (n - 2) \\cdots 2 \\cdot 1$ — факториал."
   ]
  },
  {
   "cell_type": "code",
   "execution_count": 29,
   "metadata": {
    "colab": {},
    "colab_type": "code",
    "id": "aRmxVO1vwvEY"
   },
   "outputs": [],
   "source": [
    "def arrangements(n: int, k: int) -> int:\n",
    "    \"\"\"Число размещений.\n",
    "    \"\"\"\n",
    "    \n",
    "    return np.math.factorial(n) // np.math.factorial(n - k)"
   ]
  },
  {
   "cell_type": "markdown",
   "metadata": {
    "colab_type": "text",
    "id": "1K0UMRiisFKG"
   },
   "source": [
    "__Перестановкой из $n$ элементов__ называется размещение из $n$ элементов по $n$ элементов.\n",
    "\n",
    "Чтобы посчитать количество перестановок, достаточно знать, что $0! = 1$. Итак, __количество перестановок из $n$ элементов__:\n",
    "$$P_n = \\dfrac{n!}{0!} =  n!$$"
   ]
  },
  {
   "cell_type": "code",
   "execution_count": 30,
   "metadata": {
    "colab": {},
    "colab_type": "code",
    "id": "ktyYJlBLPfP5"
   },
   "outputs": [],
   "source": [
    "def permutations(n: int) -> int:\n",
    "    \"\"\"Число перестановок.\n",
    "    \"\"\"\n",
    "    \n",
    "    return np.math.factorial(n)"
   ]
  },
  {
   "cell_type": "markdown",
   "metadata": {
    "colab_type": "text",
    "id": "zjQq1-wrsFKC"
   },
   "source": [
    "__Сочетание из $n$ элементов по $k$ элементов__ — это __не__упорядоченный набор из $k$ элементов, выбранных из множества, содержащего $n$ элементов.\n",
    "\n",
    "Например, набор $\\{ 1, 3, 5 \\}$ является размещением из множества $\\{ 1, 2, 3, 4, 5 \\}$. При этом, $\\{ 1, 3, 5 \\}$ и $\\{ 5, 1, 3 \\}$ — одно и то же сочетание.\n",
    "\n",
    "Сочетаний из $n$ по $k$ меньше, чем размещений. Насколько меньше? Из каждого сочетания размера $k$ можно получить ровно $k!$ различных размещений (переставляя элементы из сочетания всевозможными способами). Итак, __число сочетаний из $n$ по $k$__:\n",
    "$$C_n^k = \\dfrac{A_n^k}{P_k} =  \\dfrac{n!}{k! (n - k)!}$$"
   ]
  },
  {
   "cell_type": "code",
   "execution_count": 31,
   "metadata": {
    "colab": {},
    "colab_type": "code",
    "id": "XqmC5AY8I_Ie"
   },
   "outputs": [],
   "source": [
    "def combinations(n: int, k: int) -> int:\n",
    "    \"\"\"Число сочетаний.\n",
    "    \"\"\"\n",
    "    \n",
    "    return np.math.factorial(n) // (np.math.factorial(k) * np.math.factorial(n - k))"
   ]
  },
  {
   "cell_type": "markdown",
   "metadata": {
    "colab_type": "text",
    "id": "aRbqU8vBsFKJ"
   },
   "source": [
    "__Пример 4__\n",
    "\n",
    "Сколькими способами можно выбрать из колоды, состоящей из $36$ карт, $4$ карты?\n",
    "\n",
    "Поскольку здесь важен не порядок, а лишь содержание, воспользуемся формулой сочетаний:\n",
    "$$C_{36}^4 = \\frac{36!}{4! \\: (36 - 4)!} = \\frac{36!}{4! \\: 32!} = \\frac{33 \\cdot 34 \\cdot 35 \\cdot 36}{4!} = \\frac{33 \\cdot 34 \\cdot 35 \\cdot 36}{2 \\cdot 3 \\cdot 4} = 58905$$"
   ]
  },
  {
   "cell_type": "code",
   "execution_count": 32,
   "metadata": {
    "colab": {
     "base_uri": "https://localhost:8080/",
     "height": 35
    },
    "colab_type": "code",
    "executionInfo": {
     "elapsed": 915,
     "status": "ok",
     "timestamp": 1541495297480,
     "user": {
      "displayName": "Виолетта Гайдак",
      "photoUrl": "",
      "userId": "16983940382840418244"
     },
     "user_tz": -420
    },
    "id": "vCudU0J8PnJv",
    "outputId": "c736c037-f7d1-44e3-d100-855b144d85fb"
   },
   "outputs": [
    {
     "data": {
      "text/plain": [
       "58905"
      ]
     },
     "execution_count": 32,
     "metadata": {},
     "output_type": "execute_result"
    }
   ],
   "source": [
    "combinations(36, 4)"
   ]
  },
  {
   "cell_type": "markdown",
   "metadata": {
    "colab_type": "text",
    "id": "WXfKNhFGsFKQ"
   },
   "source": [
    "__Пример 5__\n",
    "\n",
    "В магазине $20$ покупателей. Сколькими способами они могут образовать очередь из $5$ человек?\n",
    "\n",
    "В этом примере важен порядок, в котором покупатели будут стоять в очереди, поэтому применим формулу размещений:"
   ]
  },
  {
   "cell_type": "code",
   "execution_count": 33,
   "metadata": {
    "colab": {
     "base_uri": "https://localhost:8080/",
     "height": 35
    },
    "colab_type": "code",
    "executionInfo": {
     "elapsed": 999,
     "status": "ok",
     "timestamp": 1541495298528,
     "user": {
      "displayName": "Виолетта Гайдак",
      "photoUrl": "",
      "userId": "16983940382840418244"
     },
     "user_tz": -420
    },
    "id": "gKsM5aeoP32n",
    "outputId": "a36f1388-4b49-4f4a-dfa4-be18b9fd5325"
   },
   "outputs": [
    {
     "data": {
      "text/plain": [
       "1860480"
      ]
     },
     "execution_count": 33,
     "metadata": {},
     "output_type": "execute_result"
    }
   ],
   "source": [
    "arrangements(20, 5)"
   ]
  },
  {
   "cell_type": "markdown",
   "metadata": {
    "colab_type": "text",
    "id": "aFeIzgkQsFKR"
   },
   "source": [
    "__Пример 6__\n",
    "\n",
    "Сколькими способами $5$ покупателей могут образовать очередь?\n",
    "\n",
    "Этот пример похож на предыдущий, но есть важное отличие: не нужно выбирать $5$ покупателей из $20$. Здесь их всего $5$, и все должны присутствовать в очереди, поэтому нам нужно число перестановок:"
   ]
  },
  {
   "cell_type": "code",
   "execution_count": 34,
   "metadata": {
    "colab": {
     "base_uri": "https://localhost:8080/",
     "height": 35
    },
    "colab_type": "code",
    "executionInfo": {
     "elapsed": 926,
     "status": "ok",
     "timestamp": 1541495299570,
     "user": {
      "displayName": "Виолетта Гайдак",
      "photoUrl": "",
      "userId": "16983940382840418244"
     },
     "user_tz": -420
    },
    "id": "SGljzgzEW-Pz",
    "outputId": "fa4d0994-b727-4a5f-dd3b-c9e0b7d52423"
   },
   "outputs": [
    {
     "data": {
      "text/plain": [
       "120"
      ]
     },
     "execution_count": 34,
     "metadata": {},
     "output_type": "execute_result"
    }
   ],
   "source": [
    "permutations(5)"
   ]
  },
  {
   "cell_type": "markdown",
   "metadata": {
    "colab_type": "text",
    "id": "wzEHNWr1sFKU"
   },
   "source": [
    "__Пример 7__\n",
    "\n",
    "Сколькими способами можно из колоды, состоящей из $36$ карт, выбрать $5$ так, чтобы среди них оказалось от $2$ до $3$ тузов?\n",
    "\n",
    "Искомое число можно найти по частям. Пусть число $a$ соответствует ситуации, когда среди $5$ вытянутых карт $2$ туза, а число $b$ — когда среди вытянутых карт $3$ туза. Тогда искомое число равно $a + b$.\n",
    "\n",
    "Итак, рассмотрим первую ситуацию: среди $5$ вытянутых карт $2$ туза. Это означает, что\n",
    "1. эти $2$ туза вытягиваются случайно из множества, содержащего $4$ туза,\n",
    "2. оставшиеся $3$ карты вытягиваются случайно из множества, содержащего оставшиеся $32$ карты (всё кроме тузов).\n",
    "\n",
    "Число способов достать $2$ туза из четырёх:"
   ]
  },
  {
   "cell_type": "code",
   "execution_count": 35,
   "metadata": {
    "colab": {
     "base_uri": "https://localhost:8080/",
     "height": 35
    },
    "colab_type": "code",
    "executionInfo": {
     "elapsed": 1017,
     "status": "ok",
     "timestamp": 1541495300653,
     "user": {
      "displayName": "Виолетта Гайдак",
      "photoUrl": "",
      "userId": "16983940382840418244"
     },
     "user_tz": -420
    },
    "id": "I0G2chFhXdp2",
    "outputId": "bd5f8f66-fd62-474b-beac-65f57c89a4fb"
   },
   "outputs": [
    {
     "data": {
      "text/plain": [
       "6"
      ]
     },
     "execution_count": 35,
     "metadata": {},
     "output_type": "execute_result"
    }
   ],
   "source": [
    "combinations(4, 2)"
   ]
  },
  {
   "cell_type": "markdown",
   "metadata": {
    "colab_type": "text",
    "id": "vR8Bgd_GsFKW"
   },
   "source": [
    "Число способов достать $3$ карты из $32$:"
   ]
  },
  {
   "cell_type": "code",
   "execution_count": 36,
   "metadata": {
    "colab": {
     "base_uri": "https://localhost:8080/",
     "height": 35
    },
    "colab_type": "code",
    "executionInfo": {
     "elapsed": 1000,
     "status": "ok",
     "timestamp": 1541495301712,
     "user": {
      "displayName": "Виолетта Гайдак",
      "photoUrl": "",
      "userId": "16983940382840418244"
     },
     "user_tz": -420
    },
    "id": "cYJcvTuVXn6G",
    "outputId": "ace36d07-8b09-40e2-fb5a-913bb8efa137"
   },
   "outputs": [
    {
     "data": {
      "text/plain": [
       "4960"
      ]
     },
     "execution_count": 36,
     "metadata": {},
     "output_type": "execute_result"
    }
   ],
   "source": [
    "combinations(32, 3)"
   ]
  },
  {
   "cell_type": "markdown",
   "metadata": {
    "colab_type": "text",
    "id": "K-J4j6BnsFKY"
   },
   "source": [
    "Число $a$ равно произведению этих двух чисел:"
   ]
  },
  {
   "cell_type": "code",
   "execution_count": 37,
   "metadata": {
    "colab": {
     "base_uri": "https://localhost:8080/",
     "height": 35
    },
    "colab_type": "code",
    "executionInfo": {
     "elapsed": 770,
     "status": "ok",
     "timestamp": 1541495302596,
     "user": {
      "displayName": "Виолетта Гайдак",
      "photoUrl": "",
      "userId": "16983940382840418244"
     },
     "user_tz": -420
    },
    "id": "LQnsS5ADYGuP",
    "outputId": "d827eabe-df6a-4b4b-b147-e9743c56b1d7"
   },
   "outputs": [
    {
     "name": "stdout",
     "output_type": "stream",
     "text": [
      "29760\n"
     ]
    }
   ],
   "source": [
    "a = combinations(4, 2) * combinations(32, 3)\n",
    "\n",
    "print(a)"
   ]
  },
  {
   "cell_type": "markdown",
   "metadata": {
    "colab_type": "text",
    "id": "wf_Y6h-1sFKZ"
   },
   "source": [
    "Теперь рассмотрим ситуацию, когда тузов $3$. Соответственно, из оставшихся $32$ карт мы вытягиваем $2$."
   ]
  },
  {
   "cell_type": "code",
   "execution_count": 38,
   "metadata": {
    "colab": {
     "base_uri": "https://localhost:8080/",
     "height": 35
    },
    "colab_type": "code",
    "executionInfo": {
     "elapsed": 818,
     "status": "ok",
     "timestamp": 1541495305340,
     "user": {
      "displayName": "Виолетта Гайдак",
      "photoUrl": "",
      "userId": "16983940382840418244"
     },
     "user_tz": -420
    },
    "id": "CALKLpyyYPyU",
    "outputId": "2e65039e-664f-48f6-f6aa-ec7ad24d4328"
   },
   "outputs": [
    {
     "name": "stdout",
     "output_type": "stream",
     "text": [
      "1984\n"
     ]
    }
   ],
   "source": [
    "b = combinations(4, 3) * combinations(32, 2)\n",
    "\n",
    "print(b)"
   ]
  },
  {
   "cell_type": "markdown",
   "metadata": {
    "colab_type": "text",
    "id": "yi6iylD_sFKd"
   },
   "source": [
    "Итак, искомое число способов:"
   ]
  },
  {
   "cell_type": "code",
   "execution_count": 39,
   "metadata": {
    "colab": {
     "base_uri": "https://localhost:8080/",
     "height": 35
    },
    "colab_type": "code",
    "executionInfo": {
     "elapsed": 1050,
     "status": "ok",
     "timestamp": 1541495306445,
     "user": {
      "displayName": "Виолетта Гайдак",
      "photoUrl": "",
      "userId": "16983940382840418244"
     },
     "user_tz": -420
    },
    "id": "VKo6iTmLYR-b",
    "outputId": "6e6f62d9-de4b-4d36-fe01-8696a9f50f69"
   },
   "outputs": [
    {
     "data": {
      "text/plain": [
       "31744"
      ]
     },
     "execution_count": 39,
     "metadata": {},
     "output_type": "execute_result"
    }
   ],
   "source": [
    "a + b"
   ]
  },
  {
   "cell_type": "markdown",
   "metadata": {},
   "source": [
    "Сформулируем __классическое определение вероятности__. Предположим, проводится опыт с $n$ возможными исходами, причём все эти исходы равновозможны и несовместны. Такие исходы называются __элементарными событиями__.\n",
    "\n",
    "Например, \n",
    "* Игральный кубик бросается однажды. Его выпадение каждой из $6$ сторон — все элементарные события.\n",
    "* Кубик бросается дважды. Элементарные события — все пары его значений.\n",
    "\n",
    "Рассмотрим событие $A$, которое можно «собрать» из элементарных событий (т.е. указать, какие элементарные события повлекут за собой событие $A$, а какие — нет).\n",
    "\n",
    "Например, выпадение кубика стороной, значение которой не превышает $3$, включает в себя три элементарных события: $1$, $2$ и $3$.\n",
    "\n",
    "__Вероятность__ события $A$:\n",
    "$$P(A) = \\dfrac{m}{n}$$\n",
    "\n",
    "Здесь $n$ — общее число исходов, а $m$ — число исходов, которые влекут за собой событие $A$."
   ]
  },
  {
   "cell_type": "markdown",
   "metadata": {},
   "source": [
    "__Пример 8__\n",
    "\n",
    "Вычислим вероятность того, что на игральной кости выпадет число $3$. Известно, что у кости шесть граней с числами от $1$ до $6$ и каждая может выпасть с равной вероятностью. По классической формуле вероятности получаем результат:\n",
    "$$P(A) = \\frac{m}{n} = \\frac{1}{6}$$"
   ]
  },
  {
   "cell_type": "markdown",
   "metadata": {},
   "source": [
    "__Пример 9__\n",
    "\n",
    "Бросаются одновременно три игральных кубика. Какова вероятность того, что все три значения будут одинаковыми?\n",
    "\n",
    "Всего есть $6 \\cdot 6 \\cdot 6$ исходов, поскольку каждый из кубиков может выпасть любой из $6$ сторон. Нас интересуют исходы, при которых все три значения совпали. Таких событий $6$. Итак,\n",
    "$$P(A) = \\dfrac{6}{6^3} = \\dfrac{1}{36}$$"
   ]
  },
  {
   "cell_type": "markdown",
   "metadata": {},
   "source": [
    "### Условная вероятность. Независимые события\n",
    "\n",
    "Наступление одного события может влиять на наступление другого. Например, вероятность того, что за день хоть раз выпадет снег, выше зимой.\n",
    "\n",
    "__Условная вероятность__ $P(A|B)$ — это вероятность наступления события $A$ при условии, что произошло событие $B$.\n",
    "$$P(A | B) = \\dfrac{P(AB)}{P(B)}$$\n",
    "\n",
    "_Замечание_. Такое определение интуитивно напоминает классическое определение вероятности, данное выше: «доля» вероятности совместного события $AB$ относительно вероятности события $B$.\n",
    "\n",
    "События $A$ и $B$ называются __независимыми__, если $P(A|B) = P(A)$, т.е. если наступление события $B$ не влияет на вероятность события $A$, и наоборот. Например, при многократном броске кубика результаты одного броска никак не влияют на результаты других бросков. Напротив, события «зима» и «снег» из примера выше, являются зависимыми.\n",
    "\n",
    "_Замечание_. Зависимость событий не означает, что одно гарантированно влечёт другое. Она лишь означает, что наступление одного __меняет вероятность__ наступления другого.\n",
    "\n",
    "__Для независимых событий__:\n",
    "$$P(AB) = P(A) \\cdot P(B)$$\n",
    "\n",
    "_Замечание_. Аналогично суммированию, __вероятности произвольных событий перемножать нельзя__, сперва необходимо установить независимость событий."
   ]
  },
  {
   "cell_type": "markdown",
   "metadata": {},
   "source": [
    "__Пример 10__\n",
    "\n",
    "Наугад выбирается точка с круглой мишени. Пусть событие $A$ заключается в выборе точки из правой половины, а событие $B$ — выбор точки из нижней половины. Являются ли эти события зависимыми?\n",
    "\n",
    "Считаем, что $P(A) = P(B) = 1/2$. Посчитаем совместную вероятность $P(AB)$. Событие $AB$ соответствует выбору точки из правой нижней четверти, т.е. $P(AB) = 1/4$. Следовательно, \n",
    "$$P(A|B) = \\dfrac{P(AB)}{P(B)} = \\dfrac{\\frac{1}{4}}{\\frac{1}{2}} = \\dfrac{1}{2}.$$\n",
    "\n",
    "Поскольку $P(A|B) = P(A)$, заключаем, что события $A$ и $B$ независимы."
   ]
  },
  {
   "cell_type": "markdown",
   "metadata": {},
   "source": [
    "### Формула полной вероятности. Формула Байеса\n",
    "\n",
    "Говорят, что события $H_1$, $H_2$, $\\dots$, $H_n$ образуют __полную группу событий__, если они несовместны, и в ходе любого испытания одно из этих событий обязательно произойдёт.\n",
    "\n",
    "__Формула полной вероятности__ для таких событий и произвольного события $A$:\n",
    "$$P(A) = P(A | H_1) \\cdot P(H_1) + P(A | H_2) \\cdot P(H_2) + \\dots + P(A | H_n) \\cdot P(H_n).$$\n",
    "\n",
    "В частности, для любых событий $A$ и $B$:\n",
    "$$P(A) = P(A | B) \\cdot P(B) + P \\left( A | \\overline{B} \\right) \\cdot P \\left( \\overline{B} \\right)$$"
   ]
  },
  {
   "cell_type": "markdown",
   "metadata": {},
   "source": [
    "__Пример 11__\n",
    "\n",
    "Есть три одинаковые корзины. В первой лежат три красных и пять зелёных мячей, во второй — только красные, а в третьей — только зелёные мячи. Случайно выбирается одна корзина, и из неё случайным образом извлекается мяч. \n",
    "\n",
    "_Вопрос_: Какова вероятность того, что этот мяч — зелёный?\n",
    "\n",
    "Решим эту задачу с помощью формулы полной вероятности. Событием $A$ будем считать то, что достали зелёный мяч, а событием $H_i$ — что выберут $i$-ю корзину. Будем считать, что ни одной из корзин не делается предпочтение. Другими словами, вероятность выбрать каждую корзину равна $P(H_i) = 1/3$.\n",
    "\n",
    "Вероятность достать зелёный мяч при условии, что выбрана первая корзина, равен $P(A | H_1) = \\dfrac{5}{3 + 5} = \\dfrac{5}{8}$. При выборе второй корзины вероятность вынуть зелёный мяч равна $P(A | H_2) = 0$. В случае с третьей корзиной вероятность равна $P(A | H_3) = 1$, так как все мячи в ней — зелёные.\n",
    "\n",
    "Подставим данные значения в формулу полной вероятности и получим ответ:\n",
    "$$P(A) = \\frac{5}{8} \\cdot \\frac{1}{3} + 0 \\cdot \\frac{1}{3} + 1 \\cdot \\frac{1}{3} = \\frac{5}{24} + 0 + \\frac{1}{3} = \\frac{13}{24} \\approx 0.5417.$$"
   ]
  },
  {
   "cell_type": "code",
   "execution_count": 40,
   "metadata": {},
   "outputs": [
    {
     "data": {
      "text/plain": [
       "0.5416666666666666"
      ]
     },
     "execution_count": 40,
     "metadata": {},
     "output_type": "execute_result"
    }
   ],
   "source": [
    "13 / 24"
   ]
  },
  {
   "cell_type": "markdown",
   "metadata": {},
   "source": [
    "__Формула Байеса__ позволяет «развернуть» условную вероятность $P(A|B)$, т.е. выразить её через $P(B|A)$. По определению условной вероятности:\n",
    "$$P(A|B) = \\dfrac{P(AB)}{P(B)}$$\n",
    "Совместную вероятность $P(AB)$ можно теперь выразить в обратном порядке:\n",
    "$P(AB) = P(B|A) \\cdot P(A)$\n",
    "\n",
    "Итак, формула Байеса:\n",
    "$$P(A|B) = \\dfrac{P(B|A) \\cdot P(A)}{P(B)}$$"
   ]
  },
  {
   "cell_type": "markdown",
   "metadata": {
    "colab_type": "text",
    "id": "7euBINZMsFKw"
   },
   "source": [
    "__Пример 12__\n",
    "\n",
    "Соревнования по биатлону. Один из трёх спортсменов стреляет и попадает в мишень. Вероятность такого события для первого спортсмена равна $0.2$, для второго — $0.4$, для третьего — $0.7$.\n",
    "\n",
    "_Задача_: найти вероятность того, что стрелял третий спортсмен.\n",
    "\n",
    "Сразу же определимся с тем, какие события мы здесь рассматриваем. Пусть событие $A$ заключается в том, что произошло попадание в мишень. Кроме того, пусть для каждого $i \\in \\{ 1, 2, 3 \\}$ событие $B_i$ заключается в том, что выстрелил $i$-й спортсмен.\n",
    "\n",
    "В такой формулировке наша задача — найти вероятность $P(B_3 | A)$. По формуле Байеса:\n",
    "$$P(B_3|A) = \\frac{P(A|B_3) \\cdot P(B_3)}{P(A)}.$$\n",
    "\n",
    "Мы можем считать, что каждому спортсмену были даны одинаковые возможности выстрелить. Поэтому можно предположить, что вероятность каждого события $B_i$ равна $P(B_i) =  1/3$.\n",
    "\n",
    "Кроме того, нам даны вероятности попадания в мишень для каждого из спортсменов:\n",
    "$$P(A|B_1) = 0.2$$\n",
    "$$P(A|B_2) = 0.4$$\n",
    "$$P(A|B_3) = 0.7$$\n",
    "\n",
    "Остаётся лишь оценить безусловную вероятность попадания в мишень — $P(A)$. Для этого воспользуемся формулой полной вероятности, считая, что кроме наших трёх спортсменов выстрелить никто не мог. В таком случае\n",
    "$$P(A) = P(A | B_1) \\cdot P(B_1) + P(A | B_2) \\cdot P(B_2) + P(A | B_3) \\cdot P(B_3).$$\n",
    "\n",
    "Имеем:\n",
    "$$P(A) = 0.2 \\cdot \\dfrac{1}{3} + 0.4 \\cdot \\dfrac{1}{3} + 0.7 \\cdot \\dfrac{1}{3} = \\dfrac{13}{30}$$\n",
    "\n",
    "Итак, искомая вероятность:\n",
    "$$P(B_3|A) = \\dfrac{0.7 \\cdot \\frac{1}{3}}{\\frac{13}{30}} = \\frac{7}{13} \\approx 0.5385$$"
   ]
  },
  {
   "cell_type": "code",
   "execution_count": 41,
   "metadata": {},
   "outputs": [
    {
     "data": {
      "text/plain": [
       "0.5384615384615384"
      ]
     },
     "execution_count": 41,
     "metadata": {},
     "output_type": "execute_result"
    }
   ],
   "source": [
    "7 / 13"
   ]
  },
  {
   "cell_type": "markdown",
   "metadata": {},
   "source": [
    "__(Дополнительно) Наивный Байесовский классификатор__\n",
    "\n",
    "Формула Байеса является основой для одной из моделей машинного обучения, решающих задачу классификации: Наивного Байесовского классификатора (Naive Bayes classifier). \n",
    "\n",
    "Допустим, имеется набор объектов $X = (x_1, x_2, \\dots, x_m)$ с признаками $x_1$, $\\dots$, $x_m$, причём каждому объекту $X_i$ приписана метка класса $c_i$. Байесовский классификатор основан на зависимости между двумя вероятностями:\n",
    "1. $P(c \\mid x_1, \\dots, x_m)$, т.е. вероятность, что объект с признаками $x_1$, $\\dots$, $x_m$ будет иметь метку класса $c$,\n",
    "2. $P(x_1, \\dots, x_m \\mid c)$ — вероятность того, объект, взятый случайным образом из класса $C$ будет обладать признаками $x_1$, $\\dots$, $x_m$.\n",
    "\n",
    "Взаимосвязь между этими вероятностями подчиняется формуле Байеса:\n",
    "$$P(c \\mid x_1, \\dots, x_m) = \\dfrac{P(x_1, \\dots, x_m \\mid c) \\cdot P(c)}{P(x_1, \\dots, x_m)}$$\n",
    "\n",
    "Собственно, Байесовский классификатор определяется следующим образом:\n",
    "$$C(X) = \\arg\\max_c P(c \\mid X),$$\n",
    "т.е. объект $X$ причисляем к тому классу $c$, для которого указанная выше вероятность максимальна.\n",
    "\n",
    "Почему классификатор называется наивным? В указанной выше формуле нет никакой наивности. Однако, оценка вероятности $P(c \\mid x_1, \\dots, x_m)$ без дополнительных условий является крайне сложной задачей. Для того, чтобы упростить эту оценку, на рассматриваемые признаки накладывается условие __независимости__. (Это условие и является крайне наивным, поскольку в общем случае ожидать независимости признаков нет никаких оснований.) Как мы установили выше, условие независимости даёт нам возможность разбивать вероятности вида $P(x_1, \\dots, x_m \\mid c)$ в произведения $P(x_1 \\mid c) \\cdots P(x_m \\mid c)$, что изрядно упрощает вычисление.\n",
    "\n",
    "Кроме того, в самом классификаторе также избавляются от знаменателя $P(x_1, \\dots, x_m)$, поскольку данная вероятность одинакова для любого объекта и никак не влияет на вероятность принадлежать к конкретному классу. Итак, итоговая классификационная модель:\n",
    "$$C(X) = \\arg\\max_c \\left( P(c) \\cdot \\displaystyle\\prod_X P(x_1 \\mid c) \\cdots P(x_m \\mid c) \\right)$$\n",
    "\n",
    "Для обучения вероятностей $P(x_i \\mid c)$, как правило, используют дополнительные предположения о распределении отдельных признаков, наиболее популярна модель Гауссов Байесовский классификатор (Gaussian Bayes classifier), предполагающий нормальное распределение признаков. О нормальном распределении мы поговорим на занятии 4."
   ]
  },
  {
   "cell_type": "markdown",
   "metadata": {},
   "source": [
    "### Упражнения"
   ]
  },
  {
   "cell_type": "markdown",
   "metadata": {},
   "source": [
    "__Задача 1__\n",
    "\n",
    "Подбрасываются три игральных кубика. Оцените вероятность того, что сумма значений этих кубиков не будет превышать 10.\n",
    "\n",
    "_Подсказка_: оценкой вероятности может служить, например, относительная частота при большом числе опытов. Попробуйте реализовать наибольшее число опытов, которое позволяют ваш компьютер и ваше терпение.\n",
    "\n",
    "__Задача 2__\n",
    "\n",
    "Имеется колода в 52 карты. Найти число возможностей вытянуть из неё 4 карты так, чтобы среди них был хотя бы один туз.\n",
    "\n",
    "__Задача 3__\n",
    "\n",
    "Из 60 вопросов, входящих в экзаменационные билеты, студент знает 50. Какова вероятность того, что среди трёх наугад выбранных вопросов студент знает: а) все? б) два?\n",
    "\n",
    "__Задача 4__\n",
    "\n",
    "Бросается игральная кость. Пусть событие `A` - появление чётного числа, событие `B` - появление числа больше трёх. Являются ли эти события независимыми?\n",
    "\n",
    "__Задача 5__\n",
    "\n",
    "Допустим, имеется некоторая очень редкая болезнь (поражает 0.1% населения). Вы приходите к врачу, вам делают тест на эту болезнь, и тест оказывается положительным. Врач говорит вам, что этот тест верно выявляет 99% больных этой болезнью и всего лишь в 1% случаев даёт ложный положительный ответ.\n",
    "\n",
    "_Вопрос_: какова вероятность, что вы действительно больны ей?\n",
    "\n",
    "_Подсказка_: используйте формулу Байеса с раскрытием знаменателя с помощью формулы полной вероятности."
   ]
  }
 ],
 "metadata": {
  "colab": {
   "name": "Матстат - Урок 1.ipynb",
   "provenance": [],
   "version": "0.3.2"
  },
  "kernelspec": {
   "display_name": "Python 3",
   "language": "python",
   "name": "python3"
  },
  "language_info": {
   "codemirror_mode": {
    "name": "ipython",
    "version": 3
   },
   "file_extension": ".py",
   "mimetype": "text/x-python",
   "name": "python",
   "nbconvert_exporter": "python",
   "pygments_lexer": "ipython3",
   "version": "3.7.6"
  }
 },
 "nbformat": 4,
 "nbformat_minor": 4
}
