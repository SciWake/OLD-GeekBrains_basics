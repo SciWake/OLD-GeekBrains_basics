{
 "cells": [
  {
   "cell_type": "markdown",
   "metadata": {},
   "source": [
    "# Урок 2\n",
    "\n",
    "## Дискретные случайные величины. Закон распределения вероятностей.  Биномиальный закон распределения. Распределение Пуассона"
   ]
  },
  {
   "cell_type": "markdown",
   "metadata": {},
   "source": [
    "### Случайные величины\n",
    "\n",
    "__Случайная величина__ — величина, которая в результате опыта принимает некоторое значение, неизвестное заранее.\n",
    "\n",
    "__Дискретные__ случайные величины, как правило, принимают целые или рациональные значения. Эти значения отделены друг от друга, т.е. если случайная величина принимает значения $1$ и $2$, то она не обязана принимать промежуточные значения.\n",
    "\n",
    "__Непрерывные__ случайные величины принимают вещественные значения. Здесь значения уже не отделены друг от друга, т.е. если непрерывная случайная величина принимает значения $1$ и $2$, то она также может принять и _любое_ значение между ними.\n",
    "\n",
    "Примеры дискретных случайных величин:\n",
    "\n",
    "1. Сумма очков при $100$-кратном подбрасывании игрального кубика.\n",
    "2. Число метеоритов, упавших на Землю за год.\n",
    "3. Количество машин, которые успевают проехать через данный светофор за один цикл."
   ]
  },
  {
   "cell_type": "markdown",
   "metadata": {},
   "source": [
    "__Пример 1__\n",
    "\n",
    "Смоделируем стократное подбрасывание монетки. Рассмотрим случайную величину, равную числу выпаданий орла."
   ]
  },
  {
   "cell_type": "code",
   "execution_count": 1,
   "metadata": {},
   "outputs": [],
   "source": [
    "import numpy as np"
   ]
  },
  {
   "cell_type": "code",
   "execution_count": 14,
   "metadata": {},
   "outputs": [
    {
     "data": {
      "text/plain": [
       "55"
      ]
     },
     "execution_count": 14,
     "metadata": {},
     "output_type": "execute_result"
    }
   ],
   "source": [
    "np.random.randint(0, 2, size=100).sum()"
   ]
  },
  {
   "cell_type": "markdown",
   "metadata": {},
   "source": [
    "Для генерации значений этой же случайной величины можно использовать функцию `binomial` (почему — обсудим ниже)."
   ]
  },
  {
   "cell_type": "code",
   "execution_count": 17,
   "metadata": {
    "colab": {},
    "colab_type": "code",
    "id": "KPHPGWZyzdn5",
    "outputId": "1a5eb150-bf24-4214-925e-b4a1f7c8fddf"
   },
   "outputs": [
    {
     "data": {
      "text/plain": [
       "51"
      ]
     },
     "execution_count": 17,
     "metadata": {},
     "output_type": "execute_result"
    }
   ],
   "source": [
    "np.random.binomial(n=100, p=0.5)"
   ]
  },
  {
   "cell_type": "markdown",
   "metadata": {},
   "source": [
    "Можно повторить этот эксперимент большее количество раз (например, $50$ раз) и посмотреть, какие получаются значения."
   ]
  },
  {
   "cell_type": "code",
   "execution_count": 18,
   "metadata": {},
   "outputs": [
    {
     "name": "stdout",
     "output_type": "stream",
     "text": [
      "[54 49 45 46 54 48 52 51 51 57 53 48 48 48 54 47 53 51 50 41 49 48 53 54\n",
      " 53 49 46 51 45 58 44 56 51 49 39 47 40 41 45 54 48 55 43 46 57 47 55 53\n",
      " 48 51]\n"
     ]
    }
   ],
   "source": [
    "print(np.random.binomial(n=100, p=0.5, size=50))"
   ]
  },
  {
   "cell_type": "markdown",
   "metadata": {},
   "source": [
    "Пусть $X$ — дискретная случайная величина. __Закон распределения__ этой случайной величины — это соответствие между значениями, которые принимает эта величина, и вероятностями, с которыми она их принимает.\n",
    "\n",
    "__Пример 2__\n",
    "\n",
    "Пусть $X$ — сумма значений двух подбрасываемых игральных кубиков. Вот её закон распределения:\n",
    "\n",
    "<table border=\"3\">\n",
    "    <tr>\n",
    "        <th>$x$</th>\n",
    "        <td>2</td>\n",
    "        <td>3</td>\n",
    "        <td>4</td>\n",
    "        <td>5</td>\n",
    "        <td>6</td>\n",
    "        <td>7</td>\n",
    "        <td>8</td>\n",
    "        <td>9</td>\n",
    "        <td>10</td>\n",
    "        <td>11</td>\n",
    "        <td>12</td>\n",
    "</tr>\n",
    "    <tr>\n",
    "        <th>$P(X=x)$</th>\n",
    "        <td>0.028</td>\n",
    "        <td>0.056</td>\n",
    "        <td>0.083</td>\n",
    "        <td>0.111</td>\n",
    "        <td>0.139</td>\n",
    "        <td>0.167</td>\n",
    "        <td>0.139</td>\n",
    "        <td>0.111</td>\n",
    "        <td>0.083</td>\n",
    "        <td>0.056</td>\n",
    "        <td>0.028</td>\n",
    "    </tr>\n",
    "</table>"
   ]
  },
  {
   "cell_type": "markdown",
   "metadata": {},
   "source": [
    "__Пример 3__\n",
    "\n",
    "В урне $8$ шаров, из которых $5$ белых, остальные — чёрные. Наудачу вынимают $3$ шара. Найти закон распределения количества белых шаров в выборке.\n",
    "\n",
    "Принимаемые значения данной случайной величины будут: $x_1 = 0$, $x_2 = 1$, $x_3 = 2$, $x_4 = 3$.\n",
    "\n",
    "Посчитаем вероятность того, что $X = 0$, т.е. что среди трёх вытянутых шаров нет ни одного белого. Значит, вытянуты в точности все чёрные шары. Такое возможно лишь в одном случае.\n",
    "\n",
    "Кстати, из скольки? Общее число способов вытянуть $3$ шара из урны с $8$ шарами — число сочетаний:\n",
    "$$C_8^3 = \\dfrac{8!}{3! \\cdot 5!} = \\dfrac{8 \\cdot 7 \\cdot 6}{6} = 56.$$\n",
    "\n",
    "Итак, $P(X = 0) = \\dfrac{1}{56}$.\n",
    "\n",
    "Событие $X = 1$ означает, что среди вытянутых шаров один белый и два чёрных: $P(X = 1) = \\dfrac{C_5^1 \\cdot C_3^2}{56} = \\dfrac{15}{56}$. Аналогично,\n",
    "$$P(X = 2) = \\dfrac{C_5^2 \\cdot C_3^1}{56} = \\dfrac{30}{56}, \\:\\:\n",
    "P(X = 3) = \\dfrac{C_5^3}{56} = \\dfrac{10}{56}.$$\n",
    "\n",
    "Заметим, что сумма этих четырёх вероятностей равна $1$."
   ]
  },
  {
   "cell_type": "markdown",
   "metadata": {},
   "source": [
    "Пусть $X$, $Y$ — дискретные случайные величины, причём $X$ принимает значения $x_i$ с вероятностями $P(X = x_i)$, $i = 1,2,\\dots$, а $Y$ принимает значения $y_j$ с вероятностями $P(Y = y_j)$, $j = 1,2,\\dots$.\n",
    "\n",
    "* Их __сумма__ $Z = X + Y$ — случайная величина, которая принимает значения $z_{ij} = x_i + y_j$ с вероятностями $P(X = x_i, Y = y_j)$.\n",
    "* Аналогично считаются __разность__ и __произведение__ случайных величин, надо лишь заменить соответствующие символы операций.\n",
    "* __Квадрат__ $Z = X^2$ — случайная величина, которая принимает значения $z_i = x_i^2$ по тому же закону распределения, что и $X$."
   ]
  },
  {
   "cell_type": "markdown",
   "metadata": {},
   "source": [
    "__Пример 4__\n",
    "\n",
    "В примере 2 мы записали закон распределения суммы значений при броске двух игральных кубиков. Сделаем то же самое с использованием свойства суммы случайных величин. \n",
    "\n",
    "Распределение значений при броске одного кубика имеет т.н. _равномерное распределение_: каждое из значений от $1$ до $6$ имеет одинаковую вероятность $P(X = k) = 1 / 6$.\n",
    "\n",
    "Пусть $X$ — случайная величина, равная значению на первом кубике, а $Y$ — на втором кубике. Очевидно, величины $X$ и $Y$ независимы. Для независимых событий имеем:\n",
    "$$P(X = i, Y = j) = P(X = i) \\cdot P(Y = j) = 1 / 36,$$\n",
    "где финальное равенство следует из того, что каждый множитель всегда равен $1 / 6$.\n",
    "\n",
    "Нас интересует случайная величина $Z = X + Y$. По сформулированному выше свойству мы знаем, что случайная величина принимает всевозможные значения $z_{ij} = x_i + y_j$, причём каждая комбинация $(x_i, y_j)$ имеет одинаковую вероятность $1 / 36$. Список всех таких комбинаций можно получить с помощью функции `product` из библиотеки `itertools`:"
   ]
  },
  {
   "cell_type": "code",
   "execution_count": 20,
   "metadata": {},
   "outputs": [],
   "source": [
    "from itertools import product"
   ]
  },
  {
   "cell_type": "code",
   "execution_count": 21,
   "metadata": {},
   "outputs": [
    {
     "data": {
      "text/plain": [
       "[(1, 1),\n",
       " (1, 2),\n",
       " (1, 3),\n",
       " (1, 4),\n",
       " (1, 5),\n",
       " (1, 6),\n",
       " (2, 1),\n",
       " (2, 2),\n",
       " (2, 3),\n",
       " (2, 4)]"
      ]
     },
     "execution_count": 21,
     "metadata": {},
     "output_type": "execute_result"
    }
   ],
   "source": [
    "pairs = list(product(range(1, 7), repeat=2))\n",
    "pairs[:10]"
   ]
  },
  {
   "cell_type": "markdown",
   "metadata": {},
   "source": [
    "Вероятность встретить каждую такую пару значений равна $1 / 36$:"
   ]
  },
  {
   "cell_type": "code",
   "execution_count": 22,
   "metadata": {},
   "outputs": [
    {
     "data": {
      "text/plain": [
       "array([0.02777778, 0.02777778, 0.02777778, 0.02777778, 0.02777778,\n",
       "       0.02777778, 0.02777778, 0.02777778, 0.02777778, 0.02777778])"
      ]
     },
     "execution_count": 22,
     "metadata": {},
     "output_type": "execute_result"
    }
   ],
   "source": [
    "probabilities = np.ones(len(pairs)) / 36\n",
    "probabilities[:10]"
   ]
  },
  {
   "cell_type": "markdown",
   "metadata": {},
   "source": [
    "При этом нас интересуют не пары значений, а их суммы:"
   ]
  },
  {
   "cell_type": "code",
   "execution_count": 23,
   "metadata": {},
   "outputs": [
    {
     "data": {
      "text/plain": [
       "[2, 3, 4, 5, 6, 7, 3, 4, 5, 6]"
      ]
     },
     "execution_count": 23,
     "metadata": {},
     "output_type": "execute_result"
    }
   ],
   "source": [
    "values = list(map(sum, pairs))\n",
    "values[:10]"
   ]
  },
  {
   "cell_type": "markdown",
   "metadata": {},
   "source": [
    "Запишем соответствие между значениями случайной величины $Z$ и их вероятностями в виде таблицы:"
   ]
  },
  {
   "cell_type": "code",
   "execution_count": 24,
   "metadata": {},
   "outputs": [],
   "source": [
    "import pandas as pd"
   ]
  },
  {
   "cell_type": "code",
   "execution_count": 25,
   "metadata": {},
   "outputs": [
    {
     "data": {
      "text/html": [
       "<div>\n",
       "<style scoped>\n",
       "    .dataframe tbody tr th:only-of-type {\n",
       "        vertical-align: middle;\n",
       "    }\n",
       "\n",
       "    .dataframe tbody tr th {\n",
       "        vertical-align: top;\n",
       "    }\n",
       "\n",
       "    .dataframe thead th {\n",
       "        text-align: right;\n",
       "    }\n",
       "</style>\n",
       "<table border=\"1\" class=\"dataframe\">\n",
       "  <thead>\n",
       "    <tr style=\"text-align: right;\">\n",
       "      <th></th>\n",
       "      <th>value</th>\n",
       "      <th>probability</th>\n",
       "    </tr>\n",
       "  </thead>\n",
       "  <tbody>\n",
       "    <tr>\n",
       "      <th>0</th>\n",
       "      <td>2</td>\n",
       "      <td>0.027778</td>\n",
       "    </tr>\n",
       "    <tr>\n",
       "      <th>1</th>\n",
       "      <td>3</td>\n",
       "      <td>0.027778</td>\n",
       "    </tr>\n",
       "    <tr>\n",
       "      <th>2</th>\n",
       "      <td>4</td>\n",
       "      <td>0.027778</td>\n",
       "    </tr>\n",
       "    <tr>\n",
       "      <th>3</th>\n",
       "      <td>5</td>\n",
       "      <td>0.027778</td>\n",
       "    </tr>\n",
       "    <tr>\n",
       "      <th>4</th>\n",
       "      <td>6</td>\n",
       "      <td>0.027778</td>\n",
       "    </tr>\n",
       "    <tr>\n",
       "      <th>5</th>\n",
       "      <td>7</td>\n",
       "      <td>0.027778</td>\n",
       "    </tr>\n",
       "    <tr>\n",
       "      <th>6</th>\n",
       "      <td>3</td>\n",
       "      <td>0.027778</td>\n",
       "    </tr>\n",
       "    <tr>\n",
       "      <th>7</th>\n",
       "      <td>4</td>\n",
       "      <td>0.027778</td>\n",
       "    </tr>\n",
       "    <tr>\n",
       "      <th>8</th>\n",
       "      <td>5</td>\n",
       "      <td>0.027778</td>\n",
       "    </tr>\n",
       "    <tr>\n",
       "      <th>9</th>\n",
       "      <td>6</td>\n",
       "      <td>0.027778</td>\n",
       "    </tr>\n",
       "  </tbody>\n",
       "</table>\n",
       "</div>"
      ],
      "text/plain": [
       "   value  probability\n",
       "0      2     0.027778\n",
       "1      3     0.027778\n",
       "2      4     0.027778\n",
       "3      5     0.027778\n",
       "4      6     0.027778\n",
       "5      7     0.027778\n",
       "6      3     0.027778\n",
       "7      4     0.027778\n",
       "8      5     0.027778\n",
       "9      6     0.027778"
      ]
     },
     "execution_count": 25,
     "metadata": {},
     "output_type": "execute_result"
    }
   ],
   "source": [
    "z = pd.DataFrame({'value': values, 'probability': probabilities})\n",
    "z.head(10)"
   ]
  },
  {
   "cell_type": "markdown",
   "metadata": {},
   "source": [
    "От закона распределения нас отделяет только одно замечание: в столбце `value` имеются повторяющиеся значения. Это связано с тем, что одно и то же значение может быть суммой разных чисел. Поэтому чтобы получить закон распределения, сгруппируем эту таблицу по значениям в столбце `value` и просуммируем соответствующие вероятности:"
   ]
  },
  {
   "cell_type": "code",
   "execution_count": 26,
   "metadata": {},
   "outputs": [
    {
     "data": {
      "text/plain": [
       "value\n",
       "2     0.027778\n",
       "3     0.055556\n",
       "4     0.083333\n",
       "5     0.111111\n",
       "6     0.138889\n",
       "7     0.166667\n",
       "8     0.138889\n",
       "9     0.111111\n",
       "10    0.083333\n",
       "11    0.055556\n",
       "12    0.027778\n",
       "Name: probability, dtype: float64"
      ]
     },
     "execution_count": 26,
     "metadata": {},
     "output_type": "execute_result"
    }
   ],
   "source": [
    "z_probabilities = z.groupby('value')['probability'].sum()\n",
    "\n",
    "z_probabilities"
   ]
  },
  {
   "cell_type": "code",
   "execution_count": 27,
   "metadata": {},
   "outputs": [],
   "source": [
    "from matplotlib import pyplot as plt\n",
    "plt.style.use('seaborn-whitegrid')"
   ]
  },
  {
   "cell_type": "code",
   "execution_count": 28,
   "metadata": {},
   "outputs": [
    {
     "data": {
      "text/plain": [
       "[<matplotlib.lines.Line2D at 0x114ea7400>]"
      ]
     },
     "execution_count": 28,
     "metadata": {},
     "output_type": "execute_result"
    },
    {
     "data": {
      "image/png": "[encoded data removed]",
      "text/plain": [
       "<Figure size 432x288 with 1 Axes>"
      ]
     },
     "metadata": {},
     "output_type": "display_data"
    }
   ],
   "source": [
    "plt.plot(z_probabilities)"
   ]
  },
  {
   "cell_type": "markdown",
   "metadata": {},
   "source": [
    "__Математическим ожиданием__ случайной величины $X$ называется среднее значение величины $X$ при стремлении количества испытаний к бесконечности. Обозначается $M(X)$.\n",
    "\n",
    "Если $X$ — дискретная случайная величина, принимающая значения $x_i$ с вероятностями $p_i = P(X = x_i)$, $i = 1,2, \\dots$, то\n",
    "    $$M(X) = \\displaystyle\\sum_i p_i x_i = p_1 x_1 + p_2 x_2 + \\dots$$"
   ]
  },
  {
   "cell_type": "markdown",
   "metadata": {},
   "source": [
    "__Пример 5__\n",
    "\n",
    "Посчитаем математическое ожидание случайной величины из примера 2."
   ]
  },
  {
   "cell_type": "code",
   "execution_count": 29,
   "metadata": {},
   "outputs": [
    {
     "name": "stdout",
     "output_type": "stream",
     "text": [
      "[ 2  3  4  5  6  7  8  9 10 11 12]\n"
     ]
    }
   ],
   "source": [
    "x_values = np.arange(2, 13)\n",
    "\n",
    "print(x_values)"
   ]
  },
  {
   "cell_type": "code",
   "execution_count": 30,
   "metadata": {},
   "outputs": [
    {
     "name": "stdout",
     "output_type": "stream",
     "text": [
      "[0.02777778 0.05555556 0.08333333 0.11111111 0.13888889 0.16666667\n",
      " 0.13888889 0.11111111 0.08333333 0.05555556 0.02777778]\n"
     ]
    }
   ],
   "source": [
    "x_probabilities = np.array([1, 2, 3, 4, 5, 6, 5, 4, 3, 2, 1]) / 36\n",
    "\n",
    "print(x_probabilities)"
   ]
  },
  {
   "cell_type": "markdown",
   "metadata": {},
   "source": [
    "Чтобы посчитать математическое ожидание, нужно поэлементно перемножить значения этих двух массивов (первый с первым, второй со вторым и т.д.), затем сложить результаты:"
   ]
  },
  {
   "cell_type": "code",
   "execution_count": 31,
   "metadata": {},
   "outputs": [
    {
     "name": "stdout",
     "output_type": "stream",
     "text": [
      "6.999999999999998\n"
     ]
    }
   ],
   "source": [
    "m = (x_values * x_probabilities).sum()\n",
    "\n",
    "print(m)"
   ]
  },
  {
   "cell_type": "markdown",
   "metadata": {},
   "source": [
    "__Дисперсией__ случайной величины $X$ называется математическое ожидание квадрата отклонения случайной величины от её математического ожидания:\n",
    "$$D(X) = M \\left( (X - M(X))^2 \\right).$$\n",
    "\n",
    "Дисперсия является мерой разброса случайной величины относительно её среднего значения. "
   ]
  },
  {
   "cell_type": "markdown",
   "metadata": {},
   "source": [
    "__Пример 6__\n",
    "\n",
    "Посчитаем дисперсию случайной величины из примера 2. Её математическое ожидание мы уже считали, оно равно:"
   ]
  },
  {
   "cell_type": "code",
   "execution_count": 32,
   "metadata": {},
   "outputs": [
    {
     "data": {
      "text/plain": [
       "7"
      ]
     },
     "execution_count": 32,
     "metadata": {},
     "output_type": "execute_result"
    }
   ],
   "source": [
    "m = 7\n",
    "m"
   ]
  },
  {
   "cell_type": "markdown",
   "metadata": {},
   "source": [
    "Далее, определим случайную величину $Y = X - M(X)$. Она будет принимать значения:"
   ]
  },
  {
   "cell_type": "code",
   "execution_count": 33,
   "metadata": {},
   "outputs": [
    {
     "name": "stdout",
     "output_type": "stream",
     "text": [
      "[-5 -4 -3 -2 -1  0  1  2  3  4  5]\n"
     ]
    }
   ],
   "source": [
    "y_values = x_values - m\n",
    "\n",
    "print(y_values)"
   ]
  },
  {
   "cell_type": "markdown",
   "metadata": {},
   "source": [
    "Отметим, что распределения вероятностей у величины $Y$ такое же, что и у $X$.\n",
    "\n",
    "Далее, возведём эту величину в квадрат, тем самым получим новую случайную величину $Z$ со всё еще таким же распределением вероятностей:"
   ]
  },
  {
   "cell_type": "code",
   "execution_count": 34,
   "metadata": {},
   "outputs": [
    {
     "name": "stdout",
     "output_type": "stream",
     "text": [
      "[25 16  9  4  1  0  1  4  9 16 25]\n"
     ]
    }
   ],
   "source": [
    "z_values = y_values ** 2\n",
    "\n",
    "print(z_values)"
   ]
  },
  {
   "cell_type": "markdown",
   "metadata": {},
   "source": [
    "Итак, дисперсия случайной величины $X$ равна:"
   ]
  },
  {
   "cell_type": "code",
   "execution_count": 35,
   "metadata": {},
   "outputs": [
    {
     "name": "stdout",
     "output_type": "stream",
     "text": [
      "5.833333333333334\n"
     ]
    }
   ],
   "source": [
    "d = (z_values * x_probabilities).sum()\n",
    "\n",
    "print(d)"
   ]
  },
  {
   "cell_type": "markdown",
   "metadata": {},
   "source": [
    "### Законы распределения случайных величин\n",
    "\n",
    "Пусть имеется некоторое событие $A$, которое наступает с вероятностью $p$. __Биномиальный закон__ описывает распределение случайной величины $X$, задающей число наступлений события $A$ в ходе проведения $n$ независимых опытов.\n",
    "\n",
    "Биномиальный закон распределения описывается __формулой Бернулли__:\n",
    "$$P(X = k) = C_n^k p^k (1 - p)^{n - k}$$"
   ]
  },
  {
   "cell_type": "markdown",
   "metadata": {},
   "source": [
    "__Пример 7__\n",
    "\n",
    "Доказать формулу Бернулли довольно легко, используя уже известные нам правила комбинаторики. То, что событие $A$ в результате проведения $n$ независимых опытов наступило $k$ раз означает, что $n - k$ раз наступило событие $\\overline{A}$. Вероятность наступления такого события равна $1 - p$. \n",
    "\n",
    "При этом наступить событие $A$ могло в любые $k$ «моментов» из $n$, поэтому число вариантов таких «моментов» равно $C_n^k$. Наконец, эксперименты проводились независимо, поэтому итоговая вероятность равна $C_n^k p^k (1 - p)^{n - k}$.\n",
    "\n",
    "Математическое ожидание и дисперсию для биномиально распределённой дискретной величины можно вычислить по формулам:\n",
    "$$M(X) = np, \\: D(X) = np(1 - p).$$"
   ]
  },
  {
   "cell_type": "markdown",
   "metadata": {},
   "source": [
    "__Пример 8__\n",
    "\n",
    "Посчитаем распределение числа выпаданий орла при трёхкратном подбрасывании монеты. Возможные значения такой случайной величины: $x_1 = 0$, $x_2 = 1$, $x_3 = 2$, $x_4 = 3$.\n",
    "\n",
    "Посчитаем вероятность каждого значения:\n",
    "$$P(X = 0) = C_n^k p^k (1 - p)^{n - k} = C_3^0 \\cdot 0.5^0 \\cdot 0.5^3 = \\frac{3!}{0! \\: (3-0)!} \\cdot 0.5^0 \\cdot 0.5^3 = 1 \\cdot 1 \\cdot 0.125 = 0.125.$$\n",
    "$$P(X = 1) = C_3^1 \\cdot 0.5^1 \\cdot 0.5^2 = \\frac{3!}{1! \\: 2!} \\cdot 0.5^1 \\cdot 0.5^2 = 3 \\cdot 0.5 \\cdot 0.25 = 0.375.$$\n",
    "$$P(X = 2) = C_3^2 \\cdot 0.5^2 \\cdot 0.5^1 = \\frac{3!}{2! \\: 1!} \\cdot 0.5^2 \\cdot 0.5^1 = 0.375.$$\n",
    "$$P(X = 3) = C_3^3 \\cdot 0.5^3 \\cdot 0.5^0 = \\frac{3!}{3! \\: 0!} \\cdot 0.5^3 \\cdot 0.5^0 = 0.125.$$\n",
    "\n",
    "Итак, закон распределения такой случайной величины:\n",
    "\n",
    "<table border=\"3\">\n",
    "    <tr>\n",
    "        <th>$x$</th>\n",
    "        <td>0</td>\n",
    "        <td>1</td>\n",
    "        <td>2</td>\n",
    "        <td>3</td>\n",
    "    </tr>\n",
    "    <tr>\n",
    "        <th>$P(X = x)$</th>\n",
    "        <td>0.125</td>\n",
    "        <td>0.375</td>\n",
    "        <td>0.375</td>\n",
    "        <td>0.125</td>\n",
    "    </tr>\n",
    "</table>"
   ]
  },
  {
   "cell_type": "code",
   "execution_count": 36,
   "metadata": {},
   "outputs": [
    {
     "data": {
      "text/plain": [
       "[<matplotlib.lines.Line2D at 0x114f8c5b0>]"
      ]
     },
     "execution_count": 36,
     "metadata": {},
     "output_type": "execute_result"
    },
    {
     "data": {
      "image/png": "[encoded data removed]",
      "text/plain": [
       "<Figure size 432x288 with 1 Axes>"
      ]
     },
     "metadata": {},
     "output_type": "display_data"
    }
   ],
   "source": [
    "plt.plot([1 / 8, 3 / 8, 3 / 8, 1 / 8])"
   ]
  },
  {
   "cell_type": "markdown",
   "metadata": {},
   "source": [
    "__Пример 9__\n",
    "\n",
    "Посчитаем математическое ожидание распределения из предыдущего примера. Поскольку $n = 3$ и $p = 0.5$, получаем:\n",
    "$$M(X) = 3 \\cdot 0.5 = 1.5.$$\n",
    "\n",
    "Результат можно понимать так: в среднем при трёхкратном подбрасывании монеты орёл выпадает $1.5$ раза.\n",
    "\n",
    "Дисперсия такой величины:\n",
    "$$D(X) = 3 \\cdot 0.5 \\cdot (1 - 0.5) = 0.75.$$"
   ]
  },
  {
   "cell_type": "markdown",
   "metadata": {},
   "source": [
    "__Распределение Пуассона__\n",
    "\n",
    "Допустим теперь, что имеется некоторый поток событий, такой, что в среднем за единицу времени событие наступает $\\lambda$ раз (т.е. с _интенсивностью_ $\\lambda$). Тогда случайная величина $X$, равная количеству наступлений события за единицу времени, имеет __распределение Пуассона__ с параметром $\\lambda$.\n",
    "\n",
    "Случайная величина $X$ принимает значения $0, 1, 2, \\dots$ (счётное множество значений), а соответствующие вероятности выражаются __формулой Пуассона__:\n",
    "$$P(X = k) = \\dfrac{\\lambda^k e^{-\\lambda}}{k!}$$\n",
    "\n",
    "Здесь $\\lambda$ — положительное вещественное число.\n",
    "\n",
    "Как мы уже отметили, распределение Пуассона описывает счётчики событий, наступивших за единицу времени. Например, распределение Пуассона описывает:\n",
    "* число бракованных деталей в партии фиксированного размера,\n",
    "* число опечаток в тексте фиксированного размера,\n",
    "* число автобусов, проехавших за фиксированное время мимо автобусной остановки.\n",
    "\n",
    "Математическое ожидание и дисперсия распределения Пуассона равны:\n",
    "$$M(X) = D(X) = \\lambda$$\n",
    "\n",
    "Распределение Пуассона является предельным случаем биномиального. Если в последнем имеется очень большое число экспериментов ($n \\rightarrow \\infty$), а вероятность наступления события $A$ достаточно мала (можно считать, что $p \\approx \\lambda/n$), то такое распределение становится очень похоже на распределение Пуассона с параметром $\\lambda = np$."
   ]
  },
  {
   "cell_type": "markdown",
   "metadata": {},
   "source": [
    "__Пример 10__\n",
    "\n",
    "В среднем за час мимо автобусной остановки проезжают 30 автобусов. Какова вероятность, что за час мимо остановки проедут: а) 30 автобусов? б) не более 15 автобусов? в) более 50 автобусов?\n",
    "\n",
    "Для решения первого пункта достаточно прямо применить формулу Пуассона:\n",
    "$$P(X = 30) = \\dfrac{30^{30} e^{-30}}{30!}$$"
   ]
  },
  {
   "cell_type": "code",
   "execution_count": 37,
   "metadata": {},
   "outputs": [],
   "source": [
    "def poisson_proba(k: int, lambda_: float) -> float:\n",
    "    \"\"\"Формула Пуассона.\n",
    "    \"\"\"\n",
    "    \n",
    "    return (lambda_ ** k) * (np.exp(-lambda_)) / np.math.factorial(k)"
   ]
  },
  {
   "cell_type": "code",
   "execution_count": 38,
   "metadata": {},
   "outputs": [],
   "source": [
    "lambda_ = 30"
   ]
  },
  {
   "cell_type": "code",
   "execution_count": 39,
   "metadata": {
    "colab": {},
    "colab_type": "code",
    "id": "91FItk5GzdqS",
    "outputId": "8a82347b-b529-4f62-d0c1-a95ca84dedbb"
   },
   "outputs": [
    {
     "data": {
      "text/plain": [
       "0.07263452647159149"
      ]
     },
     "execution_count": 39,
     "metadata": {},
     "output_type": "execute_result"
    }
   ],
   "source": [
    "poisson_proba(k=30, lambda_=lambda_)"
   ]
  },
  {
   "cell_type": "markdown",
   "metadata": {},
   "source": [
    "Для решения второго пункта нужно сложить несколько вероятностей. Вероятность получить не более 15 автобусов предполагает получение от 0 до 15 автобусов:\n",
    "$$P(X \\leq 15) = \\displaystyle\\sum_{i = 0}^{15} \\dfrac{30^{i} e^{-30}}{i!}$$"
   ]
  },
  {
   "cell_type": "code",
   "execution_count": 40,
   "metadata": {},
   "outputs": [
    {
     "data": {
      "text/plain": [
       "0.0019474797778723065"
      ]
     },
     "execution_count": 40,
     "metadata": {},
     "output_type": "execute_result"
    }
   ],
   "source": [
    "sum(poisson_proba(k=i, lambda_=lambda_) for i in range(16))"
   ]
  },
  {
   "cell_type": "markdown",
   "metadata": {},
   "source": [
    "Последний пункт наиболее хитрый. Вероятность получить более 50 автобусов предполагает получение от 50... до скольки? В принципе число автобусов, проезжающих мимо автобусной остановки за час, не ограничено. Так что суммировать придётся до бесконечности, что невозможно.\n",
    "\n",
    "Пойдём другим способом. Мы знаем, что сумма вероятностей случайной величины всегда равна $1$. Значит, вероятность получить более 50 автобусов равна:\n",
    "$$P(X > 50) = 1 - P(X \\leq 50)$$"
   ]
  },
  {
   "cell_type": "code",
   "execution_count": 41,
   "metadata": {},
   "outputs": [
    {
     "data": {
      "text/plain": [
       "0.0002980129818267452"
      ]
     },
     "execution_count": 41,
     "metadata": {},
     "output_type": "execute_result"
    }
   ],
   "source": [
    "1 - sum(poisson_proba(k=i, lambda_=lambda_) for i in range(51))"
   ]
  },
  {
   "cell_type": "markdown",
   "metadata": {},
   "source": [
    "__Другие дискретные распределения__\n",
    "\n",
    "* __Распределение Бернулли__. Событие $A$ наступает с вероятностью $p$. Индикатор наступления этого события, т.е.\n",
    "$$X = \\begin{cases} 1, & \\text{событие $A$ произошло,} \\\\ 0 & \\text{иначе,} \\end{cases}$$\n",
    "имеет распределение Бернулли. Вероятности:\n",
    "$$P(X = 1) = p, \\:\\: P(X = 0) = 1 - p$$\n",
    "_Замечание_. Биномиальное распределение с параметрами $n$, $p$ является суммой $n$ распределений Бернулли с параметром $p$.\n",
    "* __Дискретное равномерное распределение__. Случайная величина $X$ принимает $n$ различных значений с одинаковой вероятностью $1/n$. Не путать с _непрерывным равномерным_.\n",
    "* __Геометрическое распределение__. Событие $A$ наступает с вероятностью $p$. Случайная величина $X$, равная числу независимых испытаний до первого наступления события $A$, имеет геометрическое распределение. Вероятности:\n",
    "$$P(X = k) = (1 - p)^k \\cdot p$$"
   ]
  },
  {
   "cell_type": "markdown",
   "metadata": {},
   "source": [
    "### Упражнения"
   ]
  },
  {
   "cell_type": "markdown",
   "metadata": {},
   "source": [
    "__Задача 1__\n",
    "\n",
    "Контрольная работа состоит из пяти вопросов. На каждый вопрос приведено четыре варианта ответа, один из которых правильный. Составьте закон распределения числа правильных ответов при простом угадывании. Найдите `M(X)`, `D(X)`.\n",
    "\n",
    "__Задача 2__\n",
    "\n",
    "Пользователь получает в среднем 10 писем со спамом на свой почтовый ящик за сутки. Найти число `N`, такое, что с вероятностью 0.95 пользователь получит не более `N` писем со спамом за текущий день.\n",
    "\n",
    "__Задача 3__\n",
    "\n",
    "Производятся выстрелы по мишени. Вероятность попадания в мишень при одном выстреле равна 0.01. Сколько выстрелов нужно сделать чтобы быть уверенным с вероятностью 0.9, что хотя бы 6 раз будет совершено попадание?\n",
    "\n",
    "_Подсказка_: 1) \"Вероятность попасть `k` раз при `n` выстрелах\" - на какое распределение это похоже? 2) А если нам нужна вероятность `P(X >= k)`, а не `P(X = k)`? 3) Здесь предстоит немножко покодить."
   ]
  }
 ],
 "metadata": {
  "colab": {
   "name": "Матстат - Урок 2.ipynb",
   "provenance": [],
   "version": "0.3.2"
  },
  "kernelspec": {
   "display_name": "Python 3",
   "language": "python",
   "name": "python3"
  },
  "language_info": {
   "codemirror_mode": {
    "name": "ipython",
    "version": 3
   },
   "file_extension": ".py",
   "mimetype": "text/x-python",
   "name": "python",
   "nbconvert_exporter": "python",
   "pygments_lexer": "ipython3",
   "version": "3.7.6"
  }
 },
 "nbformat": 4,
 "nbformat_minor": 4
}
