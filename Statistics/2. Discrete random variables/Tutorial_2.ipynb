{
 "cells": [
  {
   "cell_type": "markdown",
   "metadata": {
    "id": "npwZYcsXzdm8"
   },
   "source": [
    "## Урок 2\n",
    "### Дискретные случайные величины. Закон распределения вероятностей. \n",
    "\n",
    "### Биномиальный закон распределения. Распределение Пуассона"
   ]
  },
  {
   "cell_type": "markdown",
   "metadata": {
    "id": "nyAZkmuJzdnE"
   },
   "source": [
    "**Случайная величина** — та, которая в результате испытания принимает только одно возможное значение. \n",
    "\n",
    "Оно заранее не известно и может зависеть от множества случайных факторов. Случайные величины могут быть дискретными и непрерывными."
   ]
  },
  {
   "cell_type": "markdown",
   "metadata": {
    "id": "t_m7c5uAzdnK"
   },
   "source": [
    "**Дискретная случайная величина** принимает отделенные друг от друга значения. Например, в результате стократного подбрасывания монетки орел может выпасть 50 или 51 раз (целое число в диапазоне от 0 до 100 включительно), но не 50 с половиной. В данном случае число выпаданий орла — пример дискретной случайной величины."
   ]
  },
  {
   "cell_type": "code",
   "execution_count": null,
   "metadata": {
    "id": "Bi2hZ7UbzdnP"
   },
   "outputs": [],
   "source": [
    "import numpy as np"
   ]
  },
  {
   "cell_type": "markdown",
   "metadata": {
    "id": "dVutQlNpzdn0"
   },
   "source": [
    "**Пример 1**\n",
    "\n",
    "Смоделируем стократное подбрасывание монетки с помощью модуля **random** из библиотеки **numpy**. Результат будет дискретной случайной величиной — число выпаданий орла:"
   ]
  },
  {
   "cell_type": "code",
   "execution_count": null,
   "metadata": {
    "id": "KPHPGWZyzdn5",
    "outputId": "1a5eb150-bf24-4214-925e-b4a1f7c8fddf"
   },
   "outputs": [
    {
     "data": {
      "text/plain": [
       "52"
      ]
     },
     "execution_count": 14,
     "metadata": {
      "tags": []
     },
     "output_type": "execute_result"
    }
   ],
   "source": [
    "# n - число испытаний\n",
    "# p - вероятность появления события\n",
    "np.random.binomial(n=100, p=0.5)"
   ]
  },
  {
   "cell_type": "markdown",
   "metadata": {
    "id": "WI7z1STRzdoU"
   },
   "source": [
    "Клетку можно запускать несколько раз, число выпадений орла будет меняться."
   ]
  },
  {
   "cell_type": "markdown",
   "metadata": {
    "id": "rO8yeFzYzdoZ"
   },
   "source": [
    "**Пример 2**"
   ]
  },
  {
   "cell_type": "markdown",
   "metadata": {
    "id": "yQ6kwsqHzdoc"
   },
   "source": [
    "Еще один пример дискретной случайной величины — число дождливых дней летом.\n",
    "\n",
    "Летних дней всего 92, так что здесь мы можем получить случайное целое число из отрезка [0, 92]:"
   ]
  },
  {
   "cell_type": "code",
   "execution_count": null,
   "metadata": {
    "id": "gbOwKTkSzdoe",
    "outputId": "37f888c0-2dfa-46e8-b7e3-162942c1d557"
   },
   "outputs": [
    {
     "data": {
      "text/plain": [
       "42"
      ]
     },
     "execution_count": 16,
     "metadata": {
      "tags": []
     },
     "output_type": "execute_result"
    }
   ],
   "source": [
    "np.random.randint(0, 93)"
   ]
  },
  {
   "cell_type": "markdown",
   "metadata": {
    "id": "U-xocIHqzdop"
   },
   "source": [
    "**Пример 3**"
   ]
  },
  {
   "cell_type": "markdown",
   "metadata": {
    "id": "VXKmfth7zdor"
   },
   "source": [
    "Есть также примеры дискретных величин без верхней границы. Например, число метеоритов, упавших на Землю за год, может принимать счетное множество значений от 0 до плюс бесконечности."
   ]
  },
  {
   "cell_type": "markdown",
   "metadata": {
    "id": "Qvi5B5dHzdou"
   },
   "source": [
    "**Закон распределения вероятностей** дискретной случайной величины — это соответствие между возможными значениями этой величины и вероятностями, которые этим значениям соответствуют."
   ]
  },
  {
   "cell_type": "markdown",
   "metadata": {
    "id": "_J86_Xbqzdow"
   },
   "source": [
    "Закон распределения вероятностей можно представить в виде таблицы. Составим ее для количества выпаданий орла при трехкратном подбрасывании монеты:"
   ]
  },
  {
   "cell_type": "markdown",
   "metadata": {
    "id": "rTYG_Zc5zdoz"
   },
   "source": [
    "<table border=\"3\">\n",
    "<tr><th>**X**</th><td>0</td><td>1</td><td>2</td><td>3</td></tr>\n",
    "<tr><th>**p**</th><td>0.125</td><td>0.375</td><td>0.375</td><td>0.125</td></tr>\n",
    "</table>"
   ]
  },
  {
   "cell_type": "markdown",
   "metadata": {
    "id": "NpzyNAWZzdo1"
   },
   "source": [
    "Из таблицы видно, что вероятность того, что при трехкратном подбрасывании монетки орел выпадет, к примеру, два раза, равна 0.375."
   ]
  },
  {
   "cell_type": "markdown",
   "metadata": {
    "id": "hF8zgUM3zdo5"
   },
   "source": [
    "**Биномиальное распределение** — один из примеров дискретного распределения."
   ]
  },
  {
   "cell_type": "markdown",
   "metadata": {
    "id": "q_iXGKGWzdo8"
   },
   "source": [
    "Биномиальный закон распределения — это закон распределения числа $X=k$ наступлений события $A$ в $n$ независимых испытаниях, в каждом из которых оно может произойти с вероятностью $p$."
   ]
  },
  {
   "cell_type": "markdown",
   "metadata": {
    "id": "QtFn-eBlzdo-"
   },
   "source": [
    "Число наступления события — это дискретная величина из отрезка [0, $n$]. Вероятности возможных значений этой величины определяются по формуле Бернулли:"
   ]
  },
  {
   "cell_type": "markdown",
   "metadata": {
    "id": "TkoOchWqzdpB"
   },
   "source": [
    "$$P_n(X=k) = C_n^k p^k q^{n-k}$$"
   ]
  },
  {
   "cell_type": "markdown",
   "metadata": {
    "id": "Sb0K-V-jzdpE"
   },
   "source": [
    "где $p$ — это вероятность наступления события $A$ в $n$ независимых испытаниях, a $q = 1 - p$."
   ]
  },
  {
   "cell_type": "markdown",
   "metadata": {
    "id": "EqTMvz9fzdpH"
   },
   "source": [
    "Математическое ожидание для биномиально распределенной дискретной величины можно вычислить по формуле:"
   ]
  },
  {
   "cell_type": "markdown",
   "metadata": {
    "id": "D5HaYkbgzdpK"
   },
   "source": [
    "$$M(X) = np$$"
   ]
  },
  {
   "cell_type": "markdown",
   "metadata": {
    "id": "XiPEiZ4YzdpL"
   },
   "source": [
    "Дисперсия для биномиально распределенной дискретной величины вычисляется так:"
   ]
  },
  {
   "cell_type": "markdown",
   "metadata": {
    "id": "22AP6paZzdpP"
   },
   "source": [
    "$$D(X) = npq$$"
   ]
  },
  {
   "cell_type": "markdown",
   "metadata": {
    "id": "N5sKWGxhzdpT"
   },
   "source": [
    "**Пример 4**"
   ]
  },
  {
   "cell_type": "markdown",
   "metadata": {
    "id": "NCchv5yczdpW"
   },
   "source": [
    "Еще раз приведем таблицу вероятностей выпадания орла при трехкратном подбрасывании монеты. С помощью формулы Бернулли покажем, как вычисляются эти вероятности:"
   ]
  },
  {
   "cell_type": "markdown",
   "metadata": {
    "id": "PLJ94aIvzdpX"
   },
   "source": [
    "<table border=\"3\">\n",
    "<tr><th>**X**</th><td>0</td><td>1</td><td>2</td><td>3</td></tr>\n",
    "<tr><th>**p**</th><td>0.125</td><td>0.375</td><td>0.375</td><td>0.125</td></tr>\n",
    "</table>"
   ]
  },
  {
   "cell_type": "markdown",
   "metadata": {
    "id": "4AkrIqthzdpZ"
   },
   "source": [
    "$$p(k=0) = C_n^kp^kq^{n-k} = C_3^0p^0q^3 = \\frac{3!}{0!(3-0)!} \\cdot 0.5^0 \\cdot 0.5^3 = 1 \\cdot 1 \\cdot 0.125 = 0.125$$"
   ]
  },
  {
   "cell_type": "markdown",
   "metadata": {
    "id": "V_ngyqNczdpc"
   },
   "source": [
    "$$p(k=1) = C_n^kp^kq^{n-k} = C_3^1p^1q^2 = \\frac{3!}{1!(3-1)!} \\cdot 0.5^1 \\cdot 0.5^2 = 3 \\cdot 0.5 \\cdot 0.25 = 0.375$$"
   ]
  },
  {
   "cell_type": "markdown",
   "metadata": {
    "id": "Sen4UGXHzdpe"
   },
   "source": [
    "$$p(k=2) = C_n^kp^kq^{n-k} = C_3^2p^2q^1 = \\frac{3!}{2!(3-2)!} \\cdot 0.5^2 \\cdot 0.5^1 = 3 \\cdot 0.25 \\cdot 0.5 = 0.375$$"
   ]
  },
  {
   "cell_type": "markdown",
   "metadata": {
    "id": "y4GVm31ozdpi"
   },
   "source": [
    "$$p(k=3) = C_n^kp^kq^{n-k} = C_3^3p^3q^0 = \\frac{3!}{3!(3-3)!} \\cdot 0.5^3 \\cdot 0.5^0 = 1 \\cdot 0.125 \\cdot 1 = 0.125$$"
   ]
  },
  {
   "cell_type": "markdown",
   "metadata": {
    "id": "Cr2UwCsszdpm"
   },
   "source": [
    "**Пример 5**"
   ]
  },
  {
   "cell_type": "markdown",
   "metadata": {
    "id": "yZPbYTf0zdpp"
   },
   "source": [
    "Будем находить математическое ожидание для биномиального распределения из предыдущего примера."
   ]
  },
  {
   "cell_type": "markdown",
   "metadata": {
    "id": "ffsAtr8Jzdpq"
   },
   "source": [
    "Параметр $n$ равняется 3, так как монету побрасывают три раза, а вероятность выпадания орла $p$ равняется 0.5.\n",
    "\n",
    "Посчитаем математическое ожидание:"
   ]
  },
  {
   "cell_type": "markdown",
   "metadata": {
    "id": "LySdLS6pzdpt"
   },
   "source": [
    "$$M(X) = np = 3 \\cdot 0.5 = 1.5$$"
   ]
  },
  {
   "cell_type": "markdown",
   "metadata": {
    "id": "iMWZ-HPlzdpv"
   },
   "source": [
    "Результат можно понимать так: в среднем при трехкратном подбрасывании монеты орел выпадает 1.5 раза.\n",
    "\n",
    "Теперь посчитаем дисперсию, зная, что величина $q$ (вероятность невыпадания орла, то есть выпадания решки) равна также 0.5:"
   ]
  },
  {
   "cell_type": "markdown",
   "metadata": {
    "id": "KBwQDIfdzdpw"
   },
   "source": [
    "$$D(X) = npq = 3 \\cdot 0.5 \\cdot 0.5 = 0.75$$"
   ]
  },
  {
   "cell_type": "markdown",
   "metadata": {
    "id": "_p5BwNINzdp4"
   },
   "source": [
    "**Распределение Пуассона**"
   ]
  },
  {
   "cell_type": "markdown",
   "metadata": {
    "id": "yF0eGp9Yzdp7"
   },
   "source": [
    "Если проводится большое количество испытаний $n$ и при этом вероятность $p$ появления события $A$ в отдельном испытании мала, применяют формулу Пуассона для вычисления вероятности того, что событие произойдет $m$ раз в $n$ испытаниях:"
   ]
  },
  {
   "cell_type": "markdown",
   "metadata": {
    "id": "Z153O9Ptzdp-"
   },
   "source": [
    "$$P_m \\approx \\frac{\\lambda^m}{m!}e^{-\\lambda}$$"
   ]
  },
  {
   "cell_type": "markdown",
   "metadata": {
    "id": "9h6NXlgbzdqC"
   },
   "source": [
    "где $λ = np$."
   ]
  },
  {
   "cell_type": "markdown",
   "metadata": {
    "id": "8aFPW32NzdqE"
   },
   "source": [
    "Распределение Пуассона и формула Пуассона часто применяются в теории массового обслуживания (ТМО).\n",
    "\n",
    "ТМО — это раздел теории вероятностей, в котором исследуется рациональный выбор структуры системы обслуживания и его процесса. В основе теории — изучение потоков требований на обслуживание, поступающих в систему и выходящих из нее, длительности ожидания и длины очередей."
   ]
  },
  {
   "cell_type": "markdown",
   "metadata": {
    "id": "qZ2hbwnkzdqG"
   },
   "source": [
    "**Пример 6**"
   ]
  },
  {
   "cell_type": "markdown",
   "metadata": {
    "id": "g6yXxtKyzdqJ"
   },
   "source": [
    "Вероятность того, что среди писем, поступающих на определенный почтовый ящик, встретится письмо со спамом, составляет 0.01.\n",
    "\n",
    "Найдите вероятность того, что среди 1000 писем, поступивших на него за месяц, будет 11 со спамом."
   ]
  },
  {
   "cell_type": "markdown",
   "metadata": {
    "id": "fGFN5b_gzdqM"
   },
   "source": [
    "Применим формулу Пуассона, зная, что $m = 11$ и $λ = np = 1000 \\cdot 0.01 = 10$:"
   ]
  },
  {
   "cell_type": "markdown",
   "metadata": {
    "id": "uoxO_pAezdqN"
   },
   "source": [
    "$$P_{11} \\approx \\frac{\\lambda^m}{m!}e^{-\\lambda} \\approx \\frac{10^{11}}{11!}e^{-10} \\approx  0.1137$$"
   ]
  },
  {
   "cell_type": "markdown",
   "metadata": {
    "id": "3Odoc8GbzdqP"
   },
   "source": [
    "Если использовать Python для расчетов, можно вычислить вероятность:"
   ]
  },
  {
   "cell_type": "code",
   "execution_count": null,
   "metadata": {
    "id": "91FItk5GzdqS",
    "outputId": "8a82347b-b529-4f62-d0c1-a95ca84dedbb"
   },
   "outputs": [
    {
     "data": {
      "text/plain": [
       "0.11373639611012119"
      ]
     },
     "execution_count": 44,
     "metadata": {
      "tags": []
     },
     "output_type": "execute_result"
    }
   ],
   "source": [
    "n = 1000\n",
    "m = 11\n",
    "p = 0.01\n",
    "lambda_ = n * p\n",
    "\n",
    "(lambda_**m / np.math.factorial(m)) * np.exp(-lambda_)"
   ]
  },
  {
   "cell_type": "code",
   "execution_count": null,
   "metadata": {
    "id": "9LWKHseJzdqj"
   },
   "outputs": [],
   "source": []
  }
 ],
 "metadata": {
  "colab": {
   "name": "Матстат - Урок 2.ipynb",
   "provenance": []
  },
  "kernelspec": {
   "display_name": "Python 3",
   "language": "python",
   "name": "python3"
  },
  "language_info": {
   "codemirror_mode": {
    "name": "ipython",
    "version": 3
   },
   "file_extension": ".py",
   "mimetype": "text/x-python",
   "name": "python",
   "nbconvert_exporter": "python",
   "pygments_lexer": "ipython3",
   "version": "3.7.6"
  }
 },
 "nbformat": 4,
 "nbformat_minor": 1
}
