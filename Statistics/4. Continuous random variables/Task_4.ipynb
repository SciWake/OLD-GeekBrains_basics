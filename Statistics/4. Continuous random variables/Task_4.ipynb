{
 "cells": [
  {
   "cell_type": "markdown",
   "metadata": {},
   "source": [
    "# Урок 4\n",
    "## Непрерывные случайные величины. Функция распределения и плотность распределения вероятностей. Равномерное и нормальное распределение. Центральная предельная теорема"
   ]
  },
  {
   "cell_type": "code",
   "execution_count": 1,
   "metadata": {},
   "outputs": [],
   "source": [
    "import pandas as pd\n",
    "import numpy as np\n",
    "from matplotlib import pyplot as plt\n",
    "from scipy.stats import norm\n",
    "\n",
    "%config InlineBackend.figure_formats = ['svg']\n",
    "\n",
    "plt.style.use('seaborn-whitegrid')\n",
    "plt.rcParams['figure.facecolor'] = 'white'"
   ]
  },
  {
   "cell_type": "markdown",
   "metadata": {},
   "source": [
    "### Задача 1\n",
    "\n",
    "О непрерывной равномерно распределённой случайной величине $B$ известно, что её дисперсия равна $0,2$. Можно ли найти правую границу величины $B$ и её среднее значение зная, что левая граница равна $0,5$? Если да, найдите их."
   ]
  },
  {
   "cell_type": "markdown",
   "metadata": {},
   "source": [
    "Да, найти можно, так как распределение равномерное"
   ]
  },
  {
   "cell_type": "markdown",
   "metadata": {},
   "source": [
    "$$f(x) = \\begin{cases} 0, если \\; x \\le a; \\\\ \\frac{1}{b - a}, если \\; a < x \\le b; \\\\ 0, \\; если \\; x > b. \\end{cases}$$"
   ]
  },
  {
   "cell_type": "markdown",
   "metadata": {},
   "source": [
    "Для равномерного распределения из дисперсии"
   ]
  },
  {
   "cell_type": "markdown",
   "metadata": {},
   "source": [
    "$$D(X) = \\frac{(b - a)^2}{12}$$"
   ]
  },
  {
   "cell_type": "markdown",
   "metadata": {},
   "source": [
    "найдем правую границу"
   ]
  },
  {
   "cell_type": "markdown",
   "metadata": {},
   "source": [
    "$$b = a + \\sqrt{12 \\cdot D(X)} = 0,5 + \\sqrt{12 \\cdot 0,2} = 0,5 + \\sqrt{2,4} = 0,5 + 1,5492 = 2,0492$$"
   ]
  },
  {
   "cell_type": "markdown",
   "metadata": {},
   "source": [
    "Найдем среднее значение"
   ]
  },
  {
   "cell_type": "markdown",
   "metadata": {},
   "source": [
    "$$M(X) = \\frac{a + b}{2} = \\frac{0,5 + 2,0492}{2} = 1,2746$$"
   ]
  },
  {
   "cell_type": "markdown",
   "metadata": {},
   "source": [
    "### Задача 2\n",
    "\n",
    "Коробки с шоколадом упаковываются автоматически. Их средняя масса равна $1,06$ кг. Известно, что $5$% коробок имеют массу, меньшую $1$ кг. Найдите: а) среднее квадратическое отклонение массы коробки, б) процент коробок, имеющих массу больше $1,1$ кг.\n",
    "\n",
    "Подсказка. Найдите такое значение __scale__, для которого значение __cdf(x=1, loc=1.06, scale=scale)__ близко к $0,05$. Точности $0,0001$ будет достаточно."
   ]
  },
  {
   "cell_type": "markdown",
   "metadata": {},
   "source": [
    "Масса шоколада нормально распределена"
   ]
  },
  {
   "cell_type": "markdown",
   "metadata": {},
   "source": [
    "$$f(x) = \\dfrac{1}{\\sqrt{2 \\pi \\sigma^2}} \\cdot \\exp \\left(- \\frac{(x - a)^2}{2 \\sigma^2} \\right)$$"
   ]
  },
  {
   "cell_type": "markdown",
   "metadata": {},
   "source": [
    "возле среднего"
   ]
  },
  {
   "cell_type": "markdown",
   "metadata": {},
   "source": [
    "$$M(X) = a = 1,06$$"
   ]
  },
  {
   "cell_type": "markdown",
   "metadata": {},
   "source": [
    "__norm.cdf(x, loc, scale)__ - функция распределения нормального распределения.\n",
    "- __x__ - некоторая переменная распределения, в нашем случае 1\n",
    "- __loc__ - среднее значение в нашем случае 1,06\n",
    "- __scale__ - стандартное отклонение (среднеквадратичное отклонение), неизвестно, надо подобрать"
   ]
  },
  {
   "cell_type": "markdown",
   "metadata": {},
   "source": [
    "Надо подобрать __scale__ таким образом, чтобы $norm.cdf(x=1, loc=1,06, scale=?) - 0,05 < 0,0001$"
   ]
  },
  {
   "cell_type": "markdown",
   "metadata": {},
   "source": [
    "Подбираем вручную"
   ]
  },
  {
   "cell_type": "code",
   "execution_count": 2,
   "metadata": {},
   "outputs": [],
   "source": [
    "scl = .03647740991470618"
   ]
  },
  {
   "cell_type": "code",
   "execution_count": 3,
   "metadata": {},
   "outputs": [
    {
     "data": {
      "text/plain": [
       "0.050000000000000044"
      ]
     },
     "execution_count": 3,
     "metadata": {},
     "output_type": "execute_result"
    }
   ],
   "source": [
    "norm.cdf(x=1,loc=1.06,scale=scl)"
   ]
  },
  {
   "cell_type": "code",
   "execution_count": 4,
   "metadata": {},
   "outputs": [
    {
     "name": "stdout",
     "output_type": "stream",
     "text": [
      "True\n"
     ]
    }
   ],
   "source": [
    "print(norm.cdf(x=1,loc=1.06,scale=scl) - 0.05 < 0.0001)"
   ]
  },
  {
   "cell_type": "markdown",
   "metadata": {},
   "source": [
    "Среднеквадратическое отклонение"
   ]
  },
  {
   "cell_type": "markdown",
   "metadata": {},
   "source": [
    "$$D(X) = \\sigma^2 = 0,03647745$$"
   ]
  },
  {
   "cell_type": "markdown",
   "metadata": {},
   "source": [
    "Чтобы найти процент коробок, имеющих массу больше $1,1$ кг надо сначала найти процент коробок, имеющих массу меньшую $1,1$ кг и затем найденный процент вычесть из $100$%."
   ]
  },
  {
   "cell_type": "code",
   "execution_count": 5,
   "metadata": {},
   "outputs": [
    {
     "data": {
      "text/plain": [
       "0.1364149040409519"
      ]
     },
     "execution_count": 5,
     "metadata": {},
     "output_type": "execute_result"
    }
   ],
   "source": [
    "1 - norm.cdf(x=1.1,loc=1.06,scale=scl)"
   ]
  },
  {
   "cell_type": "markdown",
   "metadata": {},
   "source": [
    "### Задача 3\n",
    "\n",
    "Коробка содержит $30$ конфет. Известно, что масса каждой конфеты распределена равномерно в промежутке от $12$ до $14$ граммов. Используя центральную предельную теорему, найти вероятность, что масса всей коробки будет: а) меньше $390$ граммов, б) больше $395$ граммов, в) от $380$ до $400$ граммов.\n",
    "\n",
    "Массой самой коробки можно пренебречь."
   ]
  },
  {
   "cell_type": "markdown",
   "metadata": {},
   "source": [
    "Масса каждой конфеты распределена равномерно, следовательно наше распределение равномерное"
   ]
  },
  {
   "cell_type": "markdown",
   "metadata": {},
   "source": [
    "$$f(x) = \\begin{cases} 0, если \\; x \\le a; \\\\ \\frac{1}{b - a}, если \\; a < x \\le b; \\\\ 0, \\; если \\; x > b. \\end{cases}$$"
   ]
  },
  {
   "cell_type": "markdown",
   "metadata": {},
   "source": [
    "в диапазоне от $a = 12$ до $b = 14$"
   ]
  },
  {
   "cell_type": "markdown",
   "metadata": {},
   "source": [
    "Среднее получается"
   ]
  },
  {
   "cell_type": "markdown",
   "metadata": {},
   "source": [
    "$$M(X) = \\frac{a + b}{2} = \\frac{12 + 14}{2} = 13$$"
   ]
  },
  {
   "cell_type": "markdown",
   "metadata": {},
   "source": [
    "А среднеквадратическое отклонение"
   ]
  },
  {
   "cell_type": "markdown",
   "metadata": {},
   "source": [
    "$$D(X) = \\frac{(14 - 12)^2}{12} = \\frac{4}{12} = \\frac{1}{3}$$"
   ]
  },
  {
   "cell_type": "markdown",
   "metadata": {},
   "source": [
    "Согласно центральной предельной теореме"
   ]
  },
  {
   "cell_type": "markdown",
   "metadata": {},
   "source": [
    "$$n = 30, \\:\\: a = n \\cdot M(X), \\:\\: \\sigma^2 = n \\cdot D(X)$$"
   ]
  },
  {
   "cell_type": "markdown",
   "metadata": {},
   "source": [
    "$$a = 30 \\cdot 13 = 390$$"
   ]
  },
  {
   "cell_type": "markdown",
   "metadata": {},
   "source": [
    "$$\\sigma^2 = 30 \\cdot \\frac{1}{3} = 10$$"
   ]
  },
  {
   "cell_type": "markdown",
   "metadata": {},
   "source": [
    "Отсюда"
   ]
  },
  {
   "cell_type": "markdown",
   "metadata": {},
   "source": [
    "$$scale = \\sqrt{\\sigma^2} = \\sqrt{10} = 3,16227766017$$"
   ]
  },
  {
   "cell_type": "markdown",
   "metadata": {},
   "source": [
    "а) меньше  $390$  граммов"
   ]
  },
  {
   "cell_type": "code",
   "execution_count": 6,
   "metadata": {},
   "outputs": [
    {
     "data": {
      "text/plain": [
       "0.5"
      ]
     },
     "execution_count": 6,
     "metadata": {},
     "output_type": "execute_result"
    }
   ],
   "source": [
    "norm.cdf(x=390,loc=390,scale=3.16227766017)"
   ]
  },
  {
   "cell_type": "markdown",
   "metadata": {},
   "source": [
    "б) больше  $395$  граммов"
   ]
  },
  {
   "cell_type": "code",
   "execution_count": 7,
   "metadata": {},
   "outputs": [
    {
     "data": {
      "text/plain": [
       "0.05692314900342166"
      ]
     },
     "execution_count": 7,
     "metadata": {},
     "output_type": "execute_result"
    }
   ],
   "source": [
    "1 - norm.cdf(x=395,loc=390,scale=3.16227766017)"
   ]
  },
  {
   "cell_type": "markdown",
   "metadata": {},
   "source": [
    "в) от $380$ до $400$ граммов"
   ]
  },
  {
   "cell_type": "code",
   "execution_count": 8,
   "metadata": {},
   "outputs": [
    {
     "data": {
      "text/plain": [
       "0.9984345977419888"
      ]
     },
     "execution_count": 8,
     "metadata": {},
     "output_type": "execute_result"
    }
   ],
   "source": [
    "norm.cdf(x=400,loc=390,scale=3.16227766017) - norm.cdf(x=380,loc=390,scale=3.16227766017)"
   ]
  }
 ],
 "metadata": {
  "kernelspec": {
   "display_name": "Python 3",
   "language": "python",
   "name": "python3"
  },
  "language_info": {
   "codemirror_mode": {
    "name": "ipython",
    "version": 3
   },
   "file_extension": ".py",
   "mimetype": "text/x-python",
   "name": "python",
   "nbconvert_exporter": "python",
   "pygments_lexer": "ipython3",
   "version": "3.7.6"
  }
 },
 "nbformat": 4,
 "nbformat_minor": 2
}
